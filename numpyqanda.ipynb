{
  "nbformat": 4,
  "nbformat_minor": 0,
  "metadata": {
    "colab": {
      "provenance": [],
      "authorship_tag": "ABX9TyNdPmBXS4dljN5WqbmX2Hsv",
      "include_colab_link": true
    },
    "kernelspec": {
      "name": "python3",
      "display_name": "Python 3"
    },
    "language_info": {
      "name": "python"
    }
  },
  "cells": [
    {
      "cell_type": "markdown",
      "metadata": {
        "id": "view-in-github",
        "colab_type": "text"
      },
      "source": [
        "<a href=\"https://colab.research.google.com/github/Divyanshpanchal960/python/blob/main/numpyqanda.ipynb\" target=\"_parent\"><img src=\"https://colab.research.google.com/assets/colab-badge.svg\" alt=\"Open In Colab\"/></a>"
      ]
    },
    {
      "cell_type": "code",
      "source": [
        "#array is a Collection of similar datatypes\n"
      ],
      "metadata": {
        "id": "vQvgmdm-Ix-o"
      },
      "execution_count": null,
      "outputs": []
    },
    {
      "cell_type": "code",
      "execution_count": 3,
      "metadata": {
        "id": "zaQoZbQhpXMb"
      },
      "outputs": [],
      "source": [
        "#Write statement to import numpy?\n",
        "import numpy as np"
      ]
    },
    {
      "cell_type": "code",
      "source": [
        "#create an array using numpy?\n",
        "import numpy as np\n",
        "array=np.array([1,2,3,4,5,6,7,8,9])\n",
        "array\n",
        "type(array)"
      ],
      "metadata": {
        "colab": {
          "base_uri": "https://localhost:8080/"
        },
        "id": "P573NMORpmFD",
        "outputId": "13dbf170-4d81-40cc-89fe-ecde8d8f7a16"
      },
      "execution_count": null,
      "outputs": [
        {
          "output_type": "execute_result",
          "data": {
            "text/plain": [
              "numpy.ndarray"
            ]
          },
          "metadata": {},
          "execution_count": 2
        }
      ]
    },
    {
      "cell_type": "code",
      "source": [
        "#create an array of 10 random integers?\n",
        "array=np.random.randint(1,20,10)\n",
        "print(array)\n",
        "type(array)"
      ],
      "metadata": {
        "colab": {
          "base_uri": "https://localhost:8080/"
        },
        "id": "cdnmOti3qBTz",
        "outputId": "72280178-c03a-4595-d8e1-3ad0282ee8f2"
      },
      "execution_count": null,
      "outputs": [
        {
          "output_type": "stream",
          "name": "stdout",
          "text": [
            "[11 13  7  7 19 12 18 18 10  6]\n"
          ]
        },
        {
          "output_type": "execute_result",
          "data": {
            "text/plain": [
              "numpy.ndarray"
            ]
          },
          "metadata": {},
          "execution_count": 8
        }
      ]
    },
    {
      "cell_type": "code",
      "source": [
        "#create an array of element from 10to20\n",
        "import numpy as np\n",
        "array=np.arange(10,20)\n",
        "print(array)\n",
        "#b=array.reshape((3,3))\n",
        "#print(b)"
      ],
      "metadata": {
        "colab": {
          "base_uri": "https://localhost:8080/"
        },
        "id": "tIyor0B5qeuz",
        "outputId": "b23da002-b322-4b83-fb24-5767ec0e7918"
      },
      "execution_count": null,
      "outputs": [
        {
          "output_type": "stream",
          "name": "stdout",
          "text": [
            "[10 11 12 13 14 15 16 17 18 19]\n"
          ]
        }
      ]
    },
    {
      "cell_type": "code",
      "source": [
        "#create an array which contains value 5,10times\n",
        "a=np.repeat(5,10)\n",
        "a\n",
        "\n",
        "\n"
      ],
      "metadata": {
        "id": "SZUOVN3mt9um",
        "colab": {
          "base_uri": "https://localhost:8080/"
        },
        "outputId": "0ffce041-5e3b-47ca-ad55-fdbf38f7701c"
      },
      "execution_count": 4,
      "outputs": [
        {
          "output_type": "execute_result",
          "data": {
            "text/plain": [
              "array([5, 5, 5, 5, 5, 5, 5, 5, 5, 5])"
            ]
          },
          "metadata": {},
          "execution_count": 4
        }
      ]
    },
    {
      "cell_type": "code",
      "source": [
        "#create an one dimenshional array and convert it into 3*3\n",
        "a=np.arange(1,10).reshape(3,3)\n",
        "a\n",
        "# a=np.array([1,2,3,4,5,6,7,8,9])\n",
        "# type(a)\n",
        "# a.ndim\n",
        "print(a.reshape(3,3))\n"
      ],
      "metadata": {
        "colab": {
          "base_uri": "https://localhost:8080/"
        },
        "id": "yAJcvWtK37Hx",
        "outputId": "5d36d047-6ed8-43b3-8987-68c4b9aa0036"
      },
      "execution_count": null,
      "outputs": [
        {
          "output_type": "stream",
          "name": "stdout",
          "text": [
            "[[1 2 3]\n",
            " [4 5 6]\n",
            " [7 8 9]]\n"
          ]
        }
      ]
    },
    {
      "cell_type": "code",
      "source": [
        "#create a 2d array and convert into 3*3 but all the elements should be between 0to1\n",
        "a=np.random.rand(3,3)\n",
        "print(a)\n",
        "print(a.ndim)\n",
        "\n"
      ],
      "metadata": {
        "colab": {
          "base_uri": "https://localhost:8080/"
        },
        "id": "EvawJncD4_pA",
        "outputId": "17c89346-fe24-4d17-c1de-37665dba6564"
      },
      "execution_count": null,
      "outputs": [
        {
          "output_type": "stream",
          "name": "stdout",
          "text": [
            "[[0.22638685 0.62573212 0.63432303]\n",
            " [0.53293968 0.73538555 0.81516559]\n",
            " [0.37485618 0.80492251 0.8796494 ]]\n",
            "2\n"
          ]
        }
      ]
    },
    {
      "cell_type": "code",
      "source": [
        "#concatenate 2d array horizontally and vertically\n",
        "a=np.array([[1,2,3],[4,5,6],[7,8,9]])\n",
        "print(a.ndim)\n",
        "print(np.hstack(a))\n",
        "np.vstack(a)"
      ],
      "metadata": {
        "colab": {
          "base_uri": "https://localhost:8080/"
        },
        "id": "W5jzU8Bw6V6m",
        "outputId": "9132ba6b-c5f7-4307-85ba-5dba58591dc9"
      },
      "execution_count": null,
      "outputs": [
        {
          "output_type": "stream",
          "name": "stdout",
          "text": [
            "2\n",
            "[1 2 3 4 5 6 7 8 9]\n"
          ]
        },
        {
          "output_type": "execute_result",
          "data": {
            "text/plain": [
              "array([[1, 2, 3],\n",
              "       [4, 5, 6],\n",
              "       [7, 8, 9]])"
            ]
          },
          "metadata": {},
          "execution_count": 73
        }
      ]
    },
    {
      "cell_type": "code",
      "source": [
        "a=np.arange(2,19,2).reshape(3,3)\n",
        "a"
      ],
      "metadata": {
        "id": "3eY6ePT-8lfU",
        "colab": {
          "base_uri": "https://localhost:8080/"
        },
        "outputId": "cc9ba537-3865-4cda-c3d1-7b8439e66022"
      },
      "execution_count": null,
      "outputs": [
        {
          "output_type": "execute_result",
          "data": {
            "text/plain": [
              "array([[ 2,  4,  6],\n",
              "       [ 8, 10, 12],\n",
              "       [14, 16, 18]])"
            ]
          },
          "metadata": {},
          "execution_count": 26
        }
      ]
    },
    {
      "cell_type": "code",
      "source": [
        "a=np.arange(1,19,2).reshape(3,3)\n",
        "a"
      ],
      "metadata": {
        "colab": {
          "base_uri": "https://localhost:8080/"
        },
        "id": "BQlpu3mTGL-i",
        "outputId": "6076aefe-cc1a-4c5b-aa08-bfcb3fc759b4"
      },
      "execution_count": null,
      "outputs": [
        {
          "output_type": "execute_result",
          "data": {
            "text/plain": [
              "array([[ 1,  3,  5],\n",
              "       [ 7,  9, 11],\n",
              "       [13, 15, 17]])"
            ]
          },
          "metadata": {},
          "execution_count": 27
        }
      ]
    },
    {
      "cell_type": "code",
      "source": [
        "\n",
        "c=np.array([10,20,30,40,50,50,10,30,20,100])\n",
        "c\n",
        "np.unique(c , return_index=True,return_counts=True)"
      ],
      "metadata": {
        "colab": {
          "base_uri": "https://localhost:8080/"
        },
        "id": "djNrZne1GTrh",
        "outputId": "2b3c168c-e0aa-4759-d0ce-cd3289df41b2"
      },
      "execution_count": null,
      "outputs": [
        {
          "output_type": "execute_result",
          "data": {
            "text/plain": [
              "(array([ 10,  20,  30,  40,  50, 100]),\n",
              " array([0, 1, 2, 3, 4, 9]),\n",
              " array([2, 2, 2, 1, 2, 1]))"
            ]
          },
          "metadata": {},
          "execution_count": 33
        }
      ]
    }
  ]
}
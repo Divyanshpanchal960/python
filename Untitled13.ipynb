{
  "nbformat": 4,
  "nbformat_minor": 0,
  "metadata": {
    "colab": {
      "provenance": [],
      "authorship_tag": "ABX9TyPMip/BvmCmf5hzER7GPH2b",
      "include_colab_link": true
    },
    "kernelspec": {
      "name": "python3",
      "display_name": "Python 3"
    },
    "language_info": {
      "name": "python"
    }
  },
  "cells": [
    {
      "cell_type": "markdown",
      "metadata": {
        "id": "view-in-github",
        "colab_type": "text"
      },
      "source": [
        "<a href=\"https://colab.research.google.com/github/Divyanshpanchal960/python/blob/main/Untitled13.ipynb\" target=\"_parent\"><img src=\"https://colab.research.google.com/assets/colab-badge.svg\" alt=\"Open In Colab\"/></a>"
      ]
    },
    {
      "cell_type": "code",
      "execution_count": 1,
      "metadata": {
        "colab": {
          "base_uri": "https://localhost:8080/"
        },
        "id": "f0C4k-qICqQZ",
        "outputId": "8df3ce43-a819-4011-de04-40ef8fbbf812"
      },
      "outputs": [
        {
          "output_type": "stream",
          "name": "stdout",
          "text": [
            "enter first number:12\n",
            "enter operator:-\n",
            "enter second number:9\n",
            "3\n"
          ]
        }
      ],
      "source": [
        "num1=int(input(\"enter first number:\"))\n",
        "operator=(input(\"enter operator:\"))\n",
        "num2=int(input(\"enter second number:\"))\n",
        "if operator=='+':\n",
        "  print(num1+num2)\n",
        "elif operator=='-':\n",
        "  print(num1-num2)\n",
        "elif operator=='*':\n",
        "  print(num1*num2)\n",
        "elif operator=='/':\n",
        "  print(num1/num2)\n",
        "elif operator=='%':\n",
        "  print(num1%num2)\n",
        "elif operator=='**':\n",
        "  print(num1**num2)\n",
        "elif operator=='//':\n",
        "  print(num1//num2)\n",
        "else:\n",
        "  print(\"invalid operator\")"
      ]
    }
  ]
}
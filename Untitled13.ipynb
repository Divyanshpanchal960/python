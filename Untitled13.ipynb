{
  "nbformat": 4,
  "nbformat_minor": 0,
  "metadata": {
    "colab": {
      "provenance": [],
      "authorship_tag": "ABX9TyPa4xOgRZnU5Hwf1AKAqQYL",
      "include_colab_link": true
    },
    "kernelspec": {
      "name": "python3",
      "display_name": "Python 3"
    },
    "language_info": {
      "name": "python"
    }
  },
  "cells": [
    {
      "cell_type": "markdown",
      "metadata": {
        "id": "view-in-github",
        "colab_type": "text"
      },
      "source": [
        "<a href=\"https://colab.research.google.com/github/Divyanshpanchal960/python/blob/main/Untitled13.ipynb\" target=\"_parent\"><img src=\"https://colab.research.google.com/assets/colab-badge.svg\" alt=\"Open In Colab\"/></a>"
      ]
    },
    {
      "cell_type": "code",
      "execution_count": null,
      "metadata": {
        "colab": {
          "base_uri": "https://localhost:8080/"
        },
        "id": "f0C4k-qICqQZ",
        "outputId": "8df3ce43-a819-4011-de04-40ef8fbbf812"
      },
      "outputs": [
        {
          "output_type": "stream",
          "name": "stdout",
          "text": [
            "enter first number:12\n",
            "enter operator:-\n",
            "enter second number:9\n",
            "3\n"
          ]
        }
      ],
      "source": [
        "num1=int(input(\"enter first number:\"))\n",
        "operator=(input(\"enter operator:\"))\n",
        "num2=int(input(\"enter second number:\"))\n",
        "if operator=='+':\n",
        "  print(num1+num2)\n",
        "elif operator=='-':\n",
        "  print(num1-num2)\n",
        "elif operator=='*':\n",
        "  print(num1*num2)\n",
        "elif operator=='/':\n",
        "  print(num1/num2)\n",
        "elif operator=='%':\n",
        "  print(num1%num2)\n",
        "elif operator=='**':\n",
        "  print(num1**num2)\n",
        "elif operator=='//':\n",
        "  print(num1//num2)\n",
        "else:\n",
        "  print(\"invalid operator\")"
      ]
    },
    {
      "cell_type": "code",
      "source": [
        "num1=int(input(\"enter first number:\"))\n",
        "num2=int(input(\"enter second number:\"))\n",
        "if num1>num2:\n",
        "  print(\"num1 is larger than num2\")\n",
        "else:\n",
        "  print(\"num2 is larger than num1\")"
      ],
      "metadata": {
        "colab": {
          "base_uri": "https://localhost:8080/"
        },
        "id": "ij79nD72Ec-D",
        "outputId": "e7e7b655-def0-4155-d614-fc0d61e6a86d"
      },
      "execution_count": null,
      "outputs": [
        {
          "output_type": "stream",
          "name": "stdout",
          "text": [
            "enter first number:5\n",
            "enter second number:12\n",
            "num2 is larger than num1\n"
          ]
        }
      ]
    },
    {
      "cell_type": "code",
      "source": [
        "num1=int(input(\"enter first number:\"))\n",
        "num2=int(input(\"enter second number:\"))\n",
        "num3=int(input(\"enter third number:\"))\n",
        "if num1>num2 and num1>num3:\n",
        "  print(\"num1 is larger than num2 and num3\")\n",
        "elif num2>num1 and num2>num3:\n",
        "  print(\"num2 is larger than num1 and num3\")\n",
        "elif num3>num1 and num3>num2:\n",
        "  print(\"num3 is larger than num1 and num2\")\n",
        "else:\n",
        "  print(\"all numbers are equal\")"
      ],
      "metadata": {
        "colab": {
          "base_uri": "https://localhost:8080/"
        },
        "id": "H5sSXmr4FBTE",
        "outputId": "17d6f84d-8ca2-43a2-ab07-c8e813b80abb"
      },
      "execution_count": null,
      "outputs": [
        {
          "output_type": "stream",
          "name": "stdout",
          "text": [
            "enter first number:2\n",
            "enter second number:2\n",
            "enter third number:2\n",
            "all numbers are equal\n"
          ]
        }
      ]
    },
    {
      "cell_type": "code",
      "source": [
        "data=list(range(1,10,1))\n",
        "print(data)"
      ],
      "metadata": {
        "id": "vCaT2x7vHZic",
        "colab": {
          "base_uri": "https://localhost:8080/"
        },
        "outputId": "678f2b3c-8d0a-483d-dc93-c65131face69"
      },
      "execution_count": null,
      "outputs": [
        {
          "output_type": "stream",
          "name": "stdout",
          "text": [
            "[1, 2, 3, 4, 5, 6, 7, 8, 9]\n"
          ]
        }
      ]
    },
    {
      "cell_type": "code",
      "source": [
        "n=int(input(\"enter a number:\"))\n",
        "if(n%2==0):\n",
        "  print(\"number is even\")\n",
        "else:\n",
        "  print(\"number is odd\")"
      ],
      "metadata": {
        "colab": {
          "base_uri": "https://localhost:8080/"
        },
        "id": "A9TfadJEX0Kp",
        "outputId": "56dce999-aa37-4385-ba7a-015cb269731d"
      },
      "execution_count": null,
      "outputs": [
        {
          "output_type": "stream",
          "name": "stdout",
          "text": [
            "enter a number:4\n",
            "number is even\n"
          ]
        }
      ]
    },
    {
      "cell_type": "code",
      "source": [
        "data=[12,5,6,9]\n",
        "for i in range(len(data)):\n",
        "  if data[i]%2==0:\n",
        "     print(f'{data[i]}even')\n",
        "  else:\n",
        "     print(f'{data[i]} odd')"
      ],
      "metadata": {
        "colab": {
          "base_uri": "https://localhost:8080/"
        },
        "id": "Z-omHLQEYqL9",
        "outputId": "2458d612-6a98-472d-8115-a978171e8fa7"
      },
      "execution_count": null,
      "outputs": [
        {
          "output_type": "stream",
          "name": "stdout",
          "text": [
            "12even\n",
            "5 odd\n",
            "6even\n",
            "9 odd\n"
          ]
        }
      ]
    },
    {
      "cell_type": "code",
      "source": [
        "#write a program to present a number or not\n",
        "data=[1,2,3,4,5]\n",
        "num=int(input(\"enter a number:\"))\n",
        "for i in range(len(data)):\n",
        "  if data[i]==num:\n",
        "    print(\"number is present\")\n",
        "    break\n",
        "else:\n",
        "  print(\"number is not present\")"
      ],
      "metadata": {
        "colab": {
          "base_uri": "https://localhost:8080/"
        },
        "id": "oxZ6Bn47bObF",
        "outputId": "53a5651d-6047-49d8-9fa6-91d97b748eee"
      },
      "execution_count": null,
      "outputs": [
        {
          "output_type": "stream",
          "name": "stdout",
          "text": [
            "enter a number:6\n",
            "number is not present\n"
          ]
        }
      ]
    }
  ]
}
{
  "nbformat": 4,
  "nbformat_minor": 0,
  "metadata": {
    "colab": {
      "provenance": [],
      "authorship_tag": "ABX9TyMMJ+gNABKVewp3hW3e6iN9",
      "include_colab_link": true
    },
    "kernelspec": {
      "name": "python3",
      "display_name": "Python 3"
    },
    "language_info": {
      "name": "python"
    }
  },
  "cells": [
    {
      "cell_type": "markdown",
      "metadata": {
        "id": "view-in-github",
        "colab_type": "text"
      },
      "source": [
        "<a href=\"https://colab.research.google.com/github/Divyanshpanchal960/python/blob/main/Untitled6.ipynb\" target=\"_parent\"><img src=\"https://colab.research.google.com/assets/colab-badge.svg\" alt=\"Open In Colab\"/></a>"
      ]
    },
    {
      "cell_type": "code",
      "execution_count": null,
      "metadata": {
        "colab": {
          "base_uri": "https://localhost:8080/"
        },
        "id": "6DIwAUYx48pr",
        "outputId": "55a8c816-0540-4e75-fa5a-7be75d47b147"
      },
      "outputs": [
        {
          "output_type": "stream",
          "name": "stdout",
          "text": [
            " || JAY SHREE RAM || \n",
            "        MENU    \n",
            "burgar,pizza,noodles,momos,bread pakoda,vanilla ice-creme\n",
            "enter your orderburgar\n",
            "enter the quantity2\n",
            "your favorite food is ready to serve\n",
            "your discount is= 16.0\n",
            "price per item is= 80\n",
            "your total amount is= 144.0\n"
          ]
        }
      ],
      "source": [
        "print(\" || JAY SHREE RAM || \")\n",
        "print       (\"        MENU    \")\n",
        "print(\"burgar,pizza,noodles,momos,bread pakoda,vanilla ice-creme\")\n",
        "a=(input(\"enter your order\"))\n",
        "b=int(input(\"enter the quantity\"))\n",
        "price=0\n",
        "if(a==\"burgar\"):\n",
        "  price=80\n",
        "  print(\"your favorite food is ready to serve\")\n",
        "elif(a==\"pizza\"):\n",
        "    price=120\n",
        "    print(\"your favorite food is ready to serve\")\n",
        "elif(a==\"noodles\"):\n",
        "    price=60\n",
        "    print(\"your favorite food is reday to serve\")\n",
        "elif(a==\"momos\"):\n",
        "    price=70\n",
        "    print(\"your favorite food is ready to serve\")\n",
        "elif(a==\"bread pakoda\"):\n",
        "  price=30\n",
        "  print(\"your favorite food is ready to serve\")\n",
        "elif(a==\"vanilla ice-creme\"):\n",
        "  price=40\n",
        "  print(\"your favorite ice creme is ready to serve\")\n",
        "else:\n",
        "    print(\"enter the valid food item\")\n",
        "if(price>0):\n",
        "   total=price*b\n",
        "   Discount=total*0.10\n",
        "   total=total-Discount\n",
        "   print(\"your discount is=\",Discount)\n",
        "   print(\"price per item is=\",price )\n",
        "   print(\"your total amount is=\",total)\n",
        "\n"
      ]
    }
  ]
}
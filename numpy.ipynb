{
  "nbformat": 4,
  "nbformat_minor": 0,
  "metadata": {
    "colab": {
      "provenance": [],
      "authorship_tag": "ABX9TyN85HL/MdG4yQaoiCYrR7CU",
      "include_colab_link": true
    },
    "kernelspec": {
      "name": "python3",
      "display_name": "Python 3"
    },
    "language_info": {
      "name": "python"
    }
  },
  "cells": [
    {
      "cell_type": "markdown",
      "metadata": {
        "id": "view-in-github",
        "colab_type": "text"
      },
      "source": [
        "<a href=\"https://colab.research.google.com/github/Divyanshpanchal960/python/blob/main/numpy.ipynb\" target=\"_parent\"><img src=\"https://colab.research.google.com/assets/colab-badge.svg\" alt=\"Open In Colab\"/></a>"
      ]
    },
    {
      "cell_type": "code",
      "source": [
        "import numpy as np\n",
        "a=np.array([1,2,3,4,5,6,7])\n",
        "a\n",
        "type(a)\n",
        "b=[1,2,3,4]\n",
        "b\n",
        "type(b)\n",
        "type(a)\n",
        "a\n",
        "b\n",
        "a+5\n",
        "a-5\n",
        "a*5\n",
        "a/5\n",
        "a%5\n",
        "a//5\n",
        "a==5\n",
        "a>5\n",
        "a<5\n",
        "a<=5\n",
        "a>=5\n",
        "b*5"
      ],
      "metadata": {
        "colab": {
          "base_uri": "https://localhost:8080/"
        },
        "id": "He2jaOqjQx-_",
        "outputId": "ac9d5a00-6df6-45b5-86d0-d1a9ac2c8f4a"
      },
      "execution_count": null,
      "outputs": [
        {
          "output_type": "execute_result",
          "data": {
            "text/plain": [
              "[1, 2, 3, 4, 1, 2, 3, 4, 1, 2, 3, 4, 1, 2, 3, 4, 1, 2, 3, 4]"
            ]
          },
          "metadata": {},
          "execution_count": 3
        }
      ]
    },
    {
      "cell_type": "code",
      "source": [
        "p=[[1,2,3],[3,4,1],[5,6,7]]\n",
        "q= np.array(p)\n",
        "q\n",
        "type(q)\n",
        "q.ndim  #total dimenshional\n",
        "q.shape #total rows and columns\n",
        "#q.size #total elements\n",
        "#data1.ndim"
      ],
      "metadata": {
        "colab": {
          "base_uri": "https://localhost:8080/"
        },
        "id": "d9jHtDcxSE5s",
        "outputId": "880c8d6b-f394-4819-c8f1-c3d82990f698"
      },
      "execution_count": null,
      "outputs": [
        {
          "output_type": "execute_result",
          "data": {
            "text/plain": [
              "(3, 3)"
            ]
          },
          "metadata": {},
          "execution_count": 95
        }
      ]
    },
    {
      "cell_type": "code",
      "source": [
        "p1=[[1,2,3,4],[2,3,4,5],[1,2,3,4]]\n",
        "q1=np.array(p1)\n",
        "q1"
      ],
      "metadata": {
        "colab": {
          "base_uri": "https://localhost:8080/"
        },
        "id": "3s2-AcEzSxh-",
        "outputId": "bee6a273-cc6c-4494-b5c4-17316184f225"
      },
      "execution_count": null,
      "outputs": [
        {
          "output_type": "execute_result",
          "data": {
            "text/plain": [
              "array([[1, 2, 3, 4],\n",
              "       [2, 3, 4, 5],\n",
              "       [1, 2, 3, 4]])"
            ]
          },
          "metadata": {},
          "execution_count": 89
        }
      ]
    },
    {
      "cell_type": "code",
      "execution_count": null,
      "metadata": {
        "id": "6kpgE7lFBix_"
      },
      "outputs": [],
      "source": [
        "#zeros()--- it will create an array in which all the values will be zero either in one-dimensional or multidimensional\n",
        "\n"
      ]
    },
    {
      "cell_type": "code",
      "source": [
        "import numpy as np"
      ],
      "metadata": {
        "id": "v-BoKo_JCpOX"
      },
      "execution_count": null,
      "outputs": []
    },
    {
      "cell_type": "code",
      "source": [
        "a= np.zeros(4)\n",
        "a\n"
      ],
      "metadata": {
        "id": "KS5lp0_bCKx5",
        "colab": {
          "base_uri": "https://localhost:8080/"
        },
        "outputId": "27f2bdb7-6dbf-4207-c23c-fc14394f18f9"
      },
      "execution_count": null,
      "outputs": [
        {
          "output_type": "execute_result",
          "data": {
            "text/plain": [
              "array([0., 0., 0., 0.])"
            ]
          },
          "metadata": {},
          "execution_count": 96
        }
      ]
    },
    {
      "cell_type": "code",
      "source": [
        "a= np.zeros((3,4))\n",
        "a"
      ],
      "metadata": {
        "colab": {
          "base_uri": "https://localhost:8080/"
        },
        "id": "z79cEeh7CrTF",
        "outputId": "ddf460bb-a523-4103-a47c-ef89d301bf5c"
      },
      "execution_count": null,
      "outputs": [
        {
          "output_type": "execute_result",
          "data": {
            "text/plain": [
              "array([[0., 0., 0., 0.],\n",
              "       [0., 0., 0., 0.],\n",
              "       [0., 0., 0., 0.]])"
            ]
          },
          "metadata": {},
          "execution_count": 97
        }
      ]
    },
    {
      "cell_type": "code",
      "source": [
        "a=np.ones((4,3))\n",
        "a"
      ],
      "metadata": {
        "colab": {
          "base_uri": "https://localhost:8080/"
        },
        "id": "f1s1I-wscf0R",
        "outputId": "d4b557e5-a2dd-4a8f-e2e9-14a8dd235563"
      },
      "execution_count": null,
      "outputs": [
        {
          "output_type": "execute_result",
          "data": {
            "text/plain": [
              "array([[1., 1., 1.],\n",
              "       [1., 1., 1.],\n",
              "       [1., 1., 1.],\n",
              "       [1., 1., 1.]])"
            ]
          },
          "metadata": {},
          "execution_count": 107
        }
      ]
    },
    {
      "cell_type": "code",
      "source": [
        "type(a)"
      ],
      "metadata": {
        "colab": {
          "base_uri": "https://localhost:8080/"
        },
        "id": "1l-1YEZ6DAsk",
        "outputId": "8ba72360-1cc6-4dcc-8528-bee039a11eb8"
      },
      "execution_count": null,
      "outputs": [
        {
          "output_type": "execute_result",
          "data": {
            "text/plain": [
              "numpy.ndarray"
            ]
          },
          "metadata": {},
          "execution_count": 106
        }
      ]
    },
    {
      "cell_type": "code",
      "source": [
        "a=np.eye(5)\n",
        "a"
      ],
      "metadata": {
        "colab": {
          "base_uri": "https://localhost:8080/"
        },
        "id": "26IDH_mSd1Pr",
        "outputId": "14a5a624-3f70-4a3a-8256-9354e9194648"
      },
      "execution_count": null,
      "outputs": [
        {
          "output_type": "execute_result",
          "data": {
            "text/plain": [
              "array([[1., 0., 0., 0., 0.],\n",
              "       [0., 1., 0., 0., 0.],\n",
              "       [0., 0., 1., 0., 0.],\n",
              "       [0., 0., 0., 1., 0.],\n",
              "       [0., 0., 0., 0., 1.]])"
            ]
          },
          "metadata": {},
          "execution_count": 112
        }
      ]
    },
    {
      "cell_type": "code",
      "source": [
        "a=np.array([1,2,3,4,5,6])\n",
        "a\n",
        "type(a)\n",
        "b=np.diag(a)\n",
        "b"
      ],
      "metadata": {
        "colab": {
          "base_uri": "https://localhost:8080/"
        },
        "id": "DOaoR73NeDWh",
        "outputId": "b2b408e0-5c76-4193-d301-90b851e33f60"
      },
      "execution_count": null,
      "outputs": [
        {
          "output_type": "execute_result",
          "data": {
            "text/plain": [
              "array([[1, 0, 0, 0, 0, 0],\n",
              "       [0, 2, 0, 0, 0, 0],\n",
              "       [0, 0, 3, 0, 0, 0],\n",
              "       [0, 0, 0, 4, 0, 0],\n",
              "       [0, 0, 0, 0, 5, 0],\n",
              "       [0, 0, 0, 0, 0, 6]])"
            ]
          },
          "metadata": {},
          "execution_count": 118
        }
      ]
    },
    {
      "cell_type": "code",
      "source": [
        "a=np.random.randint(1,10,4) #generate random numbers given range\n",
        "a\n",
        "np.random.seed(23)\n",
        "a=np.random.randint(1,10,4) #fix or lock random value which we generate in range\n",
        "a\n",
        "a=np.random.rand(10) #it generate random value between 0 to 1 of given range\n",
        "a"
      ],
      "metadata": {
        "colab": {
          "base_uri": "https://localhost:8080/"
        },
        "id": "hFHjcZtKengu",
        "outputId": "a5685801-26fc-42e3-bfef-3fa59e653ed6"
      },
      "execution_count": null,
      "outputs": [
        {
          "output_type": "execute_result",
          "data": {
            "text/plain": [
              "array([0.78167951, 0.57390838, 0.44191368, 0.18399514, 0.09982012,\n",
              "       0.21965262, 0.8333391 , 0.42676537, 0.75457286, 0.99686556])"
            ]
          },
          "metadata": {},
          "execution_count": 129
        }
      ]
    },
    {
      "cell_type": "code",
      "source": [
        "#ones()-----it will create an array in which all the values will be one"
      ],
      "metadata": {
        "id": "qpEoVGtrDHfX"
      },
      "execution_count": null,
      "outputs": []
    },
    {
      "cell_type": "code",
      "source": [
        "#import numpy as np\n",
        "a=np.ones(2)\n",
        "a"
      ],
      "metadata": {
        "colab": {
          "base_uri": "https://localhost:8080/"
        },
        "id": "A7dcv1GcDW4R",
        "outputId": "c064f09a-cdcf-47eb-d2ca-51bf1c44c374"
      },
      "execution_count": null,
      "outputs": [
        {
          "output_type": "execute_result",
          "data": {
            "text/plain": [
              "array([1., 1.])"
            ]
          },
          "metadata": {},
          "execution_count": 7
        }
      ]
    },
    {
      "cell_type": "code",
      "source": [
        "a=np.ones((2,3))\n",
        "a"
      ],
      "metadata": {
        "colab": {
          "base_uri": "https://localhost:8080/"
        },
        "id": "RJ0rKDVvDgLM",
        "outputId": "7e75f8a3-39c0-42e2-f1ea-04c22bba1276"
      },
      "execution_count": null,
      "outputs": [
        {
          "output_type": "execute_result",
          "data": {
            "text/plain": [
              "array([[1., 1., 1.],\n",
              "       [1., 1., 1.]])"
            ]
          },
          "metadata": {},
          "execution_count": 8
        }
      ]
    },
    {
      "cell_type": "code",
      "source": [
        "#eye()----it will create an array in which diagnoal position array will be one and rest all are 0\n",
        "#import numpy as np\n",
        "a=np.eye(4)\n",
        "a\n"
      ],
      "metadata": {
        "colab": {
          "base_uri": "https://localhost:8080/"
        },
        "id": "vssnGN7gDlnQ",
        "outputId": "17d2b3d1-e283-4e54-fc4c-140993e70dec"
      },
      "execution_count": null,
      "outputs": [
        {
          "output_type": "execute_result",
          "data": {
            "text/plain": [
              "array([[1., 0., 0., 0.],\n",
              "       [0., 1., 0., 0.],\n",
              "       [0., 0., 1., 0.],\n",
              "       [0., 0., 0., 1.]])"
            ]
          },
          "metadata": {},
          "execution_count": 29
        }
      ]
    },
    {
      "cell_type": "code",
      "source": [
        "#diag()-----using this methond we can set custom elements to diagnoal position\n",
        "a=np.array([1,23,45,6,1])\n",
        "b=np.diag(a)\n",
        "b"
      ],
      "metadata": {
        "colab": {
          "base_uri": "https://localhost:8080/"
        },
        "id": "jlxmDJU_Ex5s",
        "outputId": "4bc37eb0-0c21-4e8a-f843-5f895aef228c"
      },
      "execution_count": null,
      "outputs": [
        {
          "output_type": "execute_result",
          "data": {
            "text/plain": [
              "array([[ 1,  0,  0,  0,  0],\n",
              "       [ 0, 23,  0,  0,  0],\n",
              "       [ 0,  0, 45,  0,  0],\n",
              "       [ 0,  0,  0,  6,  0],\n",
              "       [ 0,  0,  0,  0,  1]])"
            ]
          },
          "metadata": {},
          "execution_count": 10
        }
      ]
    },
    {
      "cell_type": "code",
      "source": [
        "#random moduals------\n",
        "#Randint()-------it will generate random numbers in a given range\n",
        "a=np.random.randint(1,3,4)\n",
        "a"
      ],
      "metadata": {
        "colab": {
          "base_uri": "https://localhost:8080/"
        },
        "id": "E_G5AV6IFO8J",
        "outputId": "518015e8-5881-4a31-b4e1-e9640127d82b"
      },
      "execution_count": null,
      "outputs": [
        {
          "output_type": "execute_result",
          "data": {
            "text/plain": [
              "array([2, 1, 1, 1])"
            ]
          },
          "metadata": {},
          "execution_count": 13
        }
      ]
    },
    {
      "cell_type": "code",
      "source": [
        "#Rand----- it wil generate random numbers between 0 to 1\n",
        "a=np.random.rand(10)\n",
        "a"
      ],
      "metadata": {
        "colab": {
          "base_uri": "https://localhost:8080/"
        },
        "id": "LywZ3VvhHIVx",
        "outputId": "9bc74ad5-7f28-446e-fbae-92b3091fc30d"
      },
      "execution_count": null,
      "outputs": [
        {
          "output_type": "execute_result",
          "data": {
            "text/plain": [
              "array([0.83786398, 0.72682461, 0.12441973, 0.91640842, 0.96824725,\n",
              "       0.21411034, 0.60544544, 0.88707923, 0.00375732, 0.00852781])"
            ]
          },
          "metadata": {},
          "execution_count": 26
        }
      ]
    },
    {
      "cell_type": "code",
      "source": [
        "#seed()---- it will fix or lock your random generate data\n",
        "np.random.seed(57)\n",
        "a=np.random.randint(1,10,5)\n",
        "a"
      ],
      "metadata": {
        "colab": {
          "base_uri": "https://localhost:8080/"
        },
        "id": "ucpaaPB8HnqY",
        "outputId": "5eb33740-e576-41e3-f8b6-1dddc26d48b8"
      },
      "execution_count": null,
      "outputs": [
        {
          "output_type": "execute_result",
          "data": {
            "text/plain": [
              "array([7, 6, 7, 9, 3])"
            ]
          },
          "metadata": {},
          "execution_count": 30
        }
      ]
    },
    {
      "cell_type": "code",
      "source": [
        "type(a)\n",
        "a+5\n",
        "a*5\n",
        "a//5\n",
        "a*5\n",
        "a**2\n",
        "a**3\n",
        "a%2\n",
        "a.ndim\n",
        "a.shape\n",
        "a.size\n",
        "np.random.randint(1,10,9).reshape(3,3)\n",
        "np.random.seed(32)\n",
        "s=np.random.randint(1,10,9)\n",
        "x=s.reshape([3,3])\n",
        "x\n",
        "x.ndim\n",
        "\n",
        "\n",
        "\n",
        "\n"
      ],
      "metadata": {
        "colab": {
          "base_uri": "https://localhost:8080/"
        },
        "id": "gCzKfgNQjqvR",
        "outputId": "b5525972-3205-4d41-85c9-614b4a790a33"
      },
      "execution_count": null,
      "outputs": [
        {
          "output_type": "execute_result",
          "data": {
            "text/plain": [
              "2"
            ]
          },
          "metadata": {},
          "execution_count": 145
        }
      ]
    },
    {
      "cell_type": "code",
      "source": [
        "import numpy as np\n",
        "a=np.array([2,3,4,5,6,7,8,9,10])\n",
        "a\n",
        "b=a.reshape(3,3)\n",
        "b\n",
        "b.ndim\n",
        "type(b)\n",
        "b+5\n",
        "b*5\n",
        "b/5\n",
        "b//5\n",
        "b%5\n",
        "b==5\n",
        "b>=5\n",
        "b<=5\n",
        "b>5\n",
        "b<5\n",
        "b*5\n",
        "b.size\n",
        "b.shape\n",
        "b.reshape(3,3)\n",
        "c=np.random.randint(1,10,12)\n",
        "d=c.reshape([3,4])\n",
        "d.ndim\n",
        "d=np.zeros((4,3))\n",
        "d\n",
        "d=np.ones((3,3))\n",
        "d\n",
        "d=np.eye(4,4)\n",
        "d\n",
        "d=np.diag((1,2,3,4,5))\n",
        "d\n",
        "d=np.random.rand(3,3)\n",
        "d\n",
        "d=np.random.seed(34)\n",
        "d=np.random.randint(1,30,21)\n",
        "d\n",
        "d.ndim\n",
        "print(d.reshape(7,3))\n",
        "f=np.array([10,20,20,20,20,20,50,60,70,40,10])\n",
        "f.ndim\n",
        "f=np.unique(f,return_index=True,return_counts=True,return_inverse=True)\n",
        "\n",
        "j=np.linspace(0,1)\n",
        "j\n",
        "\n",
        "\n",
        "\n",
        "\n",
        "\n",
        "\n",
        "\n",
        "\n",
        "\n",
        "\n",
        "\n",
        "\n",
        "\n",
        "\n",
        "\n",
        "\n",
        "\n"
      ],
      "metadata": {
        "colab": {
          "base_uri": "https://localhost:8080/"
        },
        "id": "8g-Z70ODpIfd",
        "outputId": "cb9e88bc-673a-4397-8911-aea2f020bba8"
      },
      "execution_count": null,
      "outputs": [
        {
          "output_type": "stream",
          "name": "stdout",
          "text": [
            "[[ 2 27 11]\n",
            " [10 23 22]\n",
            " [ 5  4  6]\n",
            " [12 11 15]\n",
            " [19 26 25]\n",
            " [ 7 22 23]\n",
            " [21  6  1]]\n"
          ]
        },
        {
          "output_type": "execute_result",
          "data": {
            "text/plain": [
              "array([0.        , 0.02040816, 0.04081633, 0.06122449, 0.08163265,\n",
              "       0.10204082, 0.12244898, 0.14285714, 0.16326531, 0.18367347,\n",
              "       0.20408163, 0.2244898 , 0.24489796, 0.26530612, 0.28571429,\n",
              "       0.30612245, 0.32653061, 0.34693878, 0.36734694, 0.3877551 ,\n",
              "       0.40816327, 0.42857143, 0.44897959, 0.46938776, 0.48979592,\n",
              "       0.51020408, 0.53061224, 0.55102041, 0.57142857, 0.59183673,\n",
              "       0.6122449 , 0.63265306, 0.65306122, 0.67346939, 0.69387755,\n",
              "       0.71428571, 0.73469388, 0.75510204, 0.7755102 , 0.79591837,\n",
              "       0.81632653, 0.83673469, 0.85714286, 0.87755102, 0.89795918,\n",
              "       0.91836735, 0.93877551, 0.95918367, 0.97959184, 1.        ])"
            ]
          },
          "metadata": {},
          "execution_count": 240
        }
      ]
    }
  ]
}
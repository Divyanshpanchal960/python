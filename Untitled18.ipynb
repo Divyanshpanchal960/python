{
  "nbformat": 4,
  "nbformat_minor": 0,
  "metadata": {
    "colab": {
      "provenance": [],
      "authorship_tag": "ABX9TyMjHza+wcMMSOni8TpqNq75",
      "include_colab_link": true
    },
    "kernelspec": {
      "name": "python3",
      "display_name": "Python 3"
    },
    "language_info": {
      "name": "python"
    }
  },
  "cells": [
    {
      "cell_type": "markdown",
      "metadata": {
        "id": "view-in-github",
        "colab_type": "text"
      },
      "source": [
        "<a href=\"https://colab.research.google.com/github/Divyanshpanchal960/python/blob/main/Untitled18.ipynb\" target=\"_parent\"><img src=\"https://colab.research.google.com/assets/colab-badge.svg\" alt=\"Open In Colab\"/></a>"
      ]
    },
    {
      "cell_type": "code",
      "execution_count": 1,
      "metadata": {
        "colab": {
          "base_uri": "https://localhost:8080/"
        },
        "id": "KDWrvyS2sGm8",
        "outputId": "b24b67d0-565b-4ba9-ae78-7324dba41495"
      },
      "outputs": [
        {
          "output_type": "stream",
          "name": "stdout",
          "text": [
            "enter the number153\n",
            "not armstrong number\n"
          ]
        }
      ],
      "source": [
        "num=int(input(\"enter the number\"))\n",
        "orign=num\n",
        "sum=0\n",
        "count=num\n",
        "num_digit=0\n",
        "sum_powers=0\n",
        "while (count>0):\n",
        "  digit=num%10\n",
        "  num_digit=num_digit+1\n",
        "  count=count//10\n",
        "  sum_powers=sum_powers+digit**num_digit\n",
        "  #num_digit=num_digit+1\n",
        "  #count=count//10\n",
        "  if(orign==sum_powers):\n",
        "    print(\"armstrong number\")\n",
        "    break\n",
        "else:\n",
        "    print(\"not armstrong number\")"
      ]
    },
    {
      "cell_type": "code",
      "source": [
        "num=int(input(\"enter the number\"))\n",
        "sum=0\n",
        "orign=num\n",
        "count=len(str(num))\n",
        "while num>0:\n",
        "  digit=num%10\n",
        "  sum=sum+digit**count\n",
        "  num=num//10\n",
        "  if orign==sum:\n",
        "    print(\"ARMSTRONG NUMBER\")\n",
        "    break\n",
        "else:\n",
        "  print(\"NOT ARMSTRONG NUMBER\")"
      ],
      "metadata": {
        "colab": {
          "base_uri": "https://localhost:8080/"
        },
        "id": "yUQpbydfuDLF",
        "outputId": "4038b34a-c7dd-4eb9-e149-4b93d0b92020"
      },
      "execution_count": null,
      "outputs": [
        {
          "output_type": "stream",
          "name": "stdout",
          "text": [
            "enter the number153\n",
            "ARMSTRONG NUMBER\n"
          ]
        }
      ]
    },
    {
      "cell_type": "code",
      "source": [
        "def armstrong(num):\n",
        "  sum=0\n",
        "  orign=num\n",
        "  count=len(str(num))\n",
        "  while num>0:\n",
        "    digit=num%10\n",
        "    sum=sum+digit**count\n",
        "    num=num//10\n",
        "    if orign==sum:\n",
        "      print(\"ARMSTRONG NUMBER\")\n",
        "      break\n",
        "  else:\n",
        "      print(\"NOT ARMSTRONG NUMBER\")\n",
        "\n",
        "armstrong(153)\n",
        "\n"
      ],
      "metadata": {
        "colab": {
          "base_uri": "https://localhost:8080/"
        },
        "id": "16mOB1MByNkz",
        "outputId": "6fcc7f66-5b09-4b32-c527-a6666aaa6c1c"
      },
      "execution_count": null,
      "outputs": [
        {
          "output_type": "stream",
          "name": "stdout",
          "text": [
            "ARMSTRONG NUMBER\n"
          ]
        }
      ]
    },
    {
      "cell_type": "code",
      "source": [
        "num=1\n",
        "fact=1\n",
        "i=6\n",
        "while num <= i:\n",
        "  fact=fact*i\n",
        "  i=i+1\n",
        "print(fact)"
      ],
      "metadata": {
        "id": "YnnJUnTTIC1A"
      },
      "execution_count": null,
      "outputs": []
    }
  ]
}
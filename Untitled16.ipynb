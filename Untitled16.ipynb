{
  "nbformat": 4,
  "nbformat_minor": 0,
  "metadata": {
    "colab": {
      "provenance": [],
      "authorship_tag": "ABX9TyPZHMxOfL3Iz6l7Db5stvKF",
      "include_colab_link": true
    },
    "kernelspec": {
      "name": "python3",
      "display_name": "Python 3"
    },
    "language_info": {
      "name": "python"
    }
  },
  "cells": [
    {
      "cell_type": "markdown",
      "metadata": {
        "id": "view-in-github",
        "colab_type": "text"
      },
      "source": [
        "<a href=\"https://colab.research.google.com/github/Divyanshpanchal960/python/blob/main/Untitled16.ipynb\" target=\"_parent\"><img src=\"https://colab.research.google.com/assets/colab-badge.svg\" alt=\"Open In Colab\"/></a>"
      ]
    },
    {
      "cell_type": "code",
      "execution_count": 1,
      "metadata": {
        "colab": {
          "base_uri": "https://localhost:8080/"
        },
        "id": "UBgHl5ZurnFu",
        "outputId": "c818b52f-4d9b-468d-9c5f-0c40d391579f"
      },
      "outputs": [
        {
          "output_type": "stream",
          "name": "stdout",
          "text": [
            "{1: 'kapil', 2: 'divya', 3: 'divyansh', 4: 'sourabh', 5: 'divya'}\n",
            "{}\n",
            "{1: 'kapil', 2: 'divya', 3: 'divyansh', 4: 'sourabh'}\n"
          ]
        }
      ],
      "source": [
        "data={1:'kapil',2:'divya',3:'divyansh',4:'sourabh',5:'divya'}\n",
        "print(data)\n",
        "data2={}\n",
        "print(data2)\n",
        "for key,value in data.items():\n",
        "   if value not in data2.values():\n",
        "    data2[key]=value\n",
        "print(data2)"
      ]
    },
    {
      "cell_type": "code",
      "source": [],
      "metadata": {
        "id": "ZqBhJVe7zNOW"
      },
      "execution_count": null,
      "outputs": []
    }
  ]
}
{
  "cells": [
    {
      "cell_type": "markdown",
      "metadata": {
        "id": "view-in-github",
        "colab_type": "text"
      },
      "source": [
        "<a href=\"https://colab.research.google.com/github/Divyanshpanchal960/python/blob/main/if_else%2Cwhile_for.ipynb\" target=\"_parent\"><img src=\"https://colab.research.google.com/assets/colab-badge.svg\" alt=\"Open In Colab\"/></a>"
      ]
    },
    {
      "cell_type": "code",
      "execution_count": null,
      "metadata": {
        "colab": {
          "base_uri": "https://localhost:8080/"
        },
        "id": "UBgHl5ZurnFu",
        "outputId": "6aa9899f-6f65-41ad-af61-7d9e8db89d57"
      },
      "outputs": [
        {
          "name": "stdout",
          "output_type": "stream",
          "text": [
            "{1: 'kapil', 2: 'divya', 3: 'divya', 4: 'sourabh', 5: 'divya'}\n",
            "{}\n",
            "{'kapil': 1, 'divya': 5, 'sourabh': 4}\n"
          ]
        }
      ],
      "source": [
        "\n",
        "data={1:'kapil',2:'divya',3:'divya',4:'sourabh',5:'divya'}\n",
        "print(data)\n",
        "data2={}\n",
        "print(data2)\n",
        "for key,value in data.items():\n",
        "  data2[value]=key\n",
        "print(data2)"
      ]
    },
    {
      "cell_type": "code",
      "execution_count": null,
      "metadata": {
        "colab": {
          "base_uri": "https://localhost:8080/"
        },
        "id": "ZqBhJVe7zNOW",
        "outputId": "794334d1-f4fc-439d-dada-2847bd889e5c"
      },
      "outputs": [
        {
          "name": "stdout",
          "output_type": "stream",
          "text": [
            "{1: 'kapil', 2: 'divya', 3: 'divyansh', 4: 'sourabh', 5: 'divya'}\n",
            "{}\n",
            "{1: 'kapil', 2: 'divya', 3: 'divyansh', 4: 'sourabh'}\n"
          ]
        }
      ],
      "source": [
        "data={1:'kapil',2:'divya',3:'divyansh',4:'sourabh',5:'divya'}\n",
        "print(data)\n",
        "data3={}\n",
        "print(data3)\n",
        "for key,values in data.items():\n",
        "  if values not in data3.values():\n",
        "    data3[key]=values\n",
        "print(data3)\n"
      ]
    },
    {
      "cell_type": "code",
      "execution_count": null,
      "metadata": {
        "colab": {
          "base_uri": "https://localhost:8080/"
        },
        "id": "5TqVyHxco_XE",
        "outputId": "4e6dbc39-8662-4651-c1c7-7b42509ca5bd"
      },
      "outputs": [
        {
          "name": "stdout",
          "output_type": "stream",
          "text": [
            "{1: 'naman', 2: 'piyush', 3: 'tilak', 4: 'cheril', 5: 'tilak', 6: 'piyush', 7: 'naman', 8: 'aman', 9: 'rohan', 10: 'prachi', 11: 'rohan'}\n",
            "{}\n",
            "{1: 'naman', 2: 'piyush', 3: 'tilak', 4: 'cheril', 8: 'aman', 9: 'rohan', 10: 'prachi'}\n"
          ]
        }
      ],
      "source": [
        "data={1:'naman',2:'piyush',3:'tilak',4:'cheril',5:'tilak',6:'piyush',7:'naman',8:'aman',9:'rohan',10:'prachi',11:'rohan'}\n",
        "print(data)\n",
        "data2={}\n",
        "print(data2)\n",
        "for key,value in data.items():\n",
        "  if value not in data2.values():\n",
        "    data2[key]=value\n",
        "\n",
        "\n",
        "\n",
        "\n",
        "print(data2)"
      ]
    },
    {
      "cell_type": "code",
      "execution_count": null,
      "metadata": {
        "colab": {
          "base_uri": "https://localhost:8080/"
        },
        "id": "QluqNttlrF_y",
        "outputId": "0aa30dc9-15c6-4acc-f805-ba0f53f912e2"
      },
      "outputs": [
        {
          "name": "stdout",
          "output_type": "stream",
          "text": [
            "* * * * * * * * * * \n",
            "* * * * * * * * * \n",
            "* * * * * * * * \n",
            "* * * * * * * \n",
            "* * * * * * \n",
            "* * * * * \n",
            "* * * * \n",
            "* * * \n",
            "* * \n",
            "* \n"
          ]
        }
      ],
      "source": [
        "for i in range(0,10):\n",
        "  for j in range(10-i):\n",
        "    print('*',end=' ')\n",
        "  print()\n"
      ]
    },
    {
      "cell_type": "code",
      "execution_count": null,
      "metadata": {
        "colab": {
          "base_uri": "https://localhost:8080/"
        },
        "id": "25Z_36V7tU56",
        "outputId": "9ea31da0-dce6-4b6f-fe0e-ebf4f8efa012"
      },
      "outputs": [
        {
          "name": "stdout",
          "output_type": "stream",
          "text": [
            "* * * * * * * * * * \n",
            "  * * * * * * * * * \n",
            "    * * * * * * * * \n",
            "      * * * * * * * \n",
            "        * * * * * * \n",
            "          * * * * * \n",
            "            * * * * \n",
            "              * * * \n",
            "                * * \n",
            "                  * \n"
          ]
        }
      ],
      "source": [
        "for i in range(0,10):\n",
        "  for j in range(i):\n",
        "    print(' ',end=' ')\n",
        "  for j in range(10-i):\n",
        "    print('*',end=' ')\n",
        "  print()"
      ]
    },
    {
      "cell_type": "code",
      "execution_count": null,
      "metadata": {
        "colab": {
          "base_uri": "https://localhost:8080/"
        },
        "id": "4aEnHfrjuwRB",
        "outputId": "0012d508-f00d-459a-e713-cac09fba8356"
      },
      "outputs": [
        {
          "name": "stdout",
          "output_type": "stream",
          "text": [
            "enter the number1\n",
            "enter the number100\n",
            "1 2 3 5 7 11 13 17 19 23 29 31 37 41 43 47 53 59 61 67 71 73 79 83 89 97 "
          ]
        }
      ],
      "source": [
        "shuru=int(input(\"enter the number\"))\n",
        "khtm=int(input(\"enter the number\"))\n",
        "for i in range(shuru,khtm+1):\n",
        "  for j in range(2,i):\n",
        "    if i%j==0:\n",
        "      break\n",
        "  else:\n",
        "    print(i, end=' ')"
      ]
    },
    {
      "cell_type": "code",
      "execution_count": null,
      "metadata": {
        "colab": {
          "base_uri": "https://localhost:8080/"
        },
        "id": "igQ9fwRrzLJJ",
        "outputId": "96aba2f7-e315-4958-b96b-b256a37e32df"
      },
      "outputs": [
        {
          "name": "stdout",
          "output_type": "stream",
          "text": [
            "not palindrom\n"
          ]
        }
      ],
      "source": [
        "data='check'\n",
        "s=''\n",
        "for i in data:\n",
        "  s=i+s\n",
        "#print(s)\n",
        "if s==data:\n",
        "  print(\"palindrom\")\n",
        "else:\n",
        "  print(\"not palindrom\")"
      ]
    },
    {
      "cell_type": "code",
      "execution_count": null,
      "metadata": {
        "colab": {
          "base_uri": "https://localhost:8080/"
        },
        "id": "vUAABP9D1oi_",
        "outputId": "178dc8a9-f2fc-48eb-b559-915e34ba87e8"
      },
      "outputs": [
        {
          "name": "stdout",
          "output_type": "stream",
          "text": [
            "1\n"
          ]
        }
      ],
      "source": [
        "a=5\n",
        "b=2\n",
        "if a<b:\n",
        "  min_num=a\n",
        "else:\n",
        "  min_num=b\n",
        "while True:\n",
        "    if a%min_num==0 and b%min_num==0:\n",
        "      break\n",
        "    min_num=min_num-1\n",
        "print(min_num)"
      ]
    },
    {
      "cell_type": "code",
      "execution_count": null,
      "metadata": {
        "colab": {
          "base_uri": "https://localhost:8080/",
          "height": 211
        },
        "id": "FOika-ui3JGZ",
        "outputId": "af67d142-a20a-4385-e820-549e348dd130"
      },
      "outputs": [
        {
          "ename": "KeyboardInterrupt",
          "evalue": "",
          "output_type": "error",
          "traceback": [
            "\u001b[0;31m---------------------------------------------------------------------------\u001b[0m",
            "\u001b[0;31mKeyboardInterrupt\u001b[0m                         Traceback (most recent call last)",
            "\u001b[0;32m/tmp/ipython-input-215-3750262057.py\u001b[0m in \u001b[0;36m<cell line: 0>\u001b[0;34m()\u001b[0m\n\u001b[1;32m      5\u001b[0m \u001b[0;32melse\u001b[0m\u001b[0;34m:\u001b[0m\u001b[0;34m\u001b[0m\u001b[0;34m\u001b[0m\u001b[0m\n\u001b[1;32m      6\u001b[0m   \u001b[0mmax_num\u001b[0m\u001b[0;34m=\u001b[0m\u001b[0mb\u001b[0m\u001b[0;34m\u001b[0m\u001b[0;34m\u001b[0m\u001b[0m\n\u001b[0;32m----> 7\u001b[0;31m \u001b[0;32mwhile\u001b[0m \u001b[0;32mTrue\u001b[0m\u001b[0;34m:\u001b[0m\u001b[0;34m\u001b[0m\u001b[0;34m\u001b[0m\u001b[0m\n\u001b[0m\u001b[1;32m      8\u001b[0m     \u001b[0;32mif\u001b[0m \u001b[0ma\u001b[0m\u001b[0;34m%\u001b[0m\u001b[0mmax_num\u001b[0m\u001b[0;34m==\u001b[0m\u001b[0;36m0\u001b[0m \u001b[0;32mand\u001b[0m \u001b[0mb\u001b[0m\u001b[0;34m%\u001b[0m\u001b[0mmax_num\u001b[0m\u001b[0;34m==\u001b[0m\u001b[0;36m0\u001b[0m\u001b[0;34m:\u001b[0m\u001b[0;34m\u001b[0m\u001b[0;34m\u001b[0m\u001b[0m\n\u001b[1;32m      9\u001b[0m       \u001b[0;32mbreak\u001b[0m\u001b[0;34m\u001b[0m\u001b[0;34m\u001b[0m\u001b[0m\n",
            "\u001b[0;31mKeyboardInterrupt\u001b[0m: "
          ]
        }
      ],
      "source": [
        "a=5\n",
        "b=2\n",
        "if a>b:\n",
        "  max_num=a\n",
        "else:\n",
        "  max_num=b\n",
        "while True:\n",
        "    if a%max_num==0 and b%max_num==0:\n",
        "      break\n",
        "      max_num=max_num+1\n",
        "print(max_num)"
      ]
    },
    {
      "cell_type": "code",
      "execution_count": null,
      "metadata": {
        "colab": {
          "base_uri": "https://localhost:8080/"
        },
        "id": "nKKPT9zB7GRn",
        "outputId": "06f1b79c-25c8-4def-c6ac-aff02d43b7cb"
      },
      "outputs": [
        {
          "name": "stdout",
          "output_type": "stream",
          "text": [
            "1  \n",
            "3  5  \n",
            "7  9  11  \n",
            "13  15  17  19  \n",
            "21  23  25  27  29  \n",
            "31  33  35  37  39  41  \n"
          ]
        }
      ],
      "source": [
        "temp=1\n",
        "for i in range(1,7):\n",
        "  for j in range(1,i+1):\n",
        "    print(temp,end='  ')\n",
        "    temp=temp+2\n",
        "  print( )"
      ]
    },
    {
      "cell_type": "code",
      "execution_count": null,
      "metadata": {
        "colab": {
          "base_uri": "https://localhost:8080/"
        },
        "id": "RvfaUEkP8FNy",
        "outputId": "3863db2a-e71d-449e-e95b-4926df8b0529"
      },
      "outputs": [
        {
          "name": "stdout",
          "output_type": "stream",
          "text": [
            "\n",
            "* \n",
            "* * \n",
            "* * * \n",
            "* * * * \n",
            "* * * * * \n",
            "* * * * * * \n",
            "* * * * * * * \n",
            "* * * * * * * * \n",
            "* * * * * * * * * \n",
            "* * * * * * * * * * \n"
          ]
        }
      ],
      "source": [
        "num=10\n",
        "for i in range(0,num+1):\n",
        "  for j in range(0,i):\n",
        "    print('*',end=' ')\n",
        "    #i=i+1\n",
        "  print()"
      ]
    },
    {
      "cell_type": "code",
      "execution_count": null,
      "metadata": {
        "colab": {
          "base_uri": "https://localhost:8080/"
        },
        "id": "bvkSEDIV9kM8",
        "outputId": "b666b710-ee80-4636-b717-f160316b9467"
      },
      "outputs": [
        {
          "name": "stdout",
          "output_type": "stream",
          "text": [
            "* \n",
            "* * \n",
            "* * * \n",
            "* * * * \n",
            "* * * * * \n",
            "* * * * * * \n",
            "* * * * * * * \n",
            "* * * * * * * * \n",
            "* * * * * * * * * \n",
            "* * * * * * * * * * \n"
          ]
        }
      ],
      "source": [
        "num=10\n",
        "for i in range(1,num+1):\n",
        "  for j in range(i):\n",
        "    print('*',end=' ')\n",
        "  print()\n"
      ]
    },
    {
      "cell_type": "code",
      "execution_count": null,
      "metadata": {
        "colab": {
          "base_uri": "https://localhost:8080/"
        },
        "id": "rbI34kjk--1L",
        "outputId": "a602ab44-7daa-410d-f549-248f179f8cad"
      },
      "outputs": [
        {
          "name": "stdout",
          "output_type": "stream",
          "text": [
            "* * * * * * * * * \n",
            "* * * * * * * * \n",
            "* * * * * * * \n",
            "* * * * * * \n",
            "* * * * * \n",
            "* * * * \n",
            "* * * \n",
            "* * \n",
            "* \n"
          ]
        }
      ],
      "source": [
        "for i in range(1,10):\n",
        "  for j in range(10-i):\n",
        "    print('*',end=' ')\n",
        "  print()"
      ]
    },
    {
      "cell_type": "code",
      "execution_count": null,
      "metadata": {
        "colab": {
          "base_uri": "https://localhost:8080/"
        },
        "id": "ppkG08fcATR0",
        "outputId": "c36fbbe8-a019-43fa-edf5-0a3ee1acbb9d"
      },
      "outputs": [
        {
          "name": "stdout",
          "output_type": "stream",
          "text": [
            "                  * \n",
            "                * * \n",
            "              * * * \n",
            "            * * * * \n",
            "          * * * * * \n",
            "        * * * * * * \n",
            "      * * * * * * * \n",
            "    * * * * * * * * \n",
            "  * * * * * * * * * \n"
          ]
        }
      ],
      "source": [
        "for i in range(1,10):\n",
        "  for j in range(i,10):\n",
        "    print(' ',end=' ')\n",
        "  for j in range(i):\n",
        "    print('*',end=' ')\n",
        "  print()"
      ]
    },
    {
      "cell_type": "code",
      "execution_count": null,
      "metadata": {
        "colab": {
          "base_uri": "https://localhost:8080/"
        },
        "id": "tKPG2QmRHqpf",
        "outputId": "7e7375c2-51a2-4a1a-9d20-be6f22b4319c"
      },
      "outputs": [
        {
          "name": "stdout",
          "output_type": "stream",
          "text": [
            "* * * * * * * * * *   \n",
            "  * * * * * * * * *   \n",
            "    * * * * * * * *   \n",
            "      * * * * * * *   \n",
            "        * * * * * *   \n",
            "          * * * * *   \n",
            "            * * * *   \n",
            "              * * *   \n",
            "                * *   \n",
            "                  *   \n"
          ]
        }
      ],
      "source": [
        "for i in range(0,10):\n",
        "  for j in range(i):\n",
        "    print(' ',end=' ')\n",
        "  for j in range(10-i):\n",
        "      print('*',end=' ')\n",
        "  else:\n",
        "      print(' ',end=' ')\n",
        "\n",
        "  print()"
      ]
    },
    {
      "cell_type": "code",
      "execution_count": null,
      "metadata": {
        "colab": {
          "base_uri": "https://localhost:8080/"
        },
        "id": "umqIu6-xHztj",
        "outputId": "8116511f-a26e-4423-c528-75f1b1a70a1d"
      },
      "outputs": [
        {
          "name": "stdout",
          "output_type": "stream",
          "text": [
            "5 4 3 2 1 "
          ]
        }
      ],
      "source": [
        "for i in range(5,0,-1):\n",
        "  print(i,end=' ')"
      ]
    },
    {
      "cell_type": "code",
      "execution_count": null,
      "metadata": {
        "colab": {
          "base_uri": "https://localhost:8080/"
        },
        "id": "08XMW-mQ-eHk",
        "outputId": "0b8c5ba0-0f3f-4500-e0eb-797d555c0f45"
      },
      "outputs": [
        {
          "name": "stdout",
          "output_type": "stream",
          "text": [
            "not palindrom\n"
          ]
        }
      ],
      "source": [
        "data='set'\n",
        "s=''\n",
        "for i in data:\n",
        "  s=i+s\n",
        "if s==data:\n",
        "  print(\"palindrom\")\n",
        "else:\n",
        "  print(\"not palindrom\")"
      ]
    },
    {
      "cell_type": "code",
      "execution_count": null,
      "metadata": {
        "colab": {
          "base_uri": "https://localhost:8080/"
        },
        "id": "-tBowkEBAIPo",
        "outputId": "49e0682c-4dee-42bc-d626-6db2a43c3f1a"
      },
      "outputs": [
        {
          "name": "stdout",
          "output_type": "stream",
          "text": [
            "enter the number4564254254254\n",
            "13\n",
            "52\n",
            "4\n"
          ]
        }
      ],
      "source": [
        "num=int(input(\"enter the number\"))\n",
        "sum=0\n",
        "count=0\n",
        "avg=0\n",
        "while num>0:\n",
        "  digit=num%10\n",
        "  sum=sum+digit\n",
        "  count=count+1\n",
        "  num=num//10\n",
        "print(count)\n",
        "print(sum)\n",
        "avg=sum//count\n",
        "print(avg)"
      ]
    },
    {
      "cell_type": "code",
      "execution_count": null,
      "metadata": {
        "colab": {
          "base_uri": "https://localhost:8080/"
        },
        "id": "A66Le0oHB2q6",
        "outputId": "ab962951-6929-45a9-84fb-5b0056b49c83"
      },
      "outputs": [
        {
          "name": "stdout",
          "output_type": "stream",
          "text": [
            "enter the number1\n",
            "enter the number50\n",
            "1 2 3 5 7 11 13 17 19 23 29 31 37 41 43 47 "
          ]
        }
      ],
      "source": [
        "start=int(input(\"enter the number\"))\n",
        "end=int(input(\"enter the number\"))\n",
        "for i in range(start,end+1):\n",
        "  for j in range(2,i):\n",
        "    if i%j==0:\n",
        "      break\n",
        "  else:\n",
        "      print(i,end=' ')"
      ]
    },
    {
      "cell_type": "code",
      "execution_count": null,
      "metadata": {
        "colab": {
          "base_uri": "https://localhost:8080/"
        },
        "id": "7eo1CqKxEafk",
        "outputId": "1277218a-3ba6-4dfc-9102-90b4fd0ddfd9"
      },
      "outputs": [
        {
          "name": "stdout",
          "output_type": "stream",
          "text": [
            "enter the number5\n",
            "120\n"
          ]
        }
      ],
      "source": [
        "num=int(input(\"enter the number\"))\n",
        "fact=1\n",
        "i=1\n",
        "while i<=num:\n",
        "  fact=fact*i\n",
        "  i=i+1\n",
        "print(fact)"
      ]
    },
    {
      "cell_type": "code",
      "execution_count": null,
      "metadata": {
        "colab": {
          "base_uri": "https://localhost:8080/"
        },
        "id": "iJpBB2YXHPky",
        "outputId": "6d8547ae-9d9c-48c6-c6af-a4df1eb57762"
      },
      "outputs": [
        {
          "name": "stdout",
          "output_type": "stream",
          "text": [
            "enter the number10\n",
            "1 1 2 3 5 8 "
          ]
        }
      ],
      "source": [
        "num=int(input(\"enter the number\"))\n",
        "a=1\n",
        "b=0\n",
        "c=a+b\n",
        "while c<=num:\n",
        "  print(c,end=' ')\n",
        "  a=b\n",
        "  b=c\n",
        "  c=a+b"
      ]
    },
    {
      "cell_type": "code",
      "execution_count": null,
      "metadata": {
        "colab": {
          "base_uri": "https://localhost:8080/"
        },
        "id": "xJWW0DIEJRh_",
        "outputId": "d7c0dc88-3ffc-4412-cd7d-05dfc106f005"
      },
      "outputs": [
        {
          "name": "stdout",
          "output_type": "stream",
          "text": [
            "enter the number2342323\n",
            "19\n",
            "9\n",
            "10\n"
          ]
        }
      ],
      "source": [
        "num=int(input(\"enter the number\"))\n",
        "sum=0\n",
        "total=0\n",
        "while num>0:\n",
        "  digit=num%10\n",
        "  sum=sum+digit\n",
        "  num=num//10\n",
        "print(sum)\n",
        "while sum>0:\n",
        "  digit=sum%10\n",
        "  total=total+digit\n",
        "  sum=sum//10\n",
        "  print(total)\n"
      ]
    },
    {
      "cell_type": "code",
      "execution_count": null,
      "metadata": {
        "colab": {
          "base_uri": "https://localhost:8080/"
        },
        "id": "CQDZ1YstQs8v",
        "outputId": "2eef3dc3-dd4f-4719-8d9a-37f78ad1a6b0"
      },
      "outputs": [
        {
          "name": "stdout",
          "output_type": "stream",
          "text": [
            "enter a number1234567\n",
            "Largest digit  7\n",
            "Smallest digit  1\n"
          ]
        }
      ],
      "source": [
        "num=int(input(\"enter a number\"))\n",
        "small_num=9\n",
        "large_num=0\n",
        "while num>0:\n",
        "  digit=num%10\n",
        "  if digit>large_num:\n",
        "    large_num=digit\n",
        "  if digit<small_num:\n",
        "    small_num=digit\n",
        "  num=num//10\n",
        "print(\"Largest digit \", large_num)\n",
        "print(\"Smallest digit \", small_num)"
      ]
    },
    {
      "cell_type": "code",
      "execution_count": null,
      "metadata": {
        "colab": {
          "base_uri": "https://localhost:8080/"
        },
        "id": "w8KN_7r75oXQ",
        "outputId": "e9fd0cdf-88a6-4d3f-b726-03494b6cc38c"
      },
      "outputs": [
        {
          "name": "stdout",
          "output_type": "stream",
          "text": [
            "enter a number121\n",
            "palindrom\n"
          ]
        }
      ],
      "source": [
        "num=int(input(\"enter a number\"))\n",
        "rev=0\n",
        "orign=num\n",
        "while num>0:\n",
        "  digit=num%10\n",
        "  rev=rev*10+digit\n",
        "  num=num//10\n",
        "  if rev==orign:\n",
        "    print(\"palindrom\")\n",
        "    break\n",
        "else:\n",
        "    print(\"not palindrom\")"
      ]
    },
    {
      "cell_type": "code",
      "execution_count": null,
      "metadata": {
        "colab": {
          "base_uri": "https://localhost:8080/"
        },
        "id": "IsZhKknX9cg_",
        "outputId": "76a8ed13-3a68-4f20-d4db-d8775181fda7"
      },
      "outputs": [
        {
          "name": "stdout",
          "output_type": "stream",
          "text": [
            "enter the charactermadam\n",
            "not palindrom\n"
          ]
        }
      ],
      "source": [
        "data=(input(\"enter the character\"))\n",
        "s=' '\n",
        "for i in data:\n",
        "  s=i+s\n",
        "  if s==data:\n",
        "    print(\"palindrom\")\n",
        "\n",
        "else:\n",
        "    print(\"not palindrom\")"
      ]
    },
    {
      "cell_type": "code",
      "execution_count": null,
      "metadata": {
        "colab": {
          "base_uri": "https://localhost:8080/"
        },
        "id": "Sf-5j0QtCReH",
        "outputId": "eaa573ef-f03b-416e-c935-7242a754e035"
      },
      "outputs": [
        {
          "name": "stdout",
          "output_type": "stream",
          "text": [
            "enter a number12345\n",
            "5\n",
            "15\n",
            "3\n"
          ]
        }
      ],
      "source": [
        "num=int(input(\"enter a number\"))\n",
        "count=0\n",
        "sum=0\n",
        "avg=0\n",
        "while num>0:\n",
        "  digit=num%10\n",
        "  sum=sum+digit\n",
        "  count=count+1\n",
        "  num=num//10\n",
        "  avg=sum//count\n",
        "print(count)\n",
        "print(sum)\n",
        "print(avg)\n"
      ]
    },
    {
      "cell_type": "code",
      "execution_count": null,
      "metadata": {
        "colab": {
          "base_uri": "https://localhost:8080/"
        },
        "id": "r2-YlYJCInXz",
        "outputId": "a5f8fc2f-04c1-4f35-abde-dbfe984efacc"
      },
      "outputs": [
        {
          "name": "stdout",
          "output_type": "stream",
          "text": [
            "{1: 'kapil', 2: 'divya', 3: 'divya', 4: 'sourabh', 5: 'divya'}\n",
            "{}\n",
            "{'kapil': 1, 'divya': 5, 'sourabh': 4}\n"
          ]
        }
      ],
      "source": [
        "data={1:'kapil',2:'divya',3:'divya',4:'sourabh',5:'divya'}\n",
        "print(data)\n",
        "data2={}\n",
        "print(data2)\n",
        "for keys,values in data.items():\n",
        "  if values not in data2.values():\n",
        "     data2[values]=keys\n",
        "print(data2)"
      ]
    },
    {
      "cell_type": "code",
      "execution_count": null,
      "metadata": {
        "colab": {
          "base_uri": "https://localhost:8080/"
        },
        "id": "vOBa6vF-J8IB",
        "outputId": "215bdc89-b9bf-4cc6-e043-86f3a853930a"
      },
      "outputs": [
        {
          "name": "stdout",
          "output_type": "stream",
          "text": [
            "\n",
            "* * \n",
            "* * * * \n",
            "* * * * * * \n",
            "* * * * * * * * \n",
            "* * * * * * * * * * \n",
            "* * * * * * * * * * * * \n",
            "* * * * * * * * * * * * * * \n",
            "* * * * * * * * * * * * * * * * \n"
          ]
        }
      ],
      "source": [
        "for i in range(1,10):\n",
        "  for j in range(i-1):\n",
        "    print('*',end=' ')\n",
        "  for j in range(1,i):\n",
        "    print('*',end=' ')\n",
        "  print()"
      ]
    },
    {
      "cell_type": "code",
      "execution_count": null,
      "metadata": {
        "colab": {
          "base_uri": "https://localhost:8080/"
        },
        "id": "cqlshq9kmCRC",
        "outputId": "1323fcb5-a9cf-4eb6-91a2-ab99e3c1a52d"
      },
      "outputs": [
        {
          "name": "stdout",
          "output_type": "stream",
          "text": [
            "* * * * * * * * * \n",
            "* * * * * * * * \n",
            "* * * * * * * \n",
            "* * * * * * \n",
            "* * * * * \n",
            "* * * * \n",
            "* * * \n",
            "* * \n",
            "* \n"
          ]
        }
      ],
      "source": [
        "for i in range(1,10):\n",
        "  for j in range(i,10):\n",
        "    print('*',end=' ')\n",
        "    for k in range(i,1):\n",
        "      print('*',end='  ')\n",
        "  print()"
      ]
    },
    {
      "cell_type": "code",
      "execution_count": null,
      "metadata": {
        "colab": {
          "base_uri": "https://localhost:8080/"
        },
        "id": "JMEXyPxHAPTc",
        "outputId": "23939a2c-fd3e-4d2e-f36f-ac382b2a3e41"
      },
      "outputs": [
        {
          "name": "stdout",
          "output_type": "stream",
          "text": [
            "\n",
            "* \n",
            "* * \n",
            "* * * \n",
            "* * * * \n",
            "* * * * * \n",
            "* * * * * * \n",
            "* * * * * * * \n",
            "* * * * * * * * \n",
            "* * * * * * * * * \n",
            "* * * * * * * * * * \n",
            "* * * * * * * * * * * \n",
            "* * * * * * * * * * * * \n"
          ]
        }
      ],
      "source": [
        "num=12\n",
        "for i  in range(0,num+1):\n",
        "  for j in range(i):\n",
        "    print('*',end=' ')\n",
        "  print()"
      ]
    },
    {
      "cell_type": "code",
      "execution_count": null,
      "metadata": {
        "colab": {
          "base_uri": "https://localhost:8080/"
        },
        "id": "3A52vCi6EGNX",
        "outputId": "ad589184-4bcb-447b-80ac-eff9704aca80"
      },
      "outputs": [
        {
          "name": "stdout",
          "output_type": "stream",
          "text": [
            "* * * * * * * * * * * * * \n",
            "* * * * * * * * * * * * \n",
            "* * * * * * * * * * * \n",
            "* * * * * * * * * * \n",
            "* * * * * * * * * \n",
            "* * * * * * * * \n",
            "* * * * * * * \n",
            "* * * * * * \n",
            "* * * * * \n",
            "* * * * \n",
            "* * * \n",
            "* * \n",
            "* \n"
          ]
        }
      ],
      "source": [
        "num=12\n",
        "for i  in range(0,num+1):\n",
        "  for j in range(i,num+1):\n",
        "    print('*',end=' ')\n",
        "  print()"
      ]
    },
    {
      "cell_type": "code",
      "execution_count": null,
      "metadata": {
        "colab": {
          "base_uri": "https://localhost:8080/"
        },
        "id": "lqB_NkoEEgc3",
        "outputId": "3b76097b-4f37-4770-8079-5a458548ac25"
      },
      "outputs": [
        {
          "name": "stdout",
          "output_type": "stream",
          "text": [
            "                    \n",
            "                  * \n",
            "                *   * \n",
            "              *       * \n",
            "            *           * \n",
            "          *               * \n",
            "        *                   * \n",
            "      *                       * \n",
            "    *                           * \n",
            "  * * * * * * * * * * * * * * * * * \n"
          ]
        }
      ],
      "source": [
        "for i in range(0,10):\n",
        "  for j in range(i,10):\n",
        "    print(' ',end=' ')\n",
        "  for k in range(i*2-1):\n",
        "    if k==0 or i==9 or k==i*2-2:\n",
        "      print('*',end=' ')\n",
        "    else:\n",
        "      print(' ',end=' ')\n",
        "  print()"
      ]
    },
    {
      "cell_type": "code",
      "execution_count": null,
      "metadata": {
        "colab": {
          "base_uri": "https://localhost:8080/"
        },
        "id": "pe77R5nnIoZA",
        "outputId": "ab2ffa96-103f-4836-d5c6-8735274e87f0"
      },
      "outputs": [
        {
          "name": "stdout",
          "output_type": "stream",
          "text": [
            "* * * * * * * * * * \n",
            "  * * * * * * * * * \n",
            "    * * * * * * * * \n",
            "      * * * * * * * \n",
            "        * * * * * * \n",
            "          * * * * * \n",
            "            * * * * \n",
            "              * * * \n",
            "                * * \n",
            "                  * \n"
          ]
        }
      ],
      "source": [
        "for i in range(0,10):\n",
        "  for j in range(i):\n",
        "    print(' ',end=' ')\n",
        "  for k in range(i,10):\n",
        "      print('*',end=' ')\n",
        "  print()"
      ]
    },
    {
      "cell_type": "code",
      "execution_count": null,
      "metadata": {
        "colab": {
          "base_uri": "https://localhost:8080/"
        },
        "id": "pqREQbQkv8sY",
        "outputId": "f42d4e00-62a7-4244-fef6-5ae4a1eaeba5"
      },
      "outputs": [
        {
          "name": "stdout",
          "output_type": "stream",
          "text": [
            "enter the number5\n",
            "120\n"
          ]
        }
      ],
      "source": [
        "num=int(input(\"enter the number\"))\n",
        "fact=1\n",
        "i=1\n",
        "while i<=num:\n",
        "  fact=fact*i\n",
        "  i=i+1\n",
        "print(fact)"
      ]
    },
    {
      "cell_type": "code",
      "execution_count": null,
      "metadata": {
        "colab": {
          "base_uri": "https://localhost:8080/"
        },
        "id": "_-AFeHr6jGGW",
        "outputId": "2cdf8704-4bc8-4600-b762-dfd7c33edaeb"
      },
      "outputs": [
        {
          "output_type": "stream",
          "name": "stdout",
          "text": [
            "enter the number1\n",
            "enter the number2\n",
            "enter the number3\n",
            "second largest number\n"
          ]
        }
      ],
      "source": [
        "a=int(input(\"enter the number\"))\n",
        "b=int(input(\"enter the number\"))\n",
        "c=int(input(\"enter the number\"))\n",
        "if b>a and b<c or b==c and b==a:\n",
        "      print(\"second largest number\")\n",
        "elif a<b and a<c or a==b and a==c:\n",
        "      print(\" largest number\")\n",
        "else:\n",
        "  print(c)\n"
      ]
    },
    {
      "cell_type": "code",
      "execution_count": null,
      "metadata": {
        "colab": {
          "base_uri": "https://localhost:8080/"
        },
        "id": "WYlPNdRy2Nth",
        "outputId": "2f97ac33-d358-4bf9-e01c-6d7e0489c460"
      },
      "outputs": [
        {
          "name": "stdout",
          "output_type": "stream",
          "text": [
            "enter the number12\n",
            "enter the number13\n",
            "25\n"
          ]
        }
      ],
      "source": [
        "def function_name():\n",
        "  a=int(input(\"enter the number\"))\n",
        "  b=int(input(\"enter the number\"))\n",
        "  print(a+b)\n",
        "function_name()"
      ]
    },
    {
      "cell_type": "code",
      "execution_count": null,
      "metadata": {
        "colab": {
          "base_uri": "https://localhost:8080/"
        },
        "id": "rlPK88-ogHeB",
        "outputId": "c7c06f49-cf0c-4ed7-d6eb-2bbfff915fb7"
      },
      "outputs": [
        {
          "name": "stdout",
          "output_type": "stream",
          "text": [
            "8\n"
          ]
        }
      ],
      "source": [
        "def function_add(a,b):\n",
        "  print(a+b)\n",
        "function_add(5,3)"
      ]
    },
    {
      "cell_type": "code",
      "execution_count": null,
      "metadata": {
        "colab": {
          "base_uri": "https://localhost:8080/"
        },
        "id": "sAlRj6fngnqn",
        "outputId": "d21f295f-6019-4a63-b624-a2a702c1eed2"
      },
      "outputs": [
        {
          "name": "stdout",
          "output_type": "stream",
          "text": [
            "3\n"
          ]
        }
      ],
      "source": [
        "def function_sub(a,b):\n",
        "  print(a-b)\n",
        "function_sub(5,2)"
      ]
    },
    {
      "cell_type": "code",
      "execution_count": null,
      "metadata": {
        "colab": {
          "base_uri": "https://localhost:8080/"
        },
        "id": "haIXtyw7g277",
        "outputId": "28dcaa0b-c7bc-4b74-dcf8-819fcdf7fbdf"
      },
      "outputs": [
        {
          "name": "stdout",
          "output_type": "stream",
          "text": [
            "132\n"
          ]
        }
      ],
      "source": [
        "def function_multiply(a,b):\n",
        "  print(a*b)\n",
        "function_multiply(11,12)"
      ]
    },
    {
      "cell_type": "code",
      "execution_count": null,
      "metadata": {
        "colab": {
          "base_uri": "https://localhost:8080/"
        },
        "id": "5mFOAkYYhmXD",
        "outputId": "3901f3b4-3578-423c-a90e-c6d026145b93"
      },
      "outputs": [
        {
          "output_type": "stream",
          "name": "stdout",
          "text": [
            "120\n"
          ]
        }
      ],
      "source": [
        "def fact(num):\n",
        "  fact=1\n",
        "  for i in range(1,num+1):\n",
        "    fact=fact*i\n",
        "  print(fact)\n",
        "fact(5)\n"
      ]
    },
    {
      "cell_type": "code",
      "source": [
        "def function_prime():\n",
        "  num=int(input(\"enter the number\"))\n",
        "  for i in range(1,num+1):\n",
        "    for j in range(2,i):\n",
        "      if i%j==0:\n",
        "        break\n",
        "    else:\n",
        "        print(i,end=' ')\n",
        "\n",
        "function_prime()"
      ],
      "metadata": {
        "colab": {
          "base_uri": "https://localhost:8080/"
        },
        "id": "VjPQHkL7mHou",
        "outputId": "1ad461f0-3809-49a1-dba5-ac3dcb719d1a"
      },
      "execution_count": null,
      "outputs": [
        {
          "output_type": "stream",
          "name": "stdout",
          "text": [
            "enter the number100\n",
            "1 2 3 5 7 11 13 17 19 23 29 31 37 41 43 47 53 59 61 67 71 73 79 83 89 97 "
          ]
        }
      ]
    },
    {
      "cell_type": "code",
      "source": [
        "def function_prime(num):\n",
        "  for i in range(1,num+1):\n",
        "    for j in range(2,i):\n",
        "      if i%j==0:\n",
        "        break\n",
        "    else:\n",
        "        print(i,end=' ')\n",
        "function_prime(50)"
      ],
      "metadata": {
        "colab": {
          "base_uri": "https://localhost:8080/"
        },
        "id": "sksQQk7_oNvh",
        "outputId": "d34a16cf-50a3-4bd1-d40b-96ca4247cca2"
      },
      "execution_count": null,
      "outputs": [
        {
          "output_type": "stream",
          "name": "stdout",
          "text": [
            "1 2 3 5 7 11 13 17 19 23 29 31 37 41 43 47 "
          ]
        }
      ]
    },
    {
      "cell_type": "code",
      "source": [
        "def function_prime(num):\n",
        "  for i in range(1,num):\n",
        "    if num%i==0:\n",
        "      print(\"its prime number\")\n",
        "      break\n",
        "  else:\n",
        "      print(\"its not prime number\")\n",
        "function_prime(1)"
      ],
      "metadata": {
        "colab": {
          "base_uri": "https://localhost:8080/",
          "height": 297
        },
        "id": "KmueJo-Lo7k1",
        "outputId": "0cd0a3b5-50f1-407d-d692-1bf764ec2b33"
      },
      "execution_count": null,
      "outputs": [
        {
          "output_type": "error",
          "ename": "ZeroDivisionError",
          "evalue": "integer modulo by zero",
          "traceback": [
            "\u001b[0;31m---------------------------------------------------------------------------\u001b[0m",
            "\u001b[0;31mZeroDivisionError\u001b[0m                         Traceback (most recent call last)",
            "\u001b[0;32m/tmp/ipython-input-25-3760172656.py\u001b[0m in \u001b[0;36m<cell line: 0>\u001b[0;34m()\u001b[0m\n\u001b[1;32m      6\u001b[0m   \u001b[0;32melse\u001b[0m\u001b[0;34m:\u001b[0m\u001b[0;34m\u001b[0m\u001b[0;34m\u001b[0m\u001b[0m\n\u001b[1;32m      7\u001b[0m       \u001b[0mprint\u001b[0m\u001b[0;34m(\u001b[0m\u001b[0;34m\"its not prime number\"\u001b[0m\u001b[0;34m)\u001b[0m\u001b[0;34m\u001b[0m\u001b[0;34m\u001b[0m\u001b[0m\n\u001b[0;32m----> 8\u001b[0;31m \u001b[0mfunction_prime\u001b[0m\u001b[0;34m(\u001b[0m\u001b[0;36m1\u001b[0m\u001b[0;34m)\u001b[0m\u001b[0;34m\u001b[0m\u001b[0;34m\u001b[0m\u001b[0m\n\u001b[0m",
            "\u001b[0;32m/tmp/ipython-input-25-3760172656.py\u001b[0m in \u001b[0;36mfunction_prime\u001b[0;34m(num)\u001b[0m\n\u001b[1;32m      1\u001b[0m \u001b[0;32mdef\u001b[0m \u001b[0mfunction_prime\u001b[0m\u001b[0;34m(\u001b[0m\u001b[0mnum\u001b[0m\u001b[0;34m)\u001b[0m\u001b[0;34m:\u001b[0m\u001b[0;34m\u001b[0m\u001b[0;34m\u001b[0m\u001b[0m\n\u001b[1;32m      2\u001b[0m   \u001b[0;32mfor\u001b[0m \u001b[0mi\u001b[0m \u001b[0;32min\u001b[0m \u001b[0mrange\u001b[0m\u001b[0;34m(\u001b[0m\u001b[0mnum\u001b[0m\u001b[0;34m)\u001b[0m\u001b[0;34m:\u001b[0m\u001b[0;34m\u001b[0m\u001b[0;34m\u001b[0m\u001b[0m\n\u001b[0;32m----> 3\u001b[0;31m     \u001b[0;32mif\u001b[0m \u001b[0mnum\u001b[0m\u001b[0;34m%\u001b[0m\u001b[0mi\u001b[0m\u001b[0;34m==\u001b[0m\u001b[0;36m0\u001b[0m\u001b[0;34m:\u001b[0m\u001b[0;34m\u001b[0m\u001b[0;34m\u001b[0m\u001b[0m\n\u001b[0m\u001b[1;32m      4\u001b[0m       \u001b[0mprint\u001b[0m\u001b[0;34m(\u001b[0m\u001b[0;34m\"its prime number\"\u001b[0m\u001b[0;34m)\u001b[0m\u001b[0;34m\u001b[0m\u001b[0;34m\u001b[0m\u001b[0m\n\u001b[1;32m      5\u001b[0m       \u001b[0;32mbreak\u001b[0m\u001b[0;34m\u001b[0m\u001b[0;34m\u001b[0m\u001b[0m\n",
            "\u001b[0;31mZeroDivisionError\u001b[0m: integer modulo by zero"
          ]
        }
      ]
    },
    {
      "cell_type": "code",
      "source": [
        "def f1(a,b=0,c=1):\n",
        "  if b==0 and c==1:\n",
        "    print(a)\n",
        "  elif b!=0 and c==0:\n",
        "    print(a+b)\n",
        "  else:\n",
        "    print(a*b*c)\n",
        "\n",
        "\n",
        "f1(12,6,0)\n",
        "\n"
      ],
      "metadata": {
        "colab": {
          "base_uri": "https://localhost:8080/"
        },
        "id": "r4k8Lfsy-QXD",
        "outputId": "beeea433-2d1b-47e7-e6e4-90daa74d1522"
      },
      "execution_count": null,
      "outputs": [
        {
          "output_type": "stream",
          "name": "stdout",
          "text": [
            "18\n"
          ]
        }
      ]
    },
    {
      "cell_type": "code",
      "source": [
        "data=[1,2,3,4,5,6,7,8,9]\n",
        "print(data)\n",
        "data.remove(2)\n",
        "print(data)"
      ],
      "metadata": {
        "colab": {
          "base_uri": "https://localhost:8080/"
        },
        "id": "l06qZvIqe-Qq",
        "outputId": "fdc6f090-f949-406d-ce19-49ad0fe2870a"
      },
      "execution_count": null,
      "outputs": [
        {
          "output_type": "stream",
          "name": "stdout",
          "text": [
            "[1, 2, 3, 4, 5, 6, 7, 8, 9]\n",
            "[1, 3, 4, 5, 6, 7, 8, 9]\n"
          ]
        }
      ]
    },
    {
      "cell_type": "code",
      "source": [
        "data=[1,2,3,1,4,5,2]\n",
        "for i in range(0,len(data)):\n",
        "  count = 0\n",
        "  for j in range(0,len(data)):\n",
        "    if data[i]==data[j]:\n",
        "        count=count+1\n",
        "  if count>1:\n",
        "    print(data[i])\n"
      ],
      "metadata": {
        "colab": {
          "base_uri": "https://localhost:8080/"
        },
        "id": "4J8of8iemdZT",
        "outputId": "02593da7-cdf0-4c76-b25c-6afb4f73e869"
      },
      "execution_count": null,
      "outputs": [
        {
          "output_type": "stream",
          "name": "stdout",
          "text": [
            "1\n",
            "2\n",
            "1\n",
            "2\n"
          ]
        }
      ]
    },
    {
      "cell_type": "code",
      "source": [
        "for i in range(1,6):\n",
        "  for j  in range(1,6):\n",
        "    if i==1 or i==j or i==5:\n",
        "      print('*',end=' ')\n",
        "    else:\n",
        "      print(' ',end=' ')\n",
        "  print()"
      ],
      "metadata": {
        "colab": {
          "base_uri": "https://localhost:8080/"
        },
        "id": "PPO_q1SrKxnp",
        "outputId": "6acf81f3-7faa-47a4-d881-fe83ff37c6b4"
      },
      "execution_count": null,
      "outputs": [
        {
          "output_type": "stream",
          "name": "stdout",
          "text": [
            "* * * * * \n",
            "  *       \n",
            "    *     \n",
            "      *   \n",
            "* * * * * \n"
          ]
        }
      ]
    },
    {
      "cell_type": "code",
      "source": [
        "num=int(input(\"enter the number\"))\n",
        "for i in range(0,num+1):\n",
        "  for j in range(2,i):\n"
      ],
      "metadata": {
        "id": "S--647gaO0xc"
      },
      "execution_count": null,
      "outputs": []
    },
    {
      "cell_type": "code",
      "source": [
        "num=int(input(\"enter the number\"))\n",
        "orign=num\n",
        "sum=0\n",
        "while num>0:\n",
        "  fact=1\n",
        "  digit=num%10\n",
        "  sum=sum+digit\n",
        "  num=num//10\n",
        "  # while digit>0:\n",
        "  #   fact=fact*digit\n",
        "  #   digit-=1\n",
        "  # sum=sum+fact\n",
        "if sum==orign:\n",
        "  print(\"strong number\")\n",
        "else:\n",
        "  print(\"not strong number\")"
      ],
      "metadata": {
        "colab": {
          "base_uri": "https://localhost:8080/"
        },
        "id": "yEVy3az6QqyL",
        "outputId": "3b87336f-5218-41c4-9b5a-9b23d50000b9"
      },
      "execution_count": null,
      "outputs": [
        {
          "output_type": "stream",
          "name": "stdout",
          "text": [
            "enter the number145\n",
            "strong number\n"
          ]
        }
      ]
    },
    {
      "cell_type": "code",
      "source": [
        "def add(a,b):\n",
        "  return a+b\n",
        "add(1,2)"
      ],
      "metadata": {
        "id": "lygcTDZqSEdN",
        "colab": {
          "base_uri": "https://localhost:8080/"
        },
        "outputId": "b2a05e9d-44c5-4fec-d172-5089d3ea1849"
      },
      "execution_count": null,
      "outputs": [
        {
          "output_type": "execute_result",
          "data": {
            "text/plain": [
              "3"
            ]
          },
          "metadata": {},
          "execution_count": 1
        }
      ]
    }
  ],
  "metadata": {
    "colab": {
      "provenance": [],
      "authorship_tag": "ABX9TyPL9luBuK4GRHfi+Z6yU0bL",
      "include_colab_link": true
    },
    "kernelspec": {
      "display_name": "Python 3",
      "name": "python3"
    },
    "language_info": {
      "name": "python"
    }
  },
  "nbformat": 4,
  "nbformat_minor": 0
}
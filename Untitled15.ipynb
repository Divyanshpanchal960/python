{
  "cells": [
    {
      "cell_type": "markdown",
      "metadata": {
        "id": "view-in-github",
        "colab_type": "text"
      },
      "source": [
        "<a href=\"https://colab.research.google.com/github/Divyanshpanchal960/python/blob/main/Untitled15.ipynb\" target=\"_parent\"><img src=\"https://colab.research.google.com/assets/colab-badge.svg\" alt=\"Open In Colab\"/></a>"
      ]
    },
    {
      "cell_type": "code",
      "execution_count": null,
      "metadata": {
        "colab": {
          "base_uri": "https://localhost:8080/"
        },
        "id": "D0USJSNPHC3l",
        "outputId": "c999738a-acae-4fe7-874a-151c6e699f3f"
      },
      "outputs": [
        {
          "name": "stdout",
          "output_type": "stream",
          "text": [
            "1 2 3 4 5 6 7 8 9 10 "
          ]
        }
      ],
      "source": [
        "#natural number 1 to 10\n",
        "n=1\n",
        "while(n<=10):\n",
        " print(n,end=' ')\n",
        " n=n+1"
      ]
    },
    {
      "cell_type": "code",
      "execution_count": null,
      "metadata": {
        "colab": {
          "base_uri": "https://localhost:8080/"
        },
        "id": "pk16IbYiHuiI",
        "outputId": "98e3a6a9-5554-4257-fec0-e1ef3940e23c"
      },
      "outputs": [
        {
          "output_type": "stream",
          "name": "stdout",
          "text": [
            "10 9 8 7 6 5 4 3 2 1 "
          ]
        }
      ],
      "source": [
        "#natural number 10 to 1\n",
        "n=10\n",
        "while(n>=1):\n",
        " print(n,end=' ')\n",
        " n=n-1"
      ]
    },
    {
      "cell_type": "code",
      "execution_count": null,
      "metadata": {
        "colab": {
          "base_uri": "https://localhost:8080/"
        },
        "id": "2GTziDTqIiVg",
        "outputId": "806d279e-9733-4a03-f58d-fed31b34a7dd"
      },
      "outputs": [
        {
          "name": "stdout",
          "output_type": "stream",
          "text": [
            "A B C D E F G H I J K L M N O P Q R S T U V W X Y Z "
          ]
        }
      ],
      "source": [
        "#AtoZ character print\n",
        "char='A'\n",
        "while(65<=ord(char)<=90):\n",
        "    print(char,end=' ')\n",
        "    char=chr(ord(char)+1)"
      ]
    },
    {
      "cell_type": "code",
      "execution_count": null,
      "metadata": {
        "colab": {
          "base_uri": "https://localhost:8080/"
        },
        "id": "SZWranUnMNBK",
        "outputId": "08b5f0e5-a40a-49c5-bd41-3f288a40438e"
      },
      "outputs": [
        {
          "name": "stdout",
          "output_type": "stream",
          "text": [
            "enter the number100\n",
            "2 4 6 8 10 12 14 16 18 20 22 24 26 28 30 32 34 36 38 40 42 44 46 48 50 52 54 56 58 60 62 64 66 68 70 72 74 76 78 80 82 84 86 88 90 92 94 96 98 100 "
          ]
        }
      ],
      "source": [
        "#print even number 1 to n\n",
        "n=int(input(\"enter the number\"))\n",
        "i=1\n",
        "while(i<=n):\n",
        "  if i%2==0:\n",
        "    print(i,end=' ')\n",
        "  i=i+1"
      ]
    },
    {
      "cell_type": "code",
      "execution_count": 4,
      "metadata": {
        "colab": {
          "base_uri": "https://localhost:8080/"
        },
        "id": "n6zN546YO1RD",
        "outputId": "26f1b446-2b7c-4749-9deb-05ecee4a30ad"
      },
      "outputs": [
        {
          "output_type": "stream",
          "name": "stdout",
          "text": [
            "enter the number10\n",
            "1 3 5 7 9 sum of odd num: 25\n"
          ]
        }
      ],
      "source": [
        "#print odd number and sum of it\n",
        "n=int(input(\"enter the number\"))\n",
        "i=1\n",
        "sum=0\n",
        "while(i<=n):\n",
        "  if i%2!=0:\n",
        "    print(i,end=' ')\n",
        "  sum=sum+i\n",
        "  i=i+2\n",
        "print(\"sum of odd num:\",sum)\n",
        "\n"
      ]
    },
    {
      "cell_type": "code",
      "source": [
        "#print even number and sum of it\n",
        "n=int(input(\"enter the number\"))\n",
        "i=2\n",
        "sum=0\n",
        "while(i<=n):\n",
        "  if i%2==0:\n",
        "    print(i,end=' ')\n",
        "  sum=sum+i\n",
        "  i=i+2\n",
        "print(\"sum of even num:\",sum)\n",
        "\n"
      ],
      "metadata": {
        "colab": {
          "base_uri": "https://localhost:8080/"
        },
        "id": "28aNSgwBZ2S2",
        "outputId": "4915da71-95b5-4039-f1c2-1e8e6102b218"
      },
      "execution_count": 13,
      "outputs": [
        {
          "output_type": "stream",
          "name": "stdout",
          "text": [
            "enter the number10\n",
            "2 4 6 8 10 sum of even num: 30\n"
          ]
        }
      ]
    },
    {
      "cell_type": "code",
      "execution_count": null,
      "metadata": {
        "colab": {
          "base_uri": "https://localhost:8080/"
        },
        "id": "biIryxwaNKRZ",
        "outputId": "d9734a0f-dba3-4f3d-a593-8455d7c1ff1b"
      },
      "outputs": [
        {
          "name": "stdout",
          "output_type": "stream",
          "text": [
            "enter the number1234567\n",
            "7\n"
          ]
        }
      ],
      "source": [
        "#count of digits in given numbers\n",
        "num=int(input(\"enter the number\"))\n",
        "count=0\n",
        "while(num>0):\n",
        "  count=count+1\n",
        "  num=num//10\n",
        "print(count)\n",
        "\n",
        "\n"
      ]
    },
    {
      "cell_type": "code",
      "execution_count": null,
      "metadata": {
        "colab": {
          "base_uri": "https://localhost:8080/"
        },
        "id": "ugmc6JdGOvkg",
        "outputId": "ebfa64f7-c6c7-4bd8-f374-b65c64376476"
      },
      "outputs": [
        {
          "name": "stdout",
          "output_type": "stream",
          "text": [
            "enter the number123456\n",
            "sum of digit:= 21\n"
          ]
        }
      ],
      "source": [
        "#sum of digits\n",
        "num=int(input(\"enter the number\"))\n",
        "sum=0\n",
        "while(num>0):\n",
        "  digit=num%10\n",
        "  sum=sum+digit\n",
        "  num=num//10\n",
        "print(\"sum of digit:=\",sum)"
      ]
    },
    {
      "cell_type": "code",
      "execution_count": null,
      "metadata": {
        "colab": {
          "base_uri": "https://localhost:8080/"
        },
        "id": "FY3_2UM9134Q",
        "outputId": "ecf67d03-f5f1-431b-81e6-00d877519017"
      },
      "outputs": [
        {
          "name": "stdout",
          "output_type": "stream",
          "text": [
            "enter the number12345\n",
            "lastnum is= 1\n",
            "firstnum is= 5\n"
          ]
        }
      ],
      "source": [
        "#find first and last number of given number\n",
        "num=int(input(\"enter the number\"))\n",
        "firstnum=num%10\n",
        "lastnum=num\n",
        "while lastnum>=10:\n",
        "    lastnum=lastnum//10\n",
        "print(\"lastnum is=\",lastnum)\n",
        "print(\"firstnum is=\",firstnum)\n"
      ]
    },
    {
      "cell_type": "code",
      "execution_count": null,
      "metadata": {
        "colab": {
          "base_uri": "https://localhost:8080/"
        },
        "id": "0JIiwQUh7tJS",
        "outputId": "4cfd8a19-d491-4583-a28c-071343797d46"
      },
      "outputs": [
        {
          "name": "stdout",
          "output_type": "stream",
          "text": [
            "enter the number12345\n",
            "lastnum is= 1\n",
            "firstnum is= 5\n",
            "sum is= 6\n"
          ]
        }
      ],
      "source": [
        "#find first and last number in given number\n",
        "num=int(input(\"enter the number\"))\n",
        "firstnum=num%10\n",
        "lastnum=num\n",
        "while lastnum>10:\n",
        "  lastnum=lastnum//10\n",
        "print(\"lastnum is=\",lastnum)\n",
        "print(\"firstnum is=\",firstnum)\n",
        "sum=firstnum+lastnum\n",
        "print(\"sum is=\",sum)"
      ]
    },
    {
      "cell_type": "code",
      "execution_count": null,
      "metadata": {
        "colab": {
          "base_uri": "https://localhost:8080/"
        },
        "id": "P_09hSl48LOl",
        "outputId": "f9e0f84a-0f29-4284-f919-2a3adeda6c77"
      },
      "outputs": [
        {
          "name": "stdout",
          "output_type": "stream",
          "text": [
            "7654321\n"
          ]
        }
      ],
      "source": [
        "#revrse of number\n",
        "num=1234567\n",
        "rev=0\n",
        "while num>0:\n",
        "  j=num%10\n",
        "  rev=rev*10+j\n",
        "  num=num//10\n",
        "print(rev)\n",
        "\n",
        "\n",
        "\n"
      ]
    },
    {
      "cell_type": "code",
      "execution_count": null,
      "metadata": {
        "colab": {
          "base_uri": "https://localhost:8080/"
        },
        "id": "vMJEhMr-AAx7",
        "outputId": "1d1c5d99-b153-4918-d571-030bc088ecdf"
      },
      "outputs": [
        {
          "name": "stdout",
          "output_type": "stream",
          "text": [
            "enter number5\n",
            "25\n"
          ]
        }
      ],
      "source": [
        "#power of an number\n",
        "n=int(input(\"enter number\"))\n",
        "power=0\n",
        "while n>0:\n",
        "  power=n**2\n",
        "  n=n//10\n",
        "print(power)"
      ]
    },
    {
      "cell_type": "code",
      "execution_count": null,
      "metadata": {
        "id": "uDsWWWXABgDt",
        "colab": {
          "base_uri": "https://localhost:8080/"
        },
        "outputId": "2d2f3633-10a9-4ed6-c248-a4254e034572"
      },
      "outputs": [
        {
          "output_type": "stream",
          "name": "stdout",
          "text": [
            "enter number6\n",
            "1 2 3 sum of factor= 6\n"
          ]
        }
      ],
      "source": [
        "#find the factor of an number and sum of it\n",
        "num=int(input(\"enter number\"))\n",
        "i=1\n",
        "sum=0\n",
        "while i<num:\n",
        "  if num%i==0:\n",
        "    print(i,end=' ')\n",
        "  i=i+1\n",
        "sum=sum+i\n",
        "print(\"sum of factor=\",sum)"
      ]
    },
    {
      "cell_type": "code",
      "execution_count": null,
      "metadata": {
        "colab": {
          "base_uri": "https://localhost:8080/"
        },
        "id": "95uTjrHEIWxE",
        "outputId": "82a4c5df-23a6-4e7f-92ce-495cf4ec82c4"
      },
      "outputs": [
        {
          "name": "stdout",
          "output_type": "stream",
          "text": [
            "enter number5\n",
            "factorial is= 120\n"
          ]
        }
      ],
      "source": [
        "#factorial of given number\n",
        "num=int(input(\"enter number\"))\n",
        "i=1\n",
        "fact=1\n",
        "while i<=num:\n",
        "  fact=fact*i\n",
        "  i=i+1\n",
        "print(\"factorial is=\",fact)"
      ]
    },
    {
      "cell_type": "code",
      "execution_count": null,
      "metadata": {
        "colab": {
          "base_uri": "https://localhost:8080/"
        },
        "id": "wqnigbWKKuaO",
        "outputId": "8a1f1f47-ec19-41fb-d45c-79dd4fd3c531"
      },
      "outputs": [
        {
          "name": "stdout",
          "output_type": "stream",
          "text": [
            "enter number5\n",
            "0 1 1 2 3 5 "
          ]
        }
      ],
      "source": [
        "#fibonnaci series upto n number\n",
        "num=int(input(\"enter number\"))\n",
        "a=0\n",
        "b=1\n",
        "c=0\n",
        "while c<=num:\n",
        "  print(c,end=' ')\n",
        "  a=b\n",
        "  b=c\n",
        "  c=a+b\n"
      ]
    },
    {
      "cell_type": "code",
      "execution_count": null,
      "metadata": {
        "colab": {
          "base_uri": "https://localhost:8080/"
        },
        "id": "3CM8hHcwP52Z",
        "outputId": "a4387f13-ba6e-48d2-c02f-2fbb6846a4dd"
      },
      "outputs": [
        {
          "name": "stdout",
          "output_type": "stream",
          "text": [
            "a b c d e f g h i j k l m n o p q r s t u v w x y z "
          ]
        }
      ],
      "source": [
        "#print a  to z\n",
        "i=97\n",
        "n=122\n",
        "while i<=n:\n",
        "  print(chr(i),end=' ')\n",
        "  i=i+1\n",
        "\n",
        "\n",
        "\n",
        "\n"
      ]
    },
    {
      "cell_type": "code",
      "execution_count": null,
      "metadata": {
        "colab": {
          "base_uri": "https://localhost:8080/"
        },
        "id": "rb1cdBfpL88W",
        "outputId": "2cc89b38-888e-4f0f-a53f-7e1f0289cb5b"
      },
      "outputs": [
        {
          "name": "stdout",
          "output_type": "stream",
          "text": [
            "12\n"
          ]
        }
      ],
      "source": [
        "#1ns compliment of binary\n",
        "a=12\n",
        "b=15\n",
        "i=(bin(a))\n",
        "j=(bin(b))\n",
        "print(a&b)\n",
        "\n",
        "\n",
        "\n",
        "\n"
      ]
    },
    {
      "cell_type": "code",
      "execution_count": null,
      "metadata": {
        "colab": {
          "base_uri": "https://localhost:8080/"
        },
        "id": "SLHprn8ZUA5J",
        "outputId": "c5b1ae74-9162-46ae-adf5-3621ca41f568"
      },
      "outputs": [
        {
          "name": "stdout",
          "output_type": "stream",
          "text": [
            "15\n"
          ]
        }
      ],
      "source": [
        "#1ns compliment of binary number\n",
        "a=12\n",
        "b=15\n",
        "i=(bin(a))\n",
        "j=(bin(b))\n",
        "print(a|b)"
      ]
    },
    {
      "cell_type": "code",
      "execution_count": null,
      "metadata": {
        "colab": {
          "base_uri": "https://localhost:8080/"
        },
        "id": "EJTnzemNw8Ke",
        "outputId": "ab084cee-595c-4c27-85d5-b4b9f229055a"
      },
      "outputs": [
        {
          "name": "stdout",
          "output_type": "stream",
          "text": [
            "enter the number100\n",
            "2 3 5 7 11 13 17 19 23 29 31 37 41 43 47 53 59 61 67 71 73 79 83 89 97 "
          ]
        }
      ],
      "source": [
        "#print prime numbers\n",
        "num=int(input(\"enter the number\"))\n",
        "for i in range(2,num+1):\n",
        "  for j in range(2,i):\n",
        "    if i%j==0:\n",
        "      break\n",
        "  else:\n",
        "    print(i,end=' ')"
      ]
    },
    {
      "cell_type": "code",
      "execution_count": null,
      "metadata": {
        "colab": {
          "base_uri": "https://localhost:8080/"
        },
        "id": "AmKYjkALx7zo",
        "outputId": "05cde01c-086c-4272-8aee-2dff5bc66dc6"
      },
      "outputs": [
        {
          "name": "stdout",
          "output_type": "stream",
          "text": [
            "enter the number12\n",
            "not prime number\n"
          ]
        }
      ],
      "source": [
        "#check whether number is prime or not\n",
        "num=int(input(\"enter the number\"))\n",
        "for i in range(2,num):\n",
        "  if num%i==1:\n",
        "    print(\"prime number\")\n",
        "    break\n",
        "  else:\n",
        "    print(\"not prime number\")\n",
        "    break\n",
        "\n"
      ]
    },
    {
      "cell_type": "code",
      "execution_count": null,
      "metadata": {
        "colab": {
          "base_uri": "https://localhost:8080/"
        },
        "id": "WJcqF8MbR9Yi",
        "outputId": "d47a9fde-e70a-465c-cacb-4ac6b5c6ec2b"
      },
      "outputs": [
        {
          "name": "stdout",
          "output_type": "stream",
          "text": [
            "enter the number2\n"
          ]
        }
      ],
      "source": [
        "num=int(input(\"enter the number\"))\n",
        "for i in range(2,num):\n",
        "  if num%i==1:\n",
        "    print(\"prime number\")\n",
        "    break\n",
        "  else:\n",
        "    print(\"not prime\")\n",
        "    break\n"
      ]
    },
    {
      "cell_type": "code",
      "execution_count": null,
      "metadata": {
        "colab": {
          "base_uri": "https://localhost:8080/"
        },
        "id": "0GW7OMa8TC7R",
        "outputId": "e01252b5-1332-4f60-e69f-1422e8e27ae3"
      },
      "outputs": [
        {
          "name": "stdout",
          "output_type": "stream",
          "text": [
            "enter the number5\n",
            "its not prime number\n"
          ]
        }
      ],
      "source": [
        "num=int(input(\"enter the number\"))\n",
        "count=0\n",
        "for i in range(2,num):\n",
        "  if num%i==1:\n",
        "   count=count+1\n",
        "  if count==0:\n",
        "    print(\"its prime number\")\n",
        "else:\n",
        "  print(\"its not prime number\")"
      ]
    },
    {
      "cell_type": "code",
      "execution_count": 16,
      "metadata": {
        "colab": {
          "base_uri": "https://localhost:8080/"
        },
        "id": "eFzSVRlgZgoU",
        "outputId": "aeac370f-2a67-4dc6-808a-568ba00559c2"
      },
      "outputs": [
        {
          "output_type": "stream",
          "name": "stdout",
          "text": [
            "enter the number1634\n",
            "armstrong number\n"
          ]
        }
      ],
      "source": [
        "num=int(input(\"enter the number\"))\n",
        "temp=num\n",
        "sum=0\n",
        "count=len(str(num))\n",
        "while num>0:\n",
        "  digit=num%10\n",
        "  sum=sum+digit**count\n",
        "  num=num//10\n",
        "if temp==sum:\n",
        "  print(\"armstrong number\")\n",
        "else:\n",
        "  print(\"not armstrong number\")\n"
      ]
    },
    {
      "cell_type": "code",
      "execution_count": null,
      "metadata": {
        "colab": {
          "base_uri": "https://localhost:8080/"
        },
        "id": "YD6_1f6sikUN",
        "outputId": "555360db-03ab-4633-f7fd-74844cdfbb51"
      },
      "outputs": [
        {
          "name": "stdout",
          "output_type": "stream",
          "text": [
            "enter the number145\n",
            "strong number\n"
          ]
        }
      ],
      "source": [
        "num=int(input(\"enter the number\"))\n",
        "temp=num\n",
        "sum=0\n",
        "while num>0:\n",
        "  fact=1\n",
        "  digit=num%10\n",
        "  num=num//10\n",
        "  for i in range(1,digit+1):\n",
        "    fact=fact*i\n",
        "  sum=sum+fact\n",
        "if temp==sum:\n",
        "    print(\"strong number\")\n",
        "else:\n",
        "    print(\"not strong number\")\n"
      ]
    },
    {
      "cell_type": "code",
      "execution_count": null,
      "metadata": {
        "colab": {
          "base_uri": "https://localhost:8080/"
        },
        "id": "aNF2qLGijpK9",
        "outputId": "1a303f20-da61-44b3-a5ff-c38a3e70597a"
      },
      "outputs": [
        {
          "name": "stdout",
          "output_type": "stream",
          "text": [
            "enter the number50\n",
            "0 1 1 2 3 5 8 13 21 34 "
          ]
        }
      ],
      "source": [
        "num=int(input(\"enter the number\"))\n",
        "a=0\n",
        "b=1\n",
        "c=0\n",
        "while c<=num:\n",
        "  print(c,end=' ')\n",
        "  a=b\n",
        "  b=c\n",
        "  c=a+b\n"
      ]
    },
    {
      "cell_type": "code",
      "execution_count": null,
      "metadata": {
        "colab": {
          "base_uri": "https://localhost:8080/"
        },
        "id": "PUdZr3lS88MC",
        "outputId": "4526d229-4a03-46f5-bd7f-d4fb4c785cf1"
      },
      "outputs": [
        {
          "name": "stdout",
          "output_type": "stream",
          "text": [
            "enter the number5\n",
            "factorial of num= 120\n"
          ]
        }
      ],
      "source": [
        "num=int(input(\"enter the number\"))\n",
        "fact=1\n",
        "i=1\n",
        "while i<=num:\n",
        "  fact=fact*i\n",
        "  i=i+1\n",
        "print(\"factorial of num=\",fact)"
      ]
    },
    {
      "cell_type": "code",
      "execution_count": null,
      "metadata": {
        "colab": {
          "base_uri": "https://localhost:8080/"
        },
        "id": "eTIQXL3F-ENV",
        "outputId": "f391c32c-7c5a-4688-95e4-d8901dd6a72e"
      },
      "outputs": [
        {
          "name": "stdout",
          "output_type": "stream",
          "text": [
            "enter the number123456\n",
            "654321\n"
          ]
        }
      ],
      "source": [
        "num=int(input(\"enter the number\"))\n",
        "rev=0\n",
        "while num>0:\n",
        "  d=num%10\n",
        "  rev=rev*10+d\n",
        "  num=num//10\n",
        "print(rev)\n"
      ]
    },
    {
      "cell_type": "code",
      "execution_count": null,
      "metadata": {
        "colab": {
          "base_uri": "https://localhost:8080/"
        },
        "id": "KZmrqARH_Ed3",
        "outputId": "161816ca-541f-44d1-d3aa-945e62f26eb5"
      },
      "outputs": [
        {
          "name": "stdout",
          "output_type": "stream",
          "text": [
            "enter the number1234567\n",
            "7\n"
          ]
        }
      ],
      "source": [
        "num=int(input(\"enter the number\"))\n",
        "count=0\n",
        "while num>0:\n",
        "  count=count+1\n",
        "  num=num//10\n",
        "print(count)\n"
      ]
    },
    {
      "cell_type": "code",
      "execution_count": null,
      "metadata": {
        "colab": {
          "base_uri": "https://localhost:8080/"
        },
        "id": "_9ByVFs48Fkg",
        "outputId": "97886c30-73a7-4ff0-c4e4-a73078779437"
      },
      "outputs": [
        {
          "name": "stdout",
          "output_type": "stream",
          "text": [
            "A B C D E F G H I J K L M N O P Q R S T U V W X Y Z "
          ]
        }
      ],
      "source": [
        "i=65\n",
        "j=90\n",
        "for i in range(65,91):\n",
        "  print(chr(i),end=' ')\n"
      ]
    },
    {
      "cell_type": "code",
      "execution_count": null,
      "metadata": {
        "colab": {
          "base_uri": "https://localhost:8080/"
        },
        "id": "CW5m0-D58qaK",
        "outputId": "239aac67-db2b-4b1d-81ed-4bac4230c64f"
      },
      "outputs": [
        {
          "name": "stdout",
          "output_type": "stream",
          "text": [
            "a b c d e f g h i j k l m n o p q r s t u v w x y z "
          ]
        }
      ],
      "source": [
        "i=97\n",
        "j=123\n",
        "for i in range(97,123):\n",
        "  print(chr(i),end=' ')"
      ]
    },
    {
      "cell_type": "code",
      "execution_count": null,
      "metadata": {
        "colab": {
          "base_uri": "https://localhost:8080/"
        },
        "id": "04Aq8sQx9VRR",
        "outputId": "7eae02f9-25ba-42f8-91fb-fd2a0c49f9f3"
      },
      "outputs": [
        {
          "output_type": "stream",
          "name": "stdout",
          "text": [
            "enter the number6\n",
            "1 2 3 sum of factor= 6\n",
            "perfect number\n"
          ]
        }
      ],
      "source": [
        "n=int(input(\"enter the number\"))\n",
        "i=1\n",
        "sum=0\n",
        "while n>i:\n",
        "  if n%i==0:\n",
        "      print(i,end=' ')\n",
        "  i=i+1\n",
        "sum=sum+i\n",
        "print(\"sum of factor=\",sum)\n",
        "if sum==n:\n",
        "  print(\"perfect number\")\n",
        "else:\n",
        "  print(\"not perfect number\")\n",
        "\n",
        "\n"
      ]
    },
    {
      "cell_type": "code",
      "source": [
        "num=int(input(\"enter the  number\"))\n",
        "for i in range(2,num):\n",
        "  if num%i==1:\n",
        "    print(\"prime number\")\n",
        "    break\n",
        "  else:\n",
        "    print(\"not prime\")\n",
        "    break"
      ],
      "metadata": {
        "colab": {
          "base_uri": "https://localhost:8080/"
        },
        "id": "ZMo8jGAScMod",
        "outputId": "89129bca-9203-49bd-ea26-66c87a0656f6"
      },
      "execution_count": null,
      "outputs": [
        {
          "output_type": "stream",
          "name": "stdout",
          "text": [
            "enter the  number4\n",
            "not prime\n"
          ]
        }
      ]
    },
    {
      "cell_type": "code",
      "source": [
        "num=int(input(\"enter the number\"))\n",
        "for i in range(2,num+1):\n",
        "  for j in range(2,i):\n",
        "    if i%j==0:\n",
        "     break\n",
        "  else:\n",
        "     print(i,end=' ')"
      ],
      "metadata": {
        "id": "CGLzijNld9qS",
        "colab": {
          "base_uri": "https://localhost:8080/"
        },
        "outputId": "eb16c383-4d13-4df5-ab32-b43d9df64102"
      },
      "execution_count": null,
      "outputs": [
        {
          "output_type": "stream",
          "name": "stdout",
          "text": [
            "enter the number100\n",
            "2 3 5 7 11 13 17 19 23 29 31 37 41 43 47 53 59 61 67 71 73 79 83 89 97 "
          ]
        }
      ]
    },
    {
      "cell_type": "code",
      "source": [
        "num=int(input(\"enter the number\"))\n",
        "sum=0\n",
        "total=0\n",
        "while num>0:\n",
        "  digit=num%10\n",
        "  sum=sum+digit\n",
        "  num=num//10\n",
        "print(sum)\n",
        "while sum>0:\n",
        "  digit=sum%10\n",
        "  total=total+digit\n",
        "  sum=sum//10\n",
        "print(\"total of sum=\",total)\n"
      ],
      "metadata": {
        "id": "44ODyw5JhlP8",
        "colab": {
          "base_uri": "https://localhost:8080/"
        },
        "outputId": "2956e931-384f-4658-8ea7-feef4562c075"
      },
      "execution_count": null,
      "outputs": [
        {
          "output_type": "stream",
          "name": "stdout",
          "text": [
            "enter the number123456\n",
            "21\n",
            "total of sum= 3\n"
          ]
        }
      ]
    },
    {
      "cell_type": "code",
      "source": [
        "num1=int(input(\"enter the number\"))\n",
        "num2=int(input(\"enter the number\"))\n",
        "if num1>num2:\n",
        "  max1=num1\n",
        "else:\n",
        "  max1=num2\n",
        "  while True:\n",
        "    if max1%num1==0 and max1%num2==0:\n",
        "      print(max1)\n",
        "      break\n",
        "    max1=max1+1\n"
      ],
      "metadata": {
        "colab": {
          "base_uri": "https://localhost:8080/"
        },
        "id": "b0aLqwn4o90t",
        "outputId": "23d84a1e-89c1-47de-b165-e4f73c08ed39"
      },
      "execution_count": null,
      "outputs": [
        {
          "output_type": "stream",
          "name": "stdout",
          "text": [
            "enter the number2\n",
            "enter the number4\n",
            "4\n"
          ]
        }
      ]
    },
    {
      "cell_type": "code",
      "source": [
        "num1=int(input(\"enter the number\"))\n",
        "num2=int(input(\"enter the number\"))\n",
        "if num1<num2:\n",
        "  min1=num1\n",
        "else:\n",
        "  min1=num1\n",
        "while True:\n",
        "  if num1%min1==0 and num2%min1==0:\n",
        "     print(min1)\n",
        "     break\n",
        "     min1=min1-1"
      ],
      "metadata": {
        "colab": {
          "base_uri": "https://localhost:8080/"
        },
        "id": "Y-bmkRHWqYzT",
        "outputId": "3782dab6-9f0a-4ded-ce6e-c300f065ca36"
      },
      "execution_count": null,
      "outputs": [
        {
          "output_type": "stream",
          "name": "stdout",
          "text": [
            "enter the number2\n",
            "enter the number4\n",
            "2\n"
          ]
        }
      ]
    },
    {
      "cell_type": "code",
      "source": [
        "num=int(input(\"enter the number\"))\n",
        "factor=0\n",
        "for i in range(1,num+1):\n",
        "  if num%i==0:\n",
        "    factor=factor+1\n",
        "if factor==2:\n",
        "  print(\"prime number\")\n",
        "else:\n",
        "  print(\"not prime number\")\n"
      ],
      "metadata": {
        "colab": {
          "base_uri": "https://localhost:8080/"
        },
        "id": "2CZ6TRbEDSgz",
        "outputId": "f9ae0eda-7084-440f-8bd7-4104557860c7"
      },
      "execution_count": null,
      "outputs": [
        {
          "output_type": "stream",
          "name": "stdout",
          "text": [
            "enter the number2\n",
            "prime number\n"
          ]
        }
      ]
    },
    {
      "cell_type": "code",
      "source": [
        "num=int(input(\"enter the number\"))\n",
        "sum=0\n",
        "original=num\n",
        "while num>0:\n",
        "  fact=1\n",
        "  digit=num%10\n",
        "  num=num//10\n",
        "  for i in range(1,digit+1):\n",
        "    fact=fact*i\n",
        "  sum=sum+fact\n",
        "if sum==original:\n",
        "    print(\"strong number\")\n",
        "else:\n",
        "    print(\"not strong number\")\n",
        "\n"
      ],
      "metadata": {
        "colab": {
          "base_uri": "https://localhost:8080/"
        },
        "id": "6lxU6w0lnXdP",
        "outputId": "b179ece4-2ec3-46e9-dd41-490178d9190e"
      },
      "execution_count": null,
      "outputs": [
        {
          "output_type": "stream",
          "name": "stdout",
          "text": [
            "enter the number145\n",
            "strong number\n"
          ]
        }
      ]
    },
    {
      "cell_type": "code",
      "source": [
        "num=int(input(\"enter the number\"))\n",
        "lnum=0\n",
        "snum=num+1\n",
        "while num > 0:\n",
        "  digit=num%10\n",
        "  if digit > lnum:\n",
        "    lnum=digit\n",
        "  if digit < snum:\n",
        "    snum=digit\n",
        "  num=num//10\n",
        "print(\"Smallest digit\",snum)\n",
        "print(\"Largest digit\",lnum)"
      ],
      "metadata": {
        "colab": {
          "base_uri": "https://localhost:8080/"
        },
        "id": "ltqHIqj0W4Mc",
        "outputId": "ea902eef-76aa-41d7-e53c-4d60459b5772"
      },
      "execution_count": null,
      "outputs": [
        {
          "output_type": "stream",
          "name": "stdout",
          "text": [
            "enter the number5934748769868956858945635235349853485385353655685634583853453453853583658658658953853853\n",
            "Smallest digit 2\n",
            "Largest digit 9\n"
          ]
        }
      ]
    },
    {
      "cell_type": "code",
      "source": [
        "num=int(input(\"enter the number\"))\n",
        "snum=9\n",
        "lnum=0\n",
        "while num > 0:\n",
        "  digit=num%10\n",
        "  if digit > lnum:\n",
        "    lnum=digit\n",
        "  if digit < snum:\n",
        "    snum=digit\n",
        "  num=num//10\n",
        "print(\"smallest num=\",snum)\n",
        "print(\"largest num=\",lnum)"
      ],
      "metadata": {
        "colab": {
          "base_uri": "https://localhost:8080/"
        },
        "id": "q1FXazy_bvlN",
        "outputId": "563ae319-6450-4420-b904-e76c36439c30"
      },
      "execution_count": null,
      "outputs": [
        {
          "output_type": "stream",
          "name": "stdout",
          "text": [
            "enter the number678954\n",
            "smallest num= 4\n",
            "largest num= 9\n"
          ]
        }
      ]
    },
    {
      "cell_type": "code",
      "source": [
        "num=int(input(\"enter the number\"))\n",
        "sum=0\n",
        "while num>0:\n",
        "  fact=1\n",
        "  digit=num%10\n",
        "  num=num//10\n",
        "  for i in range(1,digit+1):\n",
        "    fact=fact*i\n",
        "sum=sum+fact\n",
        "print(sum)"
      ],
      "metadata": {
        "id": "6S9-XCArUnrR"
      },
      "execution_count": null,
      "outputs": []
    },
    {
      "cell_type": "code",
      "source": [
        "num=int(input(\"enter the number\"))\n",
        "if num>0:\n",
        "  print(\"positive number\")\n",
        "elif num<0:\n",
        "  print(\"negative number\")\n",
        "else:\n",
        "  print(\"zero\")\n"
      ],
      "metadata": {
        "colab": {
          "base_uri": "https://localhost:8080/"
        },
        "id": "tYHh8tFIVF5m",
        "outputId": "36f45806-f1eb-4a0a-9090-bfefcf1d28ba"
      },
      "execution_count": null,
      "outputs": [
        {
          "output_type": "stream",
          "name": "stdout",
          "text": [
            "enter the number0\n",
            "zero\n"
          ]
        }
      ]
    },
    {
      "cell_type": "code",
      "source": [
        "num1=int(input(\"enter the number\"))\n",
        "num2=int(input(\"enter the number\"))\n",
        "if num1>num2:\n",
        "  print(num1,\"is greater\")\n",
        "else:\n",
        "  print(num2,\"is greater\")"
      ],
      "metadata": {
        "colab": {
          "base_uri": "https://localhost:8080/"
        },
        "id": "azs6mzsMVeJj",
        "outputId": "4051e8e4-4a6f-4daf-ba20-4124cc223852"
      },
      "execution_count": null,
      "outputs": [
        {
          "output_type": "stream",
          "name": "stdout",
          "text": [
            "enter the number3\n",
            "enter the number4\n",
            "4 is greater\n"
          ]
        }
      ]
    },
    {
      "cell_type": "code",
      "source": [
        "num1=int(input(\"enter number\"))\n",
        "num2=int(input(\"enter number\"))\n",
        "num3=int(input(\"enter number\"))\n",
        "if num1>num2 and num1>num3:\n",
        "  print(\"num1 is greater than num2 and num3\")\n",
        "elif num2>num1 and num2>num3:\n",
        "  print(\"num2 is greater num1 and num3\")\n",
        "else:\n",
        "  print(\"num3 is greater than num1 and num2\")\n"
      ],
      "metadata": {
        "colab": {
          "base_uri": "https://localhost:8080/"
        },
        "id": "KUQNJCu_V_uf",
        "outputId": "6dd6cf50-bf8a-40aa-8ce8-69b165dd9f51"
      },
      "execution_count": null,
      "outputs": [
        {
          "output_type": "stream",
          "name": "stdout",
          "text": [
            "enter number1\n",
            "enter number4\n",
            "enter number5\n",
            "num3 is greater than num1 and num2\n"
          ]
        }
      ]
    },
    {
      "cell_type": "code",
      "source": [
        "char=input(\"enter the character\")\n",
        "if  (char=='a' or char=='e' or char=='i' or char=='o' or char=='u'):\n",
        "  print(\"vowel\")\n",
        "else:\n",
        "  print(\"consonent\")"
      ],
      "metadata": {
        "colab": {
          "base_uri": "https://localhost:8080/"
        },
        "id": "XB3CisCGXB-3",
        "outputId": "9c67877b-208f-4b2c-baa6-1a45ca32ecd7"
      },
      "execution_count": null,
      "outputs": [
        {
          "output_type": "stream",
          "name": "stdout",
          "text": [
            "enter the charactera\n",
            "vowel\n"
          ]
        }
      ]
    },
    {
      "cell_type": "code",
      "source": [
        "year=int(input(\"enter the year\"))\n",
        "if year%4==0:\n",
        "  print(\"leap year\")\n",
        "else:\n",
        "  print(\"not leap year\")"
      ],
      "metadata": {
        "colab": {
          "base_uri": "https://localhost:8080/"
        },
        "id": "9XlGCG4tYuhd",
        "outputId": "1157941e-5729-4e76-b49d-02b9326f9903"
      },
      "execution_count": null,
      "outputs": [
        {
          "output_type": "stream",
          "name": "stdout",
          "text": [
            "enter the year1888\n",
            "leap year\n"
          ]
        }
      ]
    },
    {
      "cell_type": "code",
      "source": [
        "num=int(input(\"enter the number\"))\n",
        "if num%3==0 and num%5==0:\n",
        "  print(\"yes number is divisable by both 3 and 5\")\n",
        "else:\n",
        "  print(\"no number isnot divisable by 3&5\")\n",
        "\n"
      ],
      "metadata": {
        "colab": {
          "base_uri": "https://localhost:8080/"
        },
        "id": "krEUdymgZE9T",
        "outputId": "c1140d18-3323-40de-cd49-b2365c700ccf"
      },
      "execution_count": null,
      "outputs": [
        {
          "output_type": "stream",
          "name": "stdout",
          "text": [
            "enter the number15\n",
            "yes number is divisable by both 3 and 5\n"
          ]
        }
      ]
    },
    {
      "cell_type": "code",
      "source": [
        "num=int(input(\"enter the number\"))\n",
        "if num%2!=0 and num>0:\n",
        "  print(\"positive odd number\")\n",
        "elif num%2!=0 and num<0:\n",
        "  print(\"negative odd number\")\n",
        "elif num%2==0 and num>0:\n",
        "  print(\"positive even number\")\n",
        "elif num%2==0 and num<0:\n",
        "  print(\"negative even number\")\n",
        "else:\n",
        "  print(\"zero\")\n"
      ],
      "metadata": {
        "colab": {
          "base_uri": "https://localhost:8080/"
        },
        "id": "owCJ5JMHaA5v",
        "outputId": "086dce77-511d-4a02-9670-b7bbe5b1af70"
      },
      "execution_count": null,
      "outputs": [
        {
          "output_type": "stream",
          "name": "stdout",
          "text": [
            "enter the number0\n",
            "zero\n"
          ]
        }
      ]
    },
    {
      "cell_type": "code",
      "source": [
        "age=int(input(\"enter the age\"))\n",
        "if age<13:\n",
        "  print(\"child\")\n",
        "elif 13<age<=19:\n",
        "  print(\"teenager\")\n",
        "elif 20<age<=59:\n",
        "  print(\"adult\")\n",
        "elif age>59:\n",
        "  print(\"old\")\n",
        "else:\n",
        "  print(\"enter valid age\")\n"
      ],
      "metadata": {
        "colab": {
          "base_uri": "https://localhost:8080/"
        },
        "id": "9fzhasDKcr6a",
        "outputId": "78b57285-6c7f-47e1-9b3f-4c56c060281a"
      },
      "execution_count": null,
      "outputs": [
        {
          "output_type": "stream",
          "name": "stdout",
          "text": [
            "enter the age60\n",
            "old\n"
          ]
        }
      ]
    },
    {
      "cell_type": "code",
      "source": [
        "side1=int(input(\"enter the side1\"))\n",
        "side2=int(input(\"enter the side2\"))\n",
        "side3=int(input(\"enter the side3\"))\n",
        "if side1==side2==side3:\n",
        "  print(\"equilateral triangle\")\n",
        "elif side1!=side2!=side3:\n",
        "  print(\"scalene triangle\")\n",
        "else:\n",
        "  print(\"i1sosceles triangle\")\n"
      ],
      "metadata": {
        "id": "EGizB7dphYJJ",
        "colab": {
          "base_uri": "https://localhost:8080/"
        },
        "outputId": "ebf77963-df05-45b8-8e08-0de668cff7d7"
      },
      "execution_count": null,
      "outputs": [
        {
          "output_type": "stream",
          "name": "stdout",
          "text": [
            "enter the side13\n",
            "enter the side22\n",
            "enter the side31\n",
            "scalene triangle\n"
          ]
        }
      ]
    },
    {
      "cell_type": "code",
      "source": [
        "num=int(input(\"enter the number\"))\n",
        "if num==1:\n",
        "  print(\"MONDAY\")\n",
        "elif num==2:\n",
        "  print(\"TUESDAY\")\n",
        "elif num==3:\n",
        "  print(\"WEDNESDAY\")\n",
        "elif num==4:\n",
        "  print(\"THRUSDAY\")\n",
        "elif num==5:\n",
        "  print(\"FRIDAY\")\n",
        "elif num==6:\n",
        "  print(\"SATURDAY\")\n",
        "elif num==7:\n",
        "  print(\"SUNDAY\")\n",
        "else:\n",
        "  print(\"enter valid number\")"
      ],
      "metadata": {
        "id": "8l-SnFa62Vsd",
        "colab": {
          "base_uri": "https://localhost:8080/"
        },
        "outputId": "98a068b0-c304-467c-cda1-a3761d68003c"
      },
      "execution_count": null,
      "outputs": [
        {
          "output_type": "stream",
          "name": "stdout",
          "text": [
            "enter the number6\n",
            "SATURDAY\n"
          ]
        }
      ]
    },
    {
      "cell_type": "code",
      "source": [
        "signal = input(\"enter the signal color\")\n",
        "if signal == 'red':\n",
        "  print(\"stop\")\n",
        "elif signal == 'yellow':\n",
        "  print(\"Go slow\")\n",
        "elif signal == 'green':\n",
        "  print(\"Go\")\n",
        "else:\n",
        "  print(\"enter valid signal color\")"
      ],
      "metadata": {
        "colab": {
          "base_uri": "https://localhost:8080/"
        },
        "id": "dmKNauBq0wB7",
        "outputId": "ec9acb42-5113-4859-8b41-6ef8aae5f937"
      },
      "execution_count": null,
      "outputs": [
        {
          "output_type": "stream",
          "name": "stdout",
          "text": [
            "enter the signal colorred\n",
            "stop\n"
          ]
        }
      ]
    },
    {
      "cell_type": "code",
      "source": [
        "year=int(input(\"enter the year\"))\n",
        "if year%2==0 or year%4==0:\n",
        "  print(\"yes it is even or leap year\")\n",
        "else:\n",
        "  print(\"no it is odd or not leap year\")"
      ],
      "metadata": {
        "colab": {
          "base_uri": "https://localhost:8080/"
        },
        "id": "UGbIiJHY2w8v",
        "outputId": "1e374bb7-6183-46bd-fa83-bd06f7da310c"
      },
      "execution_count": null,
      "outputs": [
        {
          "output_type": "stream",
          "name": "stdout",
          "text": [
            "enter the year2025\n",
            "no it is odd or not leap year\n"
          ]
        }
      ]
    },
    {
      "cell_type": "code",
      "source": [
        "num=int(input(\"enter the number\"))\n",
        "for i in range(1,100):\n",
        "  if num in range(1,100):\n",
        "    print(\"number is in range\")\n",
        "    break\n",
        "  else:\n",
        "    print(\"number is not in range\")\n",
        "    break"
      ],
      "metadata": {
        "colab": {
          "base_uri": "https://localhost:8080/"
        },
        "id": "JG9YAp2a3_Ve",
        "outputId": "d53bfc42-1fc3-45b8-a02d-f910822dce27"
      },
      "execution_count": null,
      "outputs": [
        {
          "output_type": "stream",
          "name": "stdout",
          "text": [
            "enter the number55\n",
            "number is in range\n"
          ]
        }
      ]
    },
    {
      "cell_type": "code",
      "source": [
        "balance=int(input(\"enter the balance\"))\n",
        "if 1000<=balance<=500:\n",
        "  print(\"sufficient balance\")\n",
        "elif"
      ],
      "metadata": {
        "id": "U_eM9WdC-K9u"
      },
      "execution_count": null,
      "outputs": []
    },
    {
      "cell_type": "code",
      "source": [
        "temp=int(input(\"enter the temperature\"))\n",
        "if temp<10:\n",
        "  print(\"cold\")\n",
        "elif 10<temp<25:\n",
        "  print(\"moderate\")\n",
        "elif temp>25:\n",
        "  print(\"hot\")\n",
        "else:\n",
        "  print(\"enter valid temperature\")"
      ],
      "metadata": {
        "colab": {
          "base_uri": "https://localhost:8080/"
        },
        "id": "wcyWZKN7Ajkc",
        "outputId": "378339ae-73da-4402-92f9-054a92770a73"
      },
      "execution_count": null,
      "outputs": [
        {
          "output_type": "stream",
          "name": "stdout",
          "text": [
            "enter the temperature24\n",
            "moderate\n"
          ]
        }
      ]
    },
    {
      "cell_type": "code",
      "source": [
        "password=input(\"enter the password\")\n",
        "if len(password) <= 6:\n",
        "  print(\"weak password\")\n",
        "elif 6 < len(password) < 10:\n",
        "  print(\"moderate password\")\n",
        "elif len(password) > 10:\n",
        "  print(\"strong password\")\n",
        "else:\n",
        "  print(\"enter valid password\")"
      ],
      "metadata": {
        "colab": {
          "base_uri": "https://localhost:8080/"
        },
        "id": "lRm5VB_VC-30",
        "outputId": "a3aa21bf-742e-4cd4-af35-e7b0dfe08b47"
      },
      "execution_count": null,
      "outputs": [
        {
          "output_type": "stream",
          "name": "stdout",
          "text": [
            "enter the passworddivyanshpan12@..regex\n",
            "strong password\n"
          ]
        }
      ]
    },
    {
      "cell_type": "code",
      "source": [
        "#data={1:'apple',2:'banana',3:'orange',4:'kiwi',5:'cherry'}\n",
        "#print(data)\n",
        "#set=data.items()\n",
        "#print(data)\n",
        "#set=(data)\n",
        "#print(data)\n",
        "#dict=data.keys()\n",
        "#print(data)\n",
        "#dict=data.values()\n",
        "#print(data)\n",
        "#dict=(data)\n",
        "#print(data)\n",
        "#set=(data)\n",
        "#print(data)\n",
        "#set[6]='kiwi'\n",
        "#print(data)\n",
        "#dict=data.items()\n",
        "#print(data)\n",
        "#dict={6:'kiwi'}\n",
        "#print(data)\n",
        "#dict={2:'banana'}\n",
        "#print(data)\n",
        "#k=data.keys()\n",
        "#print(k)\n",
        "#v=data.values()\n",
        "#print(v)\n",
        "dict=data\n",
        "print(data)"
      ],
      "metadata": {
        "id": "rv5TQFVsD_Dg",
        "colab": {
          "base_uri": "https://localhost:8080/"
        },
        "outputId": "ecbd6157-f543-4f51-fe5d-89027c55f7ac"
      },
      "execution_count": null,
      "outputs": [
        {
          "output_type": "stream",
          "name": "stdout",
          "text": [
            "{1: 'apple', 2: 'banana', 3: 'orange', 4: 'kiwi', 5: 'cherry'}\n"
          ]
        }
      ]
    },
    {
      "cell_type": "code",
      "source": [
        "for i in range(98,0,-1):\n",
        "  print(i,end=' ')"
      ],
      "metadata": {
        "colab": {
          "base_uri": "https://localhost:8080/"
        },
        "id": "7wQ_L9U1sGB-",
        "outputId": "a896dce1-ee68-442b-b156-2e5e31c73156"
      },
      "execution_count": null,
      "outputs": [
        {
          "output_type": "stream",
          "name": "stdout",
          "text": [
            "98 97 96 95 94 93 92 91 90 89 88 87 86 85 84 83 82 81 80 79 78 77 76 75 74 73 72 71 70 69 68 67 66 65 64 63 62 61 60 59 58 57 56 55 54 53 52 51 50 49 48 47 46 45 44 43 42 41 40 39 38 37 36 35 34 33 32 31 30 29 28 27 26 25 24 23 22 21 20 19 18 17 16 15 14 13 12 11 10 9 8 7 6 5 4 3 2 1 "
          ]
        }
      ]
    },
    {
      "cell_type": "code",
      "source": [
        "for i in range(1,101):\n",
        "  print(i,end=' ')"
      ],
      "metadata": {
        "colab": {
          "base_uri": "https://localhost:8080/"
        },
        "id": "oFyizPnmsVea",
        "outputId": "c4b85b2d-3f63-4f47-c527-07917d92c955"
      },
      "execution_count": null,
      "outputs": [
        {
          "output_type": "stream",
          "name": "stdout",
          "text": [
            "1 2 3 4 5 6 7 8 9 10 11 12 13 14 15 16 17 18 19 20 21 22 23 24 25 26 27 28 29 30 31 32 33 34 35 36 37 38 39 40 41 42 43 44 45 46 47 48 49 50 51 52 53 54 55 56 57 58 59 60 61 62 63 64 65 66 67 68 69 70 71 72 73 74 75 76 77 78 79 80 81 82 83 84 85 86 87 88 89 90 91 92 93 94 95 96 97 98 99 100 "
          ]
        }
      ]
    },
    {
      "cell_type": "code",
      "source": [
        "data=['cat','dog','apple','bat','rat','regex']\n",
        "words={}\n",
        "for i in data:\n",
        "  length=len(i)\n",
        "  if length not in words:\n",
        "    words [length]=[]\n",
        "  words[length].append(i)\n",
        "print(words)"
      ],
      "metadata": {
        "colab": {
          "base_uri": "https://localhost:8080/"
        },
        "id": "qRLpdQiBsyhz",
        "outputId": "0deb21f1-0bd4-4d35-bd10-d8d0bd231867"
      },
      "execution_count": null,
      "outputs": [
        {
          "output_type": "stream",
          "name": "stdout",
          "text": [
            "{3: ['cat', 'dog', 'bat', 'rat'], 5: ['apple', 'regex']}\n"
          ]
        }
      ]
    },
    {
      "cell_type": "code",
      "source": [
        "#data={'a':'banana','b':'apple','c':'papaya'}\n",
        "#del data['a'],data['b']\n",
        "#print(data)\n"
      ],
      "metadata": {
        "colab": {
          "base_uri": "https://localhost:8080/"
        },
        "id": "H-9hW3Hx2rXq",
        "outputId": "0dc654ee-b340-43a7-cf4c-9a883063a688"
      },
      "execution_count": null,
      "outputs": [
        {
          "output_type": "stream",
          "name": "stdout",
          "text": [
            "{'c': 'papaya'}\n"
          ]
        }
      ]
    },
    {
      "cell_type": "code",
      "source": [
        "#n={1:'sourabh',2:'divyansh',3:'hemant',4:'kapil'}\n",
        "#del n[1],n[2]\n",
        "#print(n)"
      ],
      "metadata": {
        "id": "jcDVUM223mVk"
      },
      "execution_count": null,
      "outputs": []
    },
    {
      "cell_type": "code",
      "source": [
        "data=['cat','dog','fish','mice','regex','apple']\n",
        "words={}\n",
        "for i in data:\n",
        "  length=len(i)\n",
        "  if length not in words:\n",
        "    words[length]=[]\n",
        "  words[length].append(i)\n",
        "print(words)\n"
      ],
      "metadata": {
        "colab": {
          "base_uri": "https://localhost:8080/"
        },
        "id": "aczqLIIu4S5x",
        "outputId": "102c8e56-7422-45e7-bc9c-e860a526bbee"
      },
      "execution_count": null,
      "outputs": [
        {
          "output_type": "stream",
          "name": "stdout",
          "text": [
            "{3: ['cat', 'dog'], 4: ['fish', 'mice'], 5: ['regex', 'apple']}\n"
          ]
        }
      ]
    },
    {
      "cell_type": "code",
      "source": [
        "data.remove('cat')\n",
        "print(data)"
      ],
      "metadata": {
        "colab": {
          "base_uri": "https://localhost:8080/",
          "height": 165
        },
        "id": "NQbpYlYE4Cnq",
        "outputId": "fdb1ac45-9890-47fc-edb7-d87769f9191d"
      },
      "execution_count": null,
      "outputs": [
        {
          "output_type": "error",
          "ename": "ValueError",
          "evalue": "list.remove(x): x not in list",
          "traceback": [
            "\u001b[0;31m---------------------------------------------------------------------------\u001b[0m",
            "\u001b[0;31mValueError\u001b[0m                                Traceback (most recent call last)",
            "\u001b[0;32m/tmp/ipython-input-6-2054736878.py\u001b[0m in \u001b[0;36m<cell line: 0>\u001b[0;34m()\u001b[0m\n\u001b[0;32m----> 1\u001b[0;31m \u001b[0mdata\u001b[0m\u001b[0;34m.\u001b[0m\u001b[0mremove\u001b[0m\u001b[0;34m(\u001b[0m\u001b[0;34m'cat'\u001b[0m\u001b[0;34m)\u001b[0m\u001b[0;34m\u001b[0m\u001b[0;34m\u001b[0m\u001b[0m\n\u001b[0m\u001b[1;32m      2\u001b[0m \u001b[0mprint\u001b[0m\u001b[0;34m(\u001b[0m\u001b[0mdata\u001b[0m\u001b[0;34m)\u001b[0m\u001b[0;34m\u001b[0m\u001b[0;34m\u001b[0m\u001b[0m\n",
            "\u001b[0;31mValueError\u001b[0m: list.remove(x): x not in list"
          ]
        }
      ]
    },
    {
      "cell_type": "code",
      "metadata": {
        "id": "d61d8c15"
      },
      "source": [
        "data=['cat','dog','fish','mice','regex','apple']"
      ],
      "execution_count": null,
      "outputs": []
    },
    {
      "cell_type": "code",
      "metadata": {
        "colab": {
          "base_uri": "https://localhost:8080/"
        },
        "id": "b56814c0",
        "outputId": "4d87945a-a4bb-46aa-a23b-e5ade2d2d7f8"
      },
      "source": [
        "data={'a':'90','b':'50'}\n",
        "data['b']=40\n",
        "print(data)\n",
        "#update values\n",
        "\n"
      ],
      "execution_count": null,
      "outputs": [
        {
          "output_type": "stream",
          "name": "stdout",
          "text": [
            "{'a': '90', 'b': 40}\n"
          ]
        }
      ]
    },
    {
      "cell_type": "code",
      "source": [
        "for i in range(n):\n",
        "  key = input(\"Enter key: \")\n",
        "  value = input(\"Enter value: \")\n",
        "  data[a] = b\n",
        "print(data)"
      ],
      "metadata": {
        "colab": {
          "base_uri": "https://localhost:8080/",
          "height": 238
        },
        "id": "GqGskc16B_-i",
        "outputId": "ead95302-54c4-4654-c529-b01974dab67e"
      },
      "execution_count": null,
      "outputs": [
        {
          "name": "stdout",
          "output_type": "stream",
          "text": [
            "enter the numbera\n"
          ]
        },
        {
          "output_type": "error",
          "ename": "ValueError",
          "evalue": "invalid literal for int() with base 10: 'a'",
          "traceback": [
            "\u001b[0;31m---------------------------------------------------------------------------\u001b[0m",
            "\u001b[0;31mValueError\u001b[0m                                Traceback (most recent call last)",
            "\u001b[0;32m/tmp/ipython-input-28-3785739253.py\u001b[0m in \u001b[0;36m<cell line: 0>\u001b[0;34m()\u001b[0m\n\u001b[0;32m----> 1\u001b[0;31m \u001b[0mn\u001b[0m\u001b[0;34m=\u001b[0m\u001b[0mint\u001b[0m\u001b[0;34m(\u001b[0m\u001b[0minput\u001b[0m\u001b[0;34m(\u001b[0m\u001b[0;34m\"enter the number\"\u001b[0m\u001b[0;34m)\u001b[0m\u001b[0;34m)\u001b[0m\u001b[0;34m\u001b[0m\u001b[0;34m\u001b[0m\u001b[0m\n\u001b[0m\u001b[1;32m      2\u001b[0m \u001b[0;32mfor\u001b[0m \u001b[0mi\u001b[0m \u001b[0;32min\u001b[0m \u001b[0mrange\u001b[0m\u001b[0;34m(\u001b[0m\u001b[0mn\u001b[0m\u001b[0;34m)\u001b[0m\u001b[0;34m:\u001b[0m\u001b[0;34m\u001b[0m\u001b[0;34m\u001b[0m\u001b[0m\n\u001b[1;32m      3\u001b[0m   \u001b[0mkey\u001b[0m \u001b[0;34m=\u001b[0m \u001b[0minput\u001b[0m\u001b[0;34m(\u001b[0m\u001b[0;34m\"Enter key: \"\u001b[0m\u001b[0;34m)\u001b[0m\u001b[0;34m\u001b[0m\u001b[0;34m\u001b[0m\u001b[0m\n\u001b[1;32m      4\u001b[0m   \u001b[0mvalue\u001b[0m \u001b[0;34m=\u001b[0m \u001b[0minput\u001b[0m\u001b[0;34m(\u001b[0m\u001b[0;34m\"Enter value: \"\u001b[0m\u001b[0;34m)\u001b[0m\u001b[0;34m\u001b[0m\u001b[0;34m\u001b[0m\u001b[0m\n\u001b[1;32m      5\u001b[0m   \u001b[0mdata\u001b[0m\u001b[0;34m[\u001b[0m\u001b[0mkey\u001b[0m\u001b[0;34m]\u001b[0m \u001b[0;34m=\u001b[0m \u001b[0mvalue\u001b[0m\u001b[0;34m\u001b[0m\u001b[0;34m\u001b[0m\u001b[0m\n",
            "\u001b[0;31mValueError\u001b[0m: invalid literal for int() with base 10: 'a'"
          ]
        }
      ]
    },
    {
      "cell_type": "code",
      "source": [
        "data={'a':'apple','b':'banana','c':12,}\n",
        "print(data)\n",
        "(data['b'])\n",
        "data['c']=13\n",
        "print(data)\n",
        "data['d']=14\n",
        "print(data)\n",
        "data['d']=15\n",
        "print(data)"
      ],
      "metadata": {
        "colab": {
          "base_uri": "https://localhost:8080/"
        },
        "id": "FGK_piyAFNMk",
        "outputId": "6ca6702f-77a7-4937-9c8e-48585b1cf68c"
      },
      "execution_count": null,
      "outputs": [
        {
          "output_type": "stream",
          "name": "stdout",
          "text": [
            "{'a': 'apple', 'b': 'banana', 'c': 12}\n",
            "{'a': 'apple', 'b': 'banana', 'c': 13}\n",
            "{'a': 'apple', 'b': 'banana', 'c': 13, 'd': 14}\n",
            "{'a': 'apple', 'b': 'banana', 'c': 13, 'd': 15}\n"
          ]
        }
      ]
    },
    {
      "cell_type": "code",
      "source": [
        "#data={'a':'apple','b':'banana','c':'orange','d':'kiwi','e':'banana'}\n",
        "#print(data)\n",
        "data2={}\n",
        "print(data2)\n",
        "for key,value in data.items():\n",
        "   if value not in data2.values():\n",
        "      data2[key]=value\n",
        "print(data2)"
      ],
      "metadata": {
        "colab": {
          "base_uri": "https://localhost:8080/"
        },
        "id": "Vy5qkB1o77wO",
        "outputId": "e2cec86b-40fa-4231-e099-4e294f890d34"
      },
      "execution_count": null,
      "outputs": [
        {
          "output_type": "stream",
          "name": "stdout",
          "text": [
            "{}\n",
            "{'a': 'apple', 'b': 'banana', 'c': 'orange', 'd': 'kiwi'}\n"
          ]
        }
      ]
    },
    {
      "cell_type": "code",
      "source": [
        "data={1:'kapil',2:'divya',3:'divyansh',4:'sourabh',5:'divya'}\n",
        "print(data)\n",
        "data2={}\n",
        "print(data2)\n",
        "for key,value in data.items():\n",
        "   if value not in data2.values():\n",
        "    data2[key]=value\n",
        "print(data2)"
      ],
      "metadata": {
        "colab": {
          "base_uri": "https://localhost:8080/"
        },
        "id": "WlROVxjaBJAy",
        "outputId": "8ac27986-2ab4-4309-89a7-6a155b99a177"
      },
      "execution_count": null,
      "outputs": [
        {
          "output_type": "stream",
          "name": "stdout",
          "text": [
            "{1: 'kapil', 2: 'divya', 3: 'divyansh', 4: 'sourabh', 5: 'divya'}\n",
            "{}\n",
            "{1: 'kapil', 2: 'divya', 3: 'divyansh', 4: 'sourabh'}\n"
          ]
        }
      ]
    },
    {
      "cell_type": "code",
      "source": [
        "data=['a','b','c','d','e']\n",
        "str=input(\"enter the string\")\n",
        "count=0\n",
        "for i in str:\n",
        "  if i in data:\n",
        "    count=count+1\n",
        "print(count)\n",
        "\n"
      ],
      "metadata": {
        "id": "WMjuwoC0KV1b"
      },
      "execution_count": null,
      "outputs": []
    }
  ],
  "metadata": {
    "colab": {
      "provenance": [],
      "authorship_tag": "ABX9TyNHq6qmv5nPVCH+oGPwG78s",
      "include_colab_link": true
    },
    "kernelspec": {
      "display_name": "Python 3",
      "name": "python3"
    },
    "language_info": {
      "name": "python"
    }
  },
  "nbformat": 4,
  "nbformat_minor": 0
}
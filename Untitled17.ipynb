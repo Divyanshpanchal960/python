{
  "nbformat": 4,
  "nbformat_minor": 0,
  "metadata": {
    "colab": {
      "provenance": [],
      "authorship_tag": "ABX9TyO3sKF4jzLWhWWexiYTOpRz",
      "include_colab_link": true
    },
    "kernelspec": {
      "name": "python3",
      "display_name": "Python 3"
    },
    "language_info": {
      "name": "python"
    }
  },
  "cells": [
    {
      "cell_type": "markdown",
      "metadata": {
        "id": "view-in-github",
        "colab_type": "text"
      },
      "source": [
        "<a href=\"https://colab.research.google.com/github/Divyanshpanchal960/python/blob/main/Untitled17.ipynb\" target=\"_parent\"><img src=\"https://colab.research.google.com/assets/colab-badge.svg\" alt=\"Open In Colab\"/></a>"
      ]
    },
    {
      "cell_type": "code",
      "execution_count": null,
      "metadata": {
        "colab": {
          "base_uri": "https://localhost:8080/"
        },
        "id": "Ijc05-hCQ_-K",
        "outputId": "766e6642-82c7-4c31-ef6e-a04f0aa130a6"
      },
      "outputs": [
        {
          "output_type": "stream",
          "name": "stdout",
          "text": [
            "[5, 12, 12, 24, 32, 34, 45, 65, 65, 66, 87, 88, 99]\n"
          ]
        }
      ],
      "source": [
        "data=[65,45,34,12,87,65,24,12,66,32,88,99,5]\n",
        "for i in range(len(data)):\n",
        "  for j in range(len(data)-i-1):\n",
        "    if data[j]>data[j+1]:\n",
        "      data[j],data[j+1]=data[j+1],data[j]\n",
        "print(data)"
      ]
    },
    {
      "cell_type": "code",
      "source": [],
      "metadata": {
        "id": "-xrHFBWdXgJM"
      },
      "execution_count": null,
      "outputs": []
    },
    {
      "cell_type": "code",
      "source": [
        "data=[1,3,4,2,5]\n",
        "for i in range(len(data)):\n",
        "  data[i]=data[i]**2\n",
        "print(data)\n",
        "data2=[]\n",
        "data2 = data[:]\n",
        "print(data2)"
      ],
      "metadata": {
        "colab": {
          "base_uri": "https://localhost:8080/"
        },
        "id": "jrVQzwkoU_1q",
        "outputId": "ee764cd1-e2fe-4b95-e531-b0dba91d06dc"
      },
      "execution_count": null,
      "outputs": [
        {
          "output_type": "stream",
          "name": "stdout",
          "text": [
            "[1, 9, 16, 4, 25]\n",
            "[1, 9, 16, 4, 25]\n"
          ]
        }
      ]
    },
    {
      "cell_type": "code",
      "source": [
        "data=[15,19,97,2,8,12,13,29]\n",
        "for i in range(len(data)):\n",
        "  for j in range(len(data)-i-1):\n",
        "    if data[i]%data[j]==0:\n",
        "      data.remove(data[i])\n",
        "print(data)\n",
        "data2=[]\n",
        "data2 = data[:]\n",
        "print(data2)\n",
        "\n",
        "\n"
      ],
      "metadata": {
        "colab": {
          "base_uri": "https://localhost:8080/"
        },
        "id": "bFTqBqy4y3Gb",
        "outputId": "1fc92b05-25e7-4cfa-da2a-1f1f3bed3d4e"
      },
      "execution_count": null,
      "outputs": [
        {
          "output_type": "stream",
          "name": "stdout",
          "text": [
            "[19, 2, 13, 29]\n",
            "[19, 2, 13, 29]\n"
          ]
        }
      ]
    },
    {
      "cell_type": "code",
      "source": [
        "data=[7,9,3,37,9,3,82,7,42,2,2]\n",
        "data2={}\n",
        "for i in data:\n",
        "  if i in data2:\n",
        "    print(data2)\n",
        "\n"
      ],
      "metadata": {
        "id": "LCf8eFY96VJY"
      },
      "execution_count": null,
      "outputs": []
    },
    {
      "cell_type": "code",
      "metadata": {
        "id": "5499531c"
      },
      "source": [
        "data=[7,9,3,37,9,3,82,7,42,2,2]\n",
        "for i in range(len(data)):\n",
        "  count=0\n",
        "  for j in range(len(data)-i-1):\n",
        "    if data[i]%data[j]==0:\n",
        "      if count>1:\n",
        "        print(data[i])\n",
        "\n"
      ],
      "execution_count": null,
      "outputs": []
    },
    {
      "cell_type": "code",
      "source": [
        "num=int(input(\"enter a number\"))\n",
        "for i in range(10,0,-1):\n",
        "  print(num,\"*\",i,\"=\",num*i)\n"
      ],
      "metadata": {
        "colab": {
          "base_uri": "https://localhost:8080/"
        },
        "id": "MtGfL9jsKnbx",
        "outputId": "443901fc-2807-4cdb-f08a-5e32eb59cbcd"
      },
      "execution_count": null,
      "outputs": [
        {
          "output_type": "stream",
          "name": "stdout",
          "text": [
            "enter a number5\n",
            "5 * 10 = 50\n",
            "5 * 9 = 45\n",
            "5 * 8 = 40\n",
            "5 * 7 = 35\n",
            "5 * 6 = 30\n",
            "5 * 5 = 25\n",
            "5 * 4 = 20\n",
            "5 * 3 = 15\n",
            "5 * 2 = 10\n",
            "5 * 1 = 5\n"
          ]
        }
      ]
    },
    {
      "cell_type": "code",
      "source": [
        "num=int(input(\"enter a number\"))\n",
        "rev=0\n",
        "while num>0:\n",
        "  digit=num%10\n",
        "  rev=rev*10+digit\n",
        "  num=num//10\n",
        "print(rev)\n"
      ],
      "metadata": {
        "id": "77hcB3AMQc8u",
        "colab": {
          "base_uri": "https://localhost:8080/"
        },
        "outputId": "63569aca-7bf4-4fd6-ba4d-ad5f8d2f75a8"
      },
      "execution_count": null,
      "outputs": [
        {
          "output_type": "stream",
          "name": "stdout",
          "text": [
            "enter a number123456\n",
            "654321\n"
          ]
        }
      ]
    },
    {
      "cell_type": "code",
      "source": [
        "num=int(input(\"enter the number\"))\n",
        "large_num=0\n",
        "while num>0:\n",
        "  digit=num%10\n",
        "  if digit>large_num:\n",
        "    large_num=digit\n",
        "  num=num//10\n",
        "print(large_num)"
      ],
      "metadata": {
        "colab": {
          "base_uri": "https://localhost:8080/"
        },
        "id": "YKzqDhXvl3Zk",
        "outputId": "d37b0cd9-9f0e-4038-bfdd-d60e3b0efe3b"
      },
      "execution_count": null,
      "outputs": [
        {
          "output_type": "stream",
          "name": "stdout",
          "text": [
            "enter the number12345\n",
            "5\n"
          ]
        }
      ]
    },
    {
      "cell_type": "code",
      "source": [
        "num=int(input(\"enter the number\"))\n",
        "small_num=9\n",
        "while num>0:\n",
        "  digit=num%10\n",
        "  if digit<small_num:\n",
        "    small_num=digit\n",
        "  num=num//10\n",
        "print(small_num)"
      ],
      "metadata": {
        "colab": {
          "base_uri": "https://localhost:8080/"
        },
        "id": "TsKddAoRnzLL",
        "outputId": "5787a3cc-35d1-4ac8-e750-7e9e829573aa"
      },
      "execution_count": null,
      "outputs": [
        {
          "output_type": "stream",
          "name": "stdout",
          "text": [
            "enter the number476485745683475\n",
            "3\n"
          ]
        }
      ]
    },
    {
      "cell_type": "code",
      "source": [
        "num=int(input(\"enter the number\"))\n",
        "sum=0\n",
        "orig_num=num\n",
        "power=1\n",
        "while num>0:\n",
        "  digit=num%10\n",
        "  sum=sum+digit**power\n",
        "  power=power+1\n",
        "  num=num//10\n",
        "  if sum==orig_num:\n",
        "    print(\"narcissistic number\")\n",
        "else:\n",
        "  print(\"not narcissistic number\")\n"
      ],
      "metadata": {
        "colab": {
          "base_uri": "https://localhost:8080/"
        },
        "id": "XaU-cFmSoyQE",
        "outputId": "e21fdd2e-f06a-471e-db3a-7328d6f8aaa2"
      },
      "execution_count": null,
      "outputs": [
        {
          "output_type": "stream",
          "name": "stdout",
          "text": [
            "enter the number153\n",
            "not narcissistic number\n"
          ]
        }
      ]
    },
    {
      "cell_type": "code",
      "source": [
        "#check two string are angram or not\n",
        "char1='listen'\n",
        "char2='tea'\n",
        "char3='post'\n",
        "char4='top'\n",
        "if sorted(char1)==sorted(char2):\n",
        "  print(\"angram\")\n",
        "else:\n",
        "  print(\"not angram\")\n"
      ],
      "metadata": {
        "colab": {
          "base_uri": "https://localhost:8080/"
        },
        "id": "H15WIpxxsDtJ",
        "outputId": "ad7bae39-66c0-4ecf-b9c6-dc3d34d81f23"
      },
      "execution_count": null,
      "outputs": [
        {
          "output_type": "stream",
          "name": "stdout",
          "text": [
            "not angram\n"
          ]
        }
      ]
    },
    {
      "cell_type": "code",
      "source": [
        "def table_five(a):\n",
        "  if a*5<=10:\n",
        "    print(a*5)\n",
        "    table_five(a+1)\n",
        "table_five(1)"
      ],
      "metadata": {
        "colab": {
          "base_uri": "https://localhost:8080/"
        },
        "id": "4u8yTJllEHYe",
        "outputId": "66063e7f-4ca9-4bb9-8bb3-a7c37f6ea10a"
      },
      "execution_count": null,
      "outputs": [
        {
          "output_type": "stream",
          "name": "stdout",
          "text": [
            "5\n",
            "10\n"
          ]
        }
      ]
    },
    {
      "cell_type": "code",
      "source": [
        "class mahindra:\n",
        "  color =\"black\"\n",
        "  model= \"2025\"\n",
        "  fuel_type=\"diesel\"\n",
        "  transmission=\"manual\"\n",
        "  def car(self):\n",
        "    print(\"scorpio\")\n",
        "  def car2(self):\n",
        "    print(\"thar\")\n",
        "  def start(self):\n",
        "    print(\"brooommmmmm\")\n",
        "  def stop(self):\n",
        "    print(\"stop broooomm\")\n",
        "  def gear(self):\n",
        "    print(\"engage first gear\")\n",
        "scorpio=mahindra()\n",
        "scorpio.car()\n",
        "scorpio.start()\n",
        "print(scorpio.color)\n",
        "print(scorpio.model)\n",
        "print(scorpio.fuel_type)\n",
        "print(scorpio.transmission)\n",
        "scorpio.color=\"white\"\n",
        "print(scorpio.color)\n",
        "thar=mahindra()\n",
        "print(thar.color)\n",
        "print(thar.model)\n",
        "print(thar.transmission)\n",
        "thar.start()\n",
        "thar.gear()\n",
        "thar.car2()\n"
      ],
      "metadata": {
        "colab": {
          "base_uri": "https://localhost:8080/"
        },
        "id": "vuL15ze7aapr",
        "outputId": "cd59f3dd-ed83-44a5-8eaf-1c97cf098c27"
      },
      "execution_count": null,
      "outputs": [
        {
          "output_type": "stream",
          "name": "stdout",
          "text": [
            "scorpio\n",
            "brooommmmmm\n",
            "black\n",
            "2025\n",
            "diesel\n",
            "manual\n",
            "white\n",
            "black\n",
            "2025\n",
            "manual\n",
            "brooommmmmm\n",
            "engage first gear\n",
            "thar\n"
          ]
        }
      ]
    },
    {
      "cell_type": "code",
      "source": [
        "def f1(a):\n",
        "  if a<1:\n",
        "    return 0\n",
        "  print(a,end=' ')\n",
        "  return f1(a-1)\n",
        "(f1(10))\n"
      ],
      "metadata": {
        "colab": {
          "base_uri": "https://localhost:8080/"
        },
        "id": "YjIkTjEUbIKb",
        "outputId": "955246aa-836f-49f2-bd26-43e7541fdc7c"
      },
      "execution_count": null,
      "outputs": [
        {
          "output_type": "stream",
          "name": "stdout",
          "text": [
            "10 9 8 7 6 5 4 3 2 1 "
          ]
        },
        {
          "output_type": "execute_result",
          "data": {
            "text/plain": [
              "0"
            ]
          },
          "metadata": {},
          "execution_count": 2
        }
      ]
    },
    {
      "cell_type": "code",
      "source": [
        "data=[12,34,5,5,67]\n",
        "def f1(a):\n",
        "  if len(data)==a:\n",
        "     return 0\n",
        "  print (data[a])\n",
        "  f1(a+1)\n",
        "f1(0)\n",
        "\n",
        "\n"
      ],
      "metadata": {
        "colab": {
          "base_uri": "https://localhost:8080/"
        },
        "id": "1kALEHwjcHkh",
        "outputId": "a0c3eaf2-cb8c-4666-bc29-482d9b3d96bf"
      },
      "execution_count": null,
      "outputs": [
        {
          "output_type": "stream",
          "name": "stdout",
          "text": [
            "12\n",
            "34\n",
            "5\n",
            "5\n",
            "67\n"
          ]
        }
      ]
    },
    {
      "cell_type": "code",
      "source": [
        "name=\"regex\"\n",
        "def display(stop,collection):\n",
        "  if stop<0:\n",
        "    return 0\n",
        "  print(collection[stop])\n",
        "  display(stop-1,collection)\n",
        "display(len(name)-1,name)"
      ],
      "metadata": {
        "colab": {
          "base_uri": "https://localhost:8080/"
        },
        "id": "xXZ6rMF8fej8",
        "outputId": "78d30968-c0ad-4e25-87f9-37ecb9678a69"
      },
      "execution_count": null,
      "outputs": [
        {
          "output_type": "stream",
          "name": "stdout",
          "text": [
            "x\n",
            "e\n",
            "g\n",
            "e\n",
            "r\n"
          ]
        }
      ]
    },
    {
      "cell_type": "code",
      "source": [
        "def f1(a):\n",
        "  if a<=10:\n",
        "    print(a,end=' ')\n",
        "    return f1(a+1)\n",
        "\n",
        "f1(1)"
      ],
      "metadata": {
        "colab": {
          "base_uri": "https://localhost:8080/"
        },
        "id": "VIhDR-tBjKvI",
        "outputId": "df6ba9fd-fb2f-484e-e690-03001269a636"
      },
      "execution_count": null,
      "outputs": [
        {
          "output_type": "stream",
          "name": "stdout",
          "text": [
            "1 2 3 4 5 6 7 8 9 10 "
          ]
        }
      ]
    },
    {
      "cell_type": "code",
      "source": [
        "def f1(a):\n",
        "  if a<1:\n",
        "     return 0\n",
        "  print(a,end=' ')\n",
        "  return f1(a-1)\n",
        "f1(10)"
      ],
      "metadata": {
        "colab": {
          "base_uri": "https://localhost:8080/"
        },
        "id": "h2MlktfaUcBL",
        "outputId": "0261770a-0aa6-49de-c989-36f7509e9263"
      },
      "execution_count": null,
      "outputs": [
        {
          "output_type": "stream",
          "name": "stdout",
          "text": [
            "10 9 8 7 6 5 4 3 2 1 "
          ]
        },
        {
          "output_type": "execute_result",
          "data": {
            "text/plain": [
              "0"
            ]
          },
          "metadata": {},
          "execution_count": 4
        }
      ]
    },
    {
      "cell_type": "code",
      "source": [
        "class employee:\n",
        "  emp_name=\"Divyansh\"\n",
        "  emp_id=\"101\"\n",
        "  emp_age=\"24\"\n",
        "  emp_role=\"big data enginner\"\n",
        "  emp_mobile_no=\"7878659802\"\n",
        "  emp_address=\"banswara\"\n",
        "  def details():\n",
        "    print(\"employee details\")\n",
        "details=employee()\n",
        "print(employee.emp_name)\n",
        "print(employee.emp_id)\n",
        "print(employee.emp_age)\n",
        "print(employee.emp_role)\n",
        "print(employee.emp_mobile_no)\n",
        "print(employee.emp_address)\n",
        "\n"
      ],
      "metadata": {
        "id": "81xqbPq6WSHl",
        "colab": {
          "base_uri": "https://localhost:8080/"
        },
        "outputId": "f8f7773c-0b1f-4e27-f523-33752f9859d1"
      },
      "execution_count": null,
      "outputs": [
        {
          "output_type": "stream",
          "name": "stdout",
          "text": [
            "Divyansh\n",
            "101\n",
            "24\n",
            "big data enginner\n",
            "7878659802\n",
            "banswara\n"
          ]
        }
      ]
    },
    {
      "cell_type": "code",
      "source": [
        "num=int(input(\"enter the number\"))\n",
        "def fact(num):\n",
        "  if num==0:\n",
        "    return 1\n",
        "  else:\n",
        "    return (num*fact(num-1))\n",
        "print(fact(num))"
      ],
      "metadata": {
        "colab": {
          "base_uri": "https://localhost:8080/"
        },
        "id": "YpC-GAvd6ole",
        "outputId": "e4fffad8-7fd9-4def-a3d3-77d32433a16a"
      },
      "execution_count": null,
      "outputs": [
        {
          "output_type": "stream",
          "name": "stdout",
          "text": [
            "enter the number5\n",
            "120\n"
          ]
        }
      ]
    },
    {
      "cell_type": "code",
      "source": [
        "num=int(input(\"enter the number\"))\n",
        "sum=0\n",
        "a=2\n",
        "term=''\n",
        "for i in range(1,num+1):\n",
        "  term=term+str(i)\n"
      ],
      "metadata": {
        "colab": {
          "base_uri": "https://localhost:8080/"
        },
        "id": "oEQZ3YPcAFeW",
        "outputId": "124f52d8-d34d-4a5d-e635-0864adeeea80"
      },
      "execution_count": null,
      "outputs": [
        {
          "name": "stdout",
          "output_type": "stream",
          "text": [
            "enter the number5\n"
          ]
        }
      ]
    },
    {
      "cell_type": "code",
      "source": [
        "add=lambda x,y: x+y\n",
        "print(add(2,3))"
      ],
      "metadata": {
        "colab": {
          "base_uri": "https://localhost:8080/"
        },
        "id": "WqysDmJfpLeE",
        "outputId": "89d7b609-84ea-4960-9707-e51b72e22401"
      },
      "execution_count": null,
      "outputs": [
        {
          "output_type": "stream",
          "name": "stdout",
          "text": [
            "5\n"
          ]
        }
      ]
    },
    {
      "cell_type": "code",
      "source": [
        "fact=lambda num:1 if num==0 else num*fact(num-1)\n",
        "print(fact(5))\n"
      ],
      "metadata": {
        "colab": {
          "base_uri": "https://localhost:8080/"
        },
        "id": "uWhmtDX5uv8l",
        "outputId": "9a702b42-9150-4089-8ed0-593b55053d01"
      },
      "execution_count": null,
      "outputs": [
        {
          "output_type": "stream",
          "name": "stdout",
          "text": [
            "120\n"
          ]
        }
      ]
    },
    {
      "cell_type": "code",
      "source": [
        "even=lambda num: num%2==0\n",
        "print(even(2))"
      ],
      "metadata": {
        "colab": {
          "base_uri": "https://localhost:8080/"
        },
        "id": "_9JwowJCvuAk",
        "outputId": "e6ea5157-0eb8-42a7-ff00-68ebb0e2ce23"
      },
      "execution_count": null,
      "outputs": [
        {
          "output_type": "stream",
          "name": "stdout",
          "text": [
            "True\n"
          ]
        }
      ]
    },
    {
      "cell_type": "code",
      "source": [
        "sum=lambda num:num (for i in range len(1,11)),num%2==1\n",
        "print(sum)"
      ],
      "metadata": {
        "colab": {
          "base_uri": "https://localhost:8080/",
          "height": 106
        },
        "id": "ZNYCurp9xsmp",
        "outputId": "235d7af8-024d-4bf0-a86b-9aca56538a94"
      },
      "execution_count": null,
      "outputs": [
        {
          "output_type": "error",
          "ename": "SyntaxError",
          "evalue": "invalid syntax (ipython-input-20-546694746.py, line 1)",
          "traceback": [
            "\u001b[0;36m  File \u001b[0;32m\"/tmp/ipython-input-20-546694746.py\"\u001b[0;36m, line \u001b[0;32m1\u001b[0m\n\u001b[0;31m    sum=lambda num: (for i in range len(1,10)),num%2==1\u001b[0m\n\u001b[0m                     ^\u001b[0m\n\u001b[0;31mSyntaxError\u001b[0m\u001b[0;31m:\u001b[0m invalid syntax\n"
          ]
        }
      ]
    },
    {
      "cell_type": "code",
      "source": [
        "add=lambda  x,y:x+y\n",
        "print(2+3)\n"
      ],
      "metadata": {
        "colab": {
          "base_uri": "https://localhost:8080/"
        },
        "id": "noJTCC1YyxEE",
        "outputId": "286cfd30-4b28-4225-e820-30c5265d4645"
      },
      "execution_count": null,
      "outputs": [
        {
          "output_type": "stream",
          "name": "stdout",
          "text": [
            "5\n"
          ]
        }
      ]
    },
    {
      "cell_type": "code",
      "source": [
        "for i in range(0,10):\n",
        "  print(i,end=' ')"
      ],
      "metadata": {
        "colab": {
          "base_uri": "https://localhost:8080/"
        },
        "id": "4Esl1Ws-zlFF",
        "outputId": "e713f5f4-c513-473c-a7fb-c841ad46b633"
      },
      "execution_count": null,
      "outputs": [
        {
          "output_type": "stream",
          "name": "stdout",
          "text": [
            "1 2 3 4 5 6 7 8 9 "
          ]
        }
      ]
    },
    {
      "cell_type": "code",
      "source": [
        "i=0\n",
        "while i<=10:\n",
        "  i=i+1\n",
        "  print(i)"
      ],
      "metadata": {
        "colab": {
          "base_uri": "https://localhost:8080/"
        },
        "id": "Ub857m7I6sXa",
        "outputId": "38fa4b91-f200-451f-9a25-811e27180445"
      },
      "execution_count": null,
      "outputs": [
        {
          "output_type": "stream",
          "name": "stdout",
          "text": [
            "1\n",
            "2\n",
            "3\n",
            "4\n",
            "5\n",
            "6\n",
            "7\n",
            "8\n",
            "9\n",
            "10\n",
            "11\n"
          ]
        }
      ]
    },
    {
      "cell_type": "code",
      "source": [
        "i=0\n",
        "while i<30:\n",
        "  i=i+3\n",
        "  print(f'3 * {i//3} = {i}')"
      ],
      "metadata": {
        "colab": {
          "base_uri": "https://localhost:8080/"
        },
        "id": "xdPnijF467FL",
        "outputId": "6b03a909-1d9d-4d6b-8df0-1ee5c6f4e66e"
      },
      "execution_count": null,
      "outputs": [
        {
          "output_type": "stream",
          "name": "stdout",
          "text": [
            "3 * 1 = 3\n",
            "3 * 2 = 6\n",
            "3 * 3 = 9\n",
            "3 * 4 = 12\n",
            "3 * 5 = 15\n",
            "3 * 6 = 18\n",
            "3 * 7 = 21\n",
            "3 * 8 = 24\n",
            "3 * 9 = 27\n",
            "3 * 10 = 30\n"
          ]
        }
      ]
    },
    {
      "cell_type": "code",
      "source": [
        "num=int(input(\"enter number\"))\n",
        "for i in range(1,10):\n",
        "  print(num,'*',i,\"=\",num*i)"
      ],
      "metadata": {
        "colab": {
          "base_uri": "https://localhost:8080/"
        },
        "id": "KG0a8oAHEYM-",
        "outputId": "e292ee08-50bc-431b-cd68-e8988bcd3982"
      },
      "execution_count": null,
      "outputs": [
        {
          "output_type": "stream",
          "name": "stdout",
          "text": [
            "enter number5\n",
            "5 * 1 = 5\n",
            "5 * 2 = 10\n",
            "5 * 3 = 15\n",
            "5 * 4 = 20\n",
            "5 * 5 = 25\n",
            "5 * 6 = 30\n",
            "5 * 7 = 35\n",
            "5 * 8 = 40\n",
            "5 * 9 = 45\n"
          ]
        }
      ]
    },
    {
      "cell_type": "markdown",
      "source": [
        "self- it is an instance of a class\n",
        "use in accessing variable'\n",
        "use in modify instance variable\n",
        "help in method calling of a class\n",
        "help in creating instance variable\n",
        "instance variable is a variable whose value change from object to object.\n",
        "#to declare instance variable we use self.variable_name\n",
        "#you can access your instance variable in any method of same class but method should execute first\n",
        "\n",
        "class c1:\n",
        "def m1(self,a,b):\n",
        "self.a=a\n",
        "self.b=b\n",
        "return self.a+self.b\n",
        "\n",
        "obj=c1()\n",
        "print(obj.m1(90,10))\n",
        "\n",
        "obj=c1()\n",
        "print(obj2.m1(1,2))\n"
      ],
      "metadata": {
        "id": "woikTUw-of45"
      }
    },
    {
      "cell_type": "code",
      "source": [
        "class mahindra:\n",
        "  color='black&white'\n",
        "  model='2024'\n",
        "  fuel_type='disel'\n",
        "  alloyewheels='yes'\n",
        "  transmission='manual'\n",
        "  def car(self):\n",
        "    print(\"bolero\")\n",
        "  def car2(self):\n",
        "    print(\"xuv700\")\n",
        "  def start(self):\n",
        "    print(\"broommmmmm\")\n",
        "  def stop(self):\n",
        "    print(\"silent\")\n",
        "  def gear(self):\n",
        "    print(\"engage 1st gear\")\n",
        "  def press_accelerator(self):\n",
        "    print(\"lets go for a ride\")\n",
        "  def play_music(self):\n",
        "    print(\"melody songs\")\n",
        "  def press_brake(self):\n",
        "    print(\"at house\")\n",
        "\n",
        "bolero=mahindra()\n",
        "bolero.car()\n",
        "bolero.start()\n",
        "bolero.gear()\n",
        "bolero.press_accelerator()\n",
        "bolero.play_music()\n",
        "bolero.color=\"white\"\n",
        "print(bolero.color)\n",
        "print(bolero.model)\n",
        "print(bolero.fuel_type)\n",
        "print(bolero.alloyewheels)\n",
        "print(bolero.transmission)\n",
        "bolero.press_brake()\n",
        "bolero.stop()\n",
        "\n",
        "xuv700=mahindra()\n",
        "xuv700.car2()\n",
        "xuv700.start()\n",
        "xuv700.gear()\n",
        "xuv700.press_accelerator()\n",
        "xuv700.play_music()\n",
        "print(xuv700.color)\n",
        "print(xuv700.model)\n",
        "print(xuv700.fuel_type)\n",
        "print(xuv700.alloyewheels)\n",
        "print(xuv700.transmission)\n",
        "xuv700.press_brake()\n",
        "xuv700.stop()\n",
        "\n"
      ],
      "metadata": {
        "colab": {
          "base_uri": "https://localhost:8080/"
        },
        "id": "j-dWHpOGFJ77",
        "outputId": "0016f123-cfe6-44d3-b4dc-5f8e6a599850"
      },
      "execution_count": null,
      "outputs": [
        {
          "output_type": "stream",
          "name": "stdout",
          "text": [
            "bolero\n",
            "broommmmmm\n",
            "engage 1st gear\n",
            "lets go for a ride\n",
            "melody songs\n",
            "white\n",
            "2024\n",
            "disel\n",
            "yes\n",
            "manual\n",
            "at house\n",
            "silent\n",
            "xuv700\n",
            "broommmmmm\n",
            "engage 1st gear\n",
            "lets go for a ride\n",
            "melody songs\n",
            "black&white\n",
            "2024\n",
            "disel\n",
            "yes\n",
            "manual\n",
            "at house\n",
            "silent\n"
          ]
        }
      ]
    },
    {
      "cell_type": "code",
      "source": [
        "data=[0,1,2,3,4,5,6,7,8,9,10]\n",
        "print(data)\n",
        "data[4]=90\n",
        "print(data)\n",
        "x=data[0]\n",
        "print(data)\n",
        "print(data.count(1))\n",
        "print(data.count(4))\n",
        "print(data.insert(4,100))\n",
        "print(data)\n",
        "print(data.remove(100))\n",
        "print(data)\n",
        "print(data.remove(90))\n",
        "print(data)\n",
        "data[2]=95\n",
        "print(data)\n",
        "data[3]=95\n",
        "print(data)\n",
        "print(data.count(95))\n",
        "print(data.index(95))\n",
        "print(data.index(95))\n",
        "print(data)\n",
        "data.append(4)\n",
        "print(data)\n",
        "data.sort()\n",
        "print(data)\n",
        "data.append(2)\n",
        "print(data)\n",
        "data.append(3)\n",
        "print(data)\n",
        "data.sort()\n",
        "print(data)\n",
        "data.reverse()\n",
        "print(data)\n",
        "print(data.index(95))\n",
        "print(data.index(2))\n",
        "print(data.index(3))\n",
        "print(data.index(4))\n",
        "data.pop()\n",
        "print(data)\n",
        "print(data.remove(95))\n",
        "print(data)\n",
        "print(data.remove(95))\n",
        "print(data)\n",
        "data.sort()\n",
        "print(data)\n",
        "\n",
        "\n"
      ],
      "metadata": {
        "colab": {
          "base_uri": "https://localhost:8080/"
        },
        "id": "WBK7ula1d7vc",
        "outputId": "7ec4d807-97dd-4b8c-a6b4-41b4355b951c"
      },
      "execution_count": null,
      "outputs": [
        {
          "output_type": "stream",
          "name": "stdout",
          "text": [
            "[0, 1, 2, 3, 4, 5, 6, 7, 8, 9, 10]\n",
            "[0, 1, 2, 3, 90, 5, 6, 7, 8, 9, 10]\n",
            "[0, 1, 2, 3, 90, 5, 6, 7, 8, 9, 10]\n",
            "1\n",
            "0\n",
            "None\n",
            "[0, 1, 2, 3, 100, 90, 5, 6, 7, 8, 9, 10]\n",
            "None\n",
            "[0, 1, 2, 3, 90, 5, 6, 7, 8, 9, 10]\n",
            "None\n",
            "[0, 1, 2, 3, 5, 6, 7, 8, 9, 10]\n",
            "[0, 1, 95, 3, 5, 6, 7, 8, 9, 10]\n",
            "[0, 1, 95, 95, 5, 6, 7, 8, 9, 10]\n",
            "2\n",
            "2\n",
            "2\n",
            "[0, 1, 95, 95, 5, 6, 7, 8, 9, 10]\n",
            "[0, 1, 95, 95, 5, 6, 7, 8, 9, 10, 4]\n",
            "[0, 1, 4, 5, 6, 7, 8, 9, 10, 95, 95]\n",
            "[0, 1, 4, 5, 6, 7, 8, 9, 10, 95, 95, 2]\n",
            "[0, 1, 4, 5, 6, 7, 8, 9, 10, 95, 95, 2, 3]\n",
            "[0, 1, 2, 3, 4, 5, 6, 7, 8, 9, 10, 95, 95]\n",
            "[95, 95, 10, 9, 8, 7, 6, 5, 4, 3, 2, 1, 0]\n",
            "0\n",
            "10\n",
            "9\n",
            "8\n",
            "[95, 95, 10, 9, 8, 7, 6, 5, 4, 3, 2, 1]\n",
            "None\n",
            "[95, 10, 9, 8, 7, 6, 5, 4, 3, 2, 1]\n",
            "None\n",
            "[10, 9, 8, 7, 6, 5, 4, 3, 2, 1]\n",
            "[1, 2, 3, 4, 5, 6, 7, 8, 9, 10]\n"
          ]
        }
      ]
    },
    {
      "cell_type": "code",
      "source": [
        "class c1:\n",
        "  def m1(self,a,b):\n",
        "    self.a=a\n",
        "    self.b=b\n",
        "    return self.a+self.b\n",
        "  def m2(self,a,b):\n",
        "    self.a=a\n",
        "    self.b=b\n",
        "    return self.a*self.b\n",
        "\n",
        "obj=c1()\n",
        "print(obj.m1(90,10))\n",
        "\n",
        "obj=c1()\n",
        "print(obj.m2(1,2))\n"
      ],
      "metadata": {
        "colab": {
          "base_uri": "https://localhost:8080/"
        },
        "id": "CxQpej0bvH71",
        "outputId": "b7ec8380-7f29-4ab6-cfbe-8cca91bcd17f"
      },
      "execution_count": null,
      "outputs": [
        {
          "output_type": "stream",
          "name": "stdout",
          "text": [
            "100\n",
            "2\n"
          ]
        }
      ]
    },
    {
      "cell_type": "code",
      "source": [
        "class s1:\n",
        "  data=30\n",
        "  def add(self,a,b,c):\n",
        "    self.a=a\n",
        "    self.b=b\n",
        "    self.c=c\n",
        "    s1.new=2000\n",
        "    return self.a+self.b+self.c+s1.data+s1.new\n",
        "  def sub(self,a,b,c):\n",
        "    print(self.a-self.b-self.c-s1.data-s1.new)\n",
        "  def mul(self,a,b,c):\n",
        "    print(s1.data*s1.new)\n",
        "obj=s1()\n",
        "print(obj.add(1,2,3))\n",
        "obj.sub(10,20,30)\n",
        "print(obj.data)\n",
        "print(obj.new)\n",
        "obj.mul(1,2,3)\n",
        "print(obj.data)\n",
        "print(obj.new)\n",
        "\n"
      ],
      "metadata": {
        "colab": {
          "base_uri": "https://localhost:8080/"
        },
        "id": "0vk4xVEE8Qag",
        "outputId": "16fff0ee-20cd-40bf-80b9-2c98eacd3669"
      },
      "execution_count": null,
      "outputs": [
        {
          "output_type": "stream",
          "name": "stdout",
          "text": [
            "2036\n",
            "-2034\n",
            "30\n",
            "2000\n",
            "60000\n",
            "30\n",
            "2000\n"
          ]
        }
      ]
    },
    {
      "cell_type": "code",
      "source": [
        "data=[1,2,3,4,5,6,7,8,9,]\n",
        "print(data)\n",
        "print(data.remove(4))\n",
        "print(data)\n",
        "data.insert(3,4)\n",
        "print(data)\n",
        "data.remove(4)\n",
        "print(data)\n",
        "data.insert(3,4)\n",
        "print(data)\n",
        "data.insert(0,60)\n",
        "print(data)\n",
        "# print(data.count(1))\n",
        "\n"
      ],
      "metadata": {
        "colab": {
          "base_uri": "https://localhost:8080/"
        },
        "id": "FMFWwTRl48iS",
        "outputId": "ea8880fb-6db6-48c8-dd9a-676ed954f513"
      },
      "execution_count": null,
      "outputs": [
        {
          "output_type": "stream",
          "name": "stdout",
          "text": [
            "[1, 2, 3, 4, 5, 6, 7, 8, 9]\n",
            "None\n",
            "[1, 2, 3, 5, 6, 7, 8, 9]\n",
            "[1, 2, 3, 4, 5, 6, 7, 8, 9]\n",
            "[1, 2, 3, 5, 6, 7, 8, 9]\n",
            "[1, 2, 3, 4, 5, 6, 7, 8, 9]\n",
            "[60, 1, 2, 3, 4, 5, 6, 7, 8, 9]\n"
          ]
        }
      ]
    },
    {
      "cell_type": "code",
      "source": [
        "class tree:\n",
        "  data=40\n",
        "  def t1(self,a,b):\n",
        "    self.a=12\n",
        "    self.b=3\n",
        "    tree.new=120\n",
        "    return self.a+self.b\n",
        "  def t2(self,a,b):\n",
        "      print(self.a*self.b)\n",
        "x=tree()\n",
        "print(x.t1(12,3))\n",
        "print(x.data)\n",
        "print(x.new)\n",
        "print(x.t2(12,3))\n",
        "\n"
      ],
      "metadata": {
        "colab": {
          "base_uri": "https://localhost:8080/"
        },
        "id": "BCQu4AnT56Fk",
        "outputId": "9e84af02-7e04-4b4c-fe74-010d3cf25865"
      },
      "execution_count": 21,
      "outputs": [
        {
          "output_type": "stream",
          "name": "stdout",
          "text": [
            "15\n",
            "40\n",
            "120\n",
            "36\n",
            "None\n"
          ]
        }
      ]
    },
    {
      "cell_type": "code",
      "source": [
        "class div:\n",
        "  data=123\n",
        "  def s1(self,a,b):\n",
        "      self.a=2\n",
        "      self.b=3\n",
        "      div.new=1345\n",
        "      return div.data+div.new\n",
        "s=div()\n",
        "print(s.data)\n",
        "print(s.s1(2,3))\n",
        "print(s.new)\n",
        "\n",
        "\n"
      ],
      "metadata": {
        "colab": {
          "base_uri": "https://localhost:8080/"
        },
        "id": "3Lv-D1lbZGjZ",
        "outputId": "ff98539f-0c11-40c2-816a-e75a74bc17dc"
      },
      "execution_count": null,
      "outputs": [
        {
          "output_type": "stream",
          "name": "stdout",
          "text": [
            "123\n",
            "1468\n",
            "1345\n"
          ]
        }
      ]
    },
    {
      "cell_type": "code",
      "source": [
        "data='123djfk0456jkdf'\n",
        "num=list(filter(lambda x:x.isdigit(),data))\n",
        "print(num)\n"
      ],
      "metadata": {
        "colab": {
          "base_uri": "https://localhost:8080/"
        },
        "id": "nE5JUCXPcrQV",
        "outputId": "1071075a-a334-43e6-c143-bb160fe7c22f"
      },
      "execution_count": null,
      "outputs": [
        {
          "output_type": "stream",
          "name": "stdout",
          "text": [
            "['1', '2', '3', '0', '4', '5', '6']\n"
          ]
        }
      ]
    },
    {
      "cell_type": "code",
      "source": [
        "class dhruvv:\n",
        "  data=20\n",
        "  def d1(self,a,b,c):\n",
        "    self.a=a\n",
        "    self.b=b\n",
        "    self.c=c\n",
        "    dhruvv.new=3000\n",
        "    return self.a+self.b-self.c*dhruvv.data%dhruvv.new\n",
        "  def d2(self,a,b,c):\n",
        "    print(self.a+self.b-self.c*dhruvv.data%dhruvv.new)\n",
        "\n",
        "x=dhruvv()\n",
        "print(x.data)\n",
        "print(x.d1(1,2,3))\n",
        "print(x.new)\n",
        "print(x.d2(1,2,3))\n",
        "\n",
        "\n"
      ],
      "metadata": {
        "colab": {
          "base_uri": "https://localhost:8080/"
        },
        "id": "cPAWq2tAzmPj",
        "outputId": "a714ddc5-5a09-403d-98b9-fe897be94c44"
      },
      "execution_count": 30,
      "outputs": [
        {
          "output_type": "stream",
          "name": "stdout",
          "text": [
            "20\n",
            "-57\n",
            "3000\n",
            "-57\n",
            "None\n"
          ]
        }
      ]
    }
  ]
}
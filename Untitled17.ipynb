{
  "cells": [
    {
      "cell_type": "markdown",
      "metadata": {
        "id": "view-in-github",
        "colab_type": "text"
      },
      "source": [
        "<a href=\"https://colab.research.google.com/github/Divyanshpanchal960/python/blob/main/Untitled17.ipynb\" target=\"_parent\"><img src=\"https://colab.research.google.com/assets/colab-badge.svg\" alt=\"Open In Colab\"/></a>"
      ]
    },
    {
      "cell_type": "code",
      "execution_count": null,
      "metadata": {
        "colab": {
          "base_uri": "https://localhost:8080/"
        },
        "id": "Ijc05-hCQ_-K",
        "outputId": "766e6642-82c7-4c31-ef6e-a04f0aa130a6"
      },
      "outputs": [
        {
          "name": "stdout",
          "output_type": "stream",
          "text": [
            "[5, 12, 12, 24, 32, 34, 45, 65, 65, 66, 87, 88, 99]\n"
          ]
        }
      ],
      "source": [
        "data=[65,45,34,12,87,65,24,12,66,32,88,99,5]\n",
        "for i in range(len(data)):\n",
        "  for j in range(len(data)-i-1):\n",
        "    if data[j]>data[j+1]:\n",
        "      data[j],data[j+1]=data[j+1],data[j]\n",
        "print(data)"
      ]
    },
    {
      "cell_type": "code",
      "execution_count": null,
      "metadata": {
        "id": "-xrHFBWdXgJM",
        "colab": {
          "base_uri": "https://localhost:8080/"
        },
        "outputId": "68d72bbc-dea0-4582-fb8c-160d1fe6f029"
      },
      "outputs": [
        {
          "output_type": "stream",
          "name": "stdout",
          "text": [
            "[0, 4, 5, 6, 7, 7, 8, 12, 23, 34, 45, 65, 74]\n"
          ]
        }
      ],
      "source": [
        "data=[45,23,6,74,12,34,65,7,8,0,4,5,7,]\n",
        "data.sort()\n",
        "print(data)"
      ]
    },
    {
      "cell_type": "code",
      "source": [],
      "metadata": {
        "id": "USVSjTnbIxU3"
      },
      "execution_count": null,
      "outputs": []
    },
    {
      "cell_type": "code",
      "execution_count": null,
      "metadata": {
        "colab": {
          "base_uri": "https://localhost:8080/"
        },
        "id": "jrVQzwkoU_1q",
        "outputId": "ee764cd1-e2fe-4b95-e531-b0dba91d06dc"
      },
      "outputs": [
        {
          "name": "stdout",
          "output_type": "stream",
          "text": [
            "[1, 9, 16, 4, 25]\n",
            "[1, 9, 16, 4, 25]\n"
          ]
        }
      ],
      "source": [
        "data=[1,3,4,2,5]\n",
        "for i in range(len(data)):\n",
        "  data[i]=data[i]**2\n",
        "print(data)\n",
        "data2=[]\n",
        "data2 = data[:]\n",
        "print(data2)"
      ]
    },
    {
      "cell_type": "code",
      "execution_count": null,
      "metadata": {
        "colab": {
          "base_uri": "https://localhost:8080/"
        },
        "id": "bFTqBqy4y3Gb",
        "outputId": "1fc92b05-25e7-4cfa-da2a-1f1f3bed3d4e"
      },
      "outputs": [
        {
          "name": "stdout",
          "output_type": "stream",
          "text": [
            "[19, 2, 13, 29]\n",
            "[19, 2, 13, 29]\n"
          ]
        }
      ],
      "source": [
        "data=[15,19,97,2,8,12,13,29]\n",
        "for i in range(len(data)):\n",
        "  for j in range(len(data)-i-1):\n",
        "    if data[i]%data[j]==0:\n",
        "      data.remove(data[i])\n",
        "print(data)\n",
        "data2=[]\n",
        "data2 = data[:]\n",
        "print(data2)\n",
        "\n",
        "\n"
      ]
    },
    {
      "cell_type": "code",
      "execution_count": null,
      "metadata": {
        "id": "LCf8eFY96VJY"
      },
      "outputs": [],
      "source": [
        "data=[7,9,3,37,9,3,82,7,42,2,2]\n",
        "data2={}\n",
        "for i in data:\n",
        "  if i in data2:\n",
        "    print(data2)\n",
        "\n"
      ]
    },
    {
      "cell_type": "code",
      "execution_count": null,
      "metadata": {
        "id": "5499531c"
      },
      "outputs": [],
      "source": [
        "data=[7,9,3,37,9,3,82,7,42,2,2]\n",
        "for i in range(len(data)):\n",
        "  count=0\n",
        "  for j in range(len(data)-i-1):\n",
        "    if data[i]%data[j]==0:\n",
        "      if count>1:\n",
        "        print(data[i])\n",
        "\n"
      ]
    },
    {
      "cell_type": "code",
      "execution_count": null,
      "metadata": {
        "colab": {
          "base_uri": "https://localhost:8080/"
        },
        "id": "MtGfL9jsKnbx",
        "outputId": "443901fc-2807-4cdb-f08a-5e32eb59cbcd"
      },
      "outputs": [
        {
          "name": "stdout",
          "output_type": "stream",
          "text": [
            "enter a number5\n",
            "5 * 10 = 50\n",
            "5 * 9 = 45\n",
            "5 * 8 = 40\n",
            "5 * 7 = 35\n",
            "5 * 6 = 30\n",
            "5 * 5 = 25\n",
            "5 * 4 = 20\n",
            "5 * 3 = 15\n",
            "5 * 2 = 10\n",
            "5 * 1 = 5\n"
          ]
        }
      ],
      "source": [
        "num=int(input(\"enter a number\"))\n",
        "for i in range(10,0,-1):\n",
        "  print(num,\"*\",i,\"=\",num*i)\n"
      ]
    },
    {
      "cell_type": "code",
      "execution_count": null,
      "metadata": {
        "colab": {
          "base_uri": "https://localhost:8080/"
        },
        "id": "77hcB3AMQc8u",
        "outputId": "63569aca-7bf4-4fd6-ba4d-ad5f8d2f75a8"
      },
      "outputs": [
        {
          "name": "stdout",
          "output_type": "stream",
          "text": [
            "enter a number123456\n",
            "654321\n"
          ]
        }
      ],
      "source": [
        "num=int(input(\"enter a number\"))\n",
        "rev=0\n",
        "while num>0:\n",
        "  digit=num%10\n",
        "  rev=rev*10+digit\n",
        "  num=num//10\n",
        "print(rev)\n"
      ]
    },
    {
      "cell_type": "code",
      "execution_count": null,
      "metadata": {
        "colab": {
          "base_uri": "https://localhost:8080/"
        },
        "id": "YKzqDhXvl3Zk",
        "outputId": "d37b0cd9-9f0e-4038-bfdd-d60e3b0efe3b"
      },
      "outputs": [
        {
          "name": "stdout",
          "output_type": "stream",
          "text": [
            "enter the number12345\n",
            "5\n"
          ]
        }
      ],
      "source": [
        "num=int(input(\"enter the number\"))\n",
        "large_num=0\n",
        "while num>0:\n",
        "  digit=num%10\n",
        "  if digit>large_num:\n",
        "    large_num=digit\n",
        "  num=num//10\n",
        "print(large_num)"
      ]
    },
    {
      "cell_type": "code",
      "execution_count": null,
      "metadata": {
        "colab": {
          "base_uri": "https://localhost:8080/"
        },
        "id": "TsKddAoRnzLL",
        "outputId": "5787a3cc-35d1-4ac8-e750-7e9e829573aa"
      },
      "outputs": [
        {
          "name": "stdout",
          "output_type": "stream",
          "text": [
            "enter the number476485745683475\n",
            "3\n"
          ]
        }
      ],
      "source": [
        "num=int(input(\"enter the number\"))\n",
        "small_num=9\n",
        "while num>0:\n",
        "  digit=num%10\n",
        "  if digit<small_num:\n",
        "    small_num=digit\n",
        "  num=num//10\n",
        "print(small_num)"
      ]
    },
    {
      "cell_type": "code",
      "execution_count": null,
      "metadata": {
        "colab": {
          "base_uri": "https://localhost:8080/"
        },
        "id": "XaU-cFmSoyQE",
        "outputId": "e21fdd2e-f06a-471e-db3a-7328d6f8aaa2"
      },
      "outputs": [
        {
          "name": "stdout",
          "output_type": "stream",
          "text": [
            "enter the number153\n",
            "not narcissistic number\n"
          ]
        }
      ],
      "source": [
        "num=int(input(\"enter the number\"))\n",
        "sum=0\n",
        "orig_num=num\n",
        "power=1\n",
        "while num>0:\n",
        "  digit=num%10\n",
        "  sum=sum+digit**power\n",
        "  power=power+1\n",
        "  num=num//10\n",
        "  if sum==orig_num:\n",
        "    print(\"narcissistic number\")\n",
        "else:\n",
        "  print(\"not narcissistic number\")\n"
      ]
    },
    {
      "cell_type": "code",
      "execution_count": null,
      "metadata": {
        "colab": {
          "base_uri": "https://localhost:8080/"
        },
        "id": "H15WIpxxsDtJ",
        "outputId": "ad7bae39-66c0-4ecf-b9c6-dc3d34d81f23"
      },
      "outputs": [
        {
          "name": "stdout",
          "output_type": "stream",
          "text": [
            "not angram\n"
          ]
        }
      ],
      "source": [
        "#check two string are angram or not\n",
        "char1='listen'\n",
        "char2='tea'\n",
        "char3='post'\n",
        "char4='top'\n",
        "if sorted(char1)==sorted(char2):\n",
        "  print(\"angram\")\n",
        "else:\n",
        "  print(\"not angram\")\n"
      ]
    },
    {
      "cell_type": "code",
      "execution_count": null,
      "metadata": {
        "colab": {
          "base_uri": "https://localhost:8080/"
        },
        "id": "4u8yTJllEHYe",
        "outputId": "66063e7f-4ca9-4bb9-8bb3-a7c37f6ea10a"
      },
      "outputs": [
        {
          "name": "stdout",
          "output_type": "stream",
          "text": [
            "5\n",
            "10\n"
          ]
        }
      ],
      "source": [
        "def table_five(a):\n",
        "  if a*5<=10:\n",
        "    print(a*5)\n",
        "    table_five(a+1)\n",
        "table_five(1)"
      ]
    },
    {
      "cell_type": "code",
      "execution_count": null,
      "metadata": {
        "colab": {
          "base_uri": "https://localhost:8080/"
        },
        "id": "vuL15ze7aapr",
        "outputId": "cd59f3dd-ed83-44a5-8eaf-1c97cf098c27"
      },
      "outputs": [
        {
          "name": "stdout",
          "output_type": "stream",
          "text": [
            "scorpio\n",
            "brooommmmmm\n",
            "black\n",
            "2025\n",
            "diesel\n",
            "manual\n",
            "white\n",
            "black\n",
            "2025\n",
            "manual\n",
            "brooommmmmm\n",
            "engage first gear\n",
            "thar\n"
          ]
        }
      ],
      "source": [
        "class mahindra:\n",
        "  color =\"black\"\n",
        "  model= \"2025\"\n",
        "  fuel_type=\"diesel\"\n",
        "  transmission=\"manual\"\n",
        "  def car(self):\n",
        "    print(\"scorpio\")\n",
        "  def car2(self):\n",
        "    print(\"thar\")\n",
        "  def start(self):\n",
        "    print(\"brooommmmmm\")\n",
        "  def stop(self):\n",
        "    print(\"stop broooomm\")\n",
        "  def gear(self):\n",
        "    print(\"engage first gear\")\n",
        "scorpio=mahindra()\n",
        "scorpio.car()\n",
        "scorpio.start()\n",
        "print(scorpio.color)\n",
        "print(scorpio.model)\n",
        "print(scorpio.fuel_type)\n",
        "print(scorpio.transmission)\n",
        "scorpio.color=\"white\"\n",
        "print(scorpio.color)\n",
        "thar=mahindra()\n",
        "print(thar.color)\n",
        "print(thar.model)\n",
        "print(thar.transmission)\n",
        "thar.start()\n",
        "thar.gear()\n",
        "thar.car2()\n"
      ]
    },
    {
      "cell_type": "code",
      "execution_count": null,
      "metadata": {
        "colab": {
          "base_uri": "https://localhost:8080/"
        },
        "id": "YjIkTjEUbIKb",
        "outputId": "955246aa-836f-49f2-bd26-43e7541fdc7c"
      },
      "outputs": [
        {
          "name": "stdout",
          "output_type": "stream",
          "text": [
            "10 9 8 7 6 5 4 3 2 1 "
          ]
        },
        {
          "data": {
            "text/plain": [
              "0"
            ]
          },
          "execution_count": 2,
          "metadata": {},
          "output_type": "execute_result"
        }
      ],
      "source": [
        "def f1(a):\n",
        "  if a<1:\n",
        "    return 0\n",
        "  print(a,end=' ')\n",
        "  return f1(a-1)\n",
        "(f1(10))\n"
      ]
    },
    {
      "cell_type": "code",
      "execution_count": null,
      "metadata": {
        "colab": {
          "base_uri": "https://localhost:8080/"
        },
        "id": "1kALEHwjcHkh",
        "outputId": "a0c3eaf2-cb8c-4666-bc29-482d9b3d96bf"
      },
      "outputs": [
        {
          "name": "stdout",
          "output_type": "stream",
          "text": [
            "12\n",
            "34\n",
            "5\n",
            "5\n",
            "67\n"
          ]
        }
      ],
      "source": [
        "data=[12,34,5,5,67]\n",
        "def f1(a):\n",
        "  if len(data)==a:\n",
        "     return 0\n",
        "  print (data[a])\n",
        "  f1(a+1)\n",
        "f1(0)\n",
        "\n",
        "\n"
      ]
    },
    {
      "cell_type": "code",
      "execution_count": null,
      "metadata": {
        "colab": {
          "base_uri": "https://localhost:8080/"
        },
        "id": "xXZ6rMF8fej8",
        "outputId": "78d30968-c0ad-4e25-87f9-37ecb9678a69"
      },
      "outputs": [
        {
          "name": "stdout",
          "output_type": "stream",
          "text": [
            "x\n",
            "e\n",
            "g\n",
            "e\n",
            "r\n"
          ]
        }
      ],
      "source": [
        "name=\"regex\"\n",
        "def display(stop,collection):\n",
        "  if stop<0:\n",
        "    return 0\n",
        "  print(collection[stop])\n",
        "  display(stop-1,collection)\n",
        "display(len(name)-1,name)"
      ]
    },
    {
      "cell_type": "code",
      "execution_count": null,
      "metadata": {
        "colab": {
          "base_uri": "https://localhost:8080/"
        },
        "id": "VIhDR-tBjKvI",
        "outputId": "df6ba9fd-fb2f-484e-e690-03001269a636"
      },
      "outputs": [
        {
          "name": "stdout",
          "output_type": "stream",
          "text": [
            "1 2 3 4 5 6 7 8 9 10 "
          ]
        }
      ],
      "source": [
        "def f1(a):\n",
        "  if a<=10:\n",
        "    print(a,end=' ')\n",
        "    return f1(a+1)\n",
        "\n",
        "f1(1)"
      ]
    },
    {
      "cell_type": "code",
      "execution_count": null,
      "metadata": {
        "colab": {
          "base_uri": "https://localhost:8080/"
        },
        "id": "h2MlktfaUcBL",
        "outputId": "0261770a-0aa6-49de-c989-36f7509e9263"
      },
      "outputs": [
        {
          "name": "stdout",
          "output_type": "stream",
          "text": [
            "10 9 8 7 6 5 4 3 2 1 "
          ]
        },
        {
          "data": {
            "text/plain": [
              "0"
            ]
          },
          "execution_count": 4,
          "metadata": {},
          "output_type": "execute_result"
        }
      ],
      "source": [
        "def f1(a):\n",
        "  if a<1:\n",
        "     return 0\n",
        "  print(a,end=' ')\n",
        "  return f1(a-1)\n",
        "f1(10)"
      ]
    },
    {
      "cell_type": "code",
      "execution_count": null,
      "metadata": {
        "colab": {
          "base_uri": "https://localhost:8080/"
        },
        "id": "81xqbPq6WSHl",
        "outputId": "f8f7773c-0b1f-4e27-f523-33752f9859d1"
      },
      "outputs": [
        {
          "name": "stdout",
          "output_type": "stream",
          "text": [
            "Divyansh\n",
            "101\n",
            "24\n",
            "big data enginner\n",
            "7878659802\n",
            "banswara\n"
          ]
        }
      ],
      "source": [
        "class employee:\n",
        "  emp_name=\"Divyansh\"\n",
        "  emp_id=\"101\"\n",
        "  emp_age=\"24\"\n",
        "  emp_role=\"big data enginner\"\n",
        "  emp_mobile_no=\"7878659802\"\n",
        "  emp_address=\"banswara\"\n",
        "  def details():\n",
        "    print(\"employee details\")\n",
        "details=employee()\n",
        "print(employee.emp_name)\n",
        "print(employee.emp_id)\n",
        "print(employee.emp_age)\n",
        "print(employee.emp_role)\n",
        "print(employee.emp_mobile_no)\n",
        "print(employee.emp_address)\n",
        "\n"
      ]
    },
    {
      "cell_type": "code",
      "execution_count": null,
      "metadata": {
        "colab": {
          "base_uri": "https://localhost:8080/"
        },
        "id": "YpC-GAvd6ole",
        "outputId": "e4fffad8-7fd9-4def-a3d3-77d32433a16a"
      },
      "outputs": [
        {
          "name": "stdout",
          "output_type": "stream",
          "text": [
            "enter the number5\n",
            "120\n"
          ]
        }
      ],
      "source": [
        "num=int(input(\"enter the number\"))\n",
        "def fact(num):\n",
        "  if num==0:\n",
        "    return 1\n",
        "  else:\n",
        "    return (num*fact(num-1))\n",
        "print(fact(num))"
      ]
    },
    {
      "cell_type": "code",
      "execution_count": null,
      "metadata": {
        "colab": {
          "base_uri": "https://localhost:8080/"
        },
        "id": "oEQZ3YPcAFeW",
        "outputId": "124f52d8-d34d-4a5d-e635-0864adeeea80"
      },
      "outputs": [
        {
          "name": "stdout",
          "output_type": "stream",
          "text": [
            "enter the number5\n"
          ]
        }
      ],
      "source": [
        "num=int(input(\"enter the number\"))\n",
        "sum=0\n",
        "a=2\n",
        "term=''\n",
        "for i in range(1,num+1):\n",
        "  term=term+str(i)\n"
      ]
    },
    {
      "cell_type": "code",
      "execution_count": null,
      "metadata": {
        "colab": {
          "base_uri": "https://localhost:8080/"
        },
        "id": "WqysDmJfpLeE",
        "outputId": "89d7b609-84ea-4960-9707-e51b72e22401"
      },
      "outputs": [
        {
          "name": "stdout",
          "output_type": "stream",
          "text": [
            "5\n"
          ]
        }
      ],
      "source": [
        "add=lambda x,y: x+y\n",
        "print(add(2,3))"
      ]
    },
    {
      "cell_type": "code",
      "execution_count": null,
      "metadata": {
        "colab": {
          "base_uri": "https://localhost:8080/"
        },
        "id": "uWhmtDX5uv8l",
        "outputId": "9a702b42-9150-4089-8ed0-593b55053d01"
      },
      "outputs": [
        {
          "name": "stdout",
          "output_type": "stream",
          "text": [
            "120\n"
          ]
        }
      ],
      "source": [
        "fact=lambda num:1 if num==0 else num*fact(num-1)\n",
        "print(fact(5))\n"
      ]
    },
    {
      "cell_type": "code",
      "execution_count": null,
      "metadata": {
        "colab": {
          "base_uri": "https://localhost:8080/"
        },
        "id": "_9JwowJCvuAk",
        "outputId": "e6ea5157-0eb8-42a7-ff00-68ebb0e2ce23"
      },
      "outputs": [
        {
          "name": "stdout",
          "output_type": "stream",
          "text": [
            "True\n"
          ]
        }
      ],
      "source": [
        "even=lambda num: num%2==0\n",
        "print(even(2))"
      ]
    },
    {
      "cell_type": "code",
      "source": [
        "data=[2,3,4,5,6,7,8,9,10,11,13,12,14]\n",
        "data2=[]\n",
        "even_odd=lambda x:True if x%2==0 else False\n",
        "for i in data:\n",
        "  if even_odd(i):\n",
        "     data2.append(i)\n",
        "print(data2)"
      ],
      "metadata": {
        "colab": {
          "base_uri": "https://localhost:8080/"
        },
        "id": "NpvRd-YPAP8A",
        "outputId": "0e739df0-e8b1-43ea-e8fe-3eff27888c9a"
      },
      "execution_count": null,
      "outputs": [
        {
          "output_type": "stream",
          "name": "stdout",
          "text": [
            "[2, 4, 6, 8, 10, 12, 14]\n"
          ]
        }
      ]
    },
    {
      "cell_type": "code",
      "source": [
        "data=[2,3,4,5,6,7,8,9,10,11,12,13,14]\n",
        "data2=[]\n",
        "new=tuple((lambda x:x if x%2==0 else ' ')(x)for x in data)\n",
        "print(new)"
      ],
      "metadata": {
        "colab": {
          "base_uri": "https://localhost:8080/"
        },
        "id": "H0XD65mmF13l",
        "outputId": "5b7f7a33-ba09-43b1-e381-f696a7829d57"
      },
      "execution_count": null,
      "outputs": [
        {
          "output_type": "stream",
          "name": "stdout",
          "text": [
            "(2, ' ', 4, ' ', 6, ' ', 8, ' ', 10, ' ', 12, ' ', 14)\n"
          ]
        }
      ]
    },
    {
      "cell_type": "code",
      "source": [
        "data=[2,3,4,5,6,7,8,9,10,11,12,13,14]\n",
        "data2=[]\n",
        "new=tuple((lambda x:x if x%3==0 else ' ')(x)for x in data)\n",
        "print(new)\n"
      ],
      "metadata": {
        "colab": {
          "base_uri": "https://localhost:8080/"
        },
        "id": "TIK7KJB-J-SY",
        "outputId": "4033b00f-61a7-4662-b76a-f2a4ee4fd2a0"
      },
      "execution_count": null,
      "outputs": [
        {
          "output_type": "stream",
          "name": "stdout",
          "text": [
            "(' ', 3, ' ', ' ', 6, ' ', ' ', 9, ' ', ' ', 12, ' ', ' ')\n"
          ]
        }
      ]
    },
    {
      "cell_type": "code",
      "source": [
        "data=[5,12,7,18,3,21,2,14]\n",
        "data2=[]\n",
        "data2=tuple((lambda x:x if x>=10 else ' ')(x)for x in data)\n",
        "print(data2)\n"
      ],
      "metadata": {
        "colab": {
          "base_uri": "https://localhost:8080/"
        },
        "id": "9jDIy5FzK3VC",
        "outputId": "e396b6e5-2c6a-4aab-a960-4c3a15cd403a"
      },
      "execution_count": null,
      "outputs": [
        {
          "output_type": "stream",
          "name": "stdout",
          "text": [
            "(' ', 12, ' ', 18, ' ', 21, ' ', 14)\n"
          ]
        }
      ]
    },
    {
      "cell_type": "code",
      "source": [
        "data=[1,2,8]\n",
        "data2=[]\n",
        "def square():\n",
        "  for i in data:\n",
        "    data2.append(i**2)\n",
        "  print(data2)\n",
        "square()"
      ],
      "metadata": {
        "colab": {
          "base_uri": "https://localhost:8080/"
        },
        "id": "TodW73gMUNqA",
        "outputId": "cea684ee-4c83-47e8-a4ee-142f27db41cb"
      },
      "execution_count": null,
      "outputs": [
        {
          "output_type": "stream",
          "name": "stdout",
          "text": [
            "[1, 4, 64]\n"
          ]
        }
      ]
    },
    {
      "cell_type": "code",
      "source": [
        "from functools import reduce\n",
        "\n",
        "data=[1,2,3,4,5,6,7,8,9]\n",
        "sum=reduce(lambda a,b:a+b,data)\n",
        "print(sum)"
      ],
      "metadata": {
        "colab": {
          "base_uri": "https://localhost:8080/"
        },
        "id": "r-VL79OaOxR4",
        "outputId": "522723a2-0764-4b42-d8a6-51d117af039a"
      },
      "execution_count": null,
      "outputs": [
        {
          "output_type": "stream",
          "name": "stdout",
          "text": [
            "45\n"
          ]
        }
      ]
    },
    {
      "cell_type": "code",
      "source": [
        "fact=lambda x:1 if x==0 else x*fact(x-1)\n",
        "print(fact(5))"
      ],
      "metadata": {
        "colab": {
          "base_uri": "https://localhost:8080/"
        },
        "id": "w2WWIxuWO-uz",
        "outputId": "9b557a51-1c96-45aa-b1ce-f317873515ec"
      },
      "execution_count": null,
      "outputs": [
        {
          "output_type": "stream",
          "name": "stdout",
          "text": [
            "120\n"
          ]
        }
      ]
    },
    {
      "cell_type": "code",
      "source": [
        "def fact(num):\n",
        "  if num==0:\n",
        "    return 1\n",
        "  else:\n",
        "    return num*fact(num-1)\n",
        "print(fact(5))"
      ],
      "metadata": {
        "colab": {
          "base_uri": "https://localhost:8080/"
        },
        "id": "lv2sgmAtPShC",
        "outputId": "b05892d4-6c1f-4ce0-dbcb-448e6c186b87"
      },
      "execution_count": null,
      "outputs": [
        {
          "output_type": "stream",
          "name": "stdout",
          "text": [
            "120\n"
          ]
        }
      ]
    },
    {
      "cell_type": "code",
      "source": [
        "num=int(input(\"enter the number\"))\n",
        "sum=0\n",
        "count=0\n",
        "first_num=\n",
        "last_num=9\n",
        "while num>0:\n",
        "  digit=num%10\n",
        "  sum=sum+digit\n",
        "  count=count+1\n",
        "  num=num//10\n",
        "print(sum)\n",
        "print(count)"
      ],
      "metadata": {
        "colab": {
          "base_uri": "https://localhost:8080/"
        },
        "id": "akyT8RbhW9hx",
        "outputId": "11f4ae27-c6cc-4089-b5bd-33aeaec89900"
      },
      "execution_count": null,
      "outputs": [
        {
          "output_type": "stream",
          "name": "stdout",
          "text": [
            "enter the number12345\n",
            "15\n",
            "5\n"
          ]
        }
      ]
    },
    {
      "cell_type": "code",
      "source": [
        "data=[3,56,17,7,18,93,21]\n",
        "data2=[]\n",
        "divisable=lambda data:True if data%3==0 else False\n",
        "for i in data:\n",
        "  if divisable(i):\n",
        "    data2.append(i)\n",
        "print(data2)"
      ],
      "metadata": {
        "colab": {
          "base_uri": "https://localhost:8080/"
        },
        "id": "NL4yIrVOBJDn",
        "outputId": "5aaaeb05-67e8-4174-f3db-36d63cf194cd"
      },
      "execution_count": null,
      "outputs": [
        {
          "output_type": "stream",
          "name": "stdout",
          "text": [
            "[3, 18, 93, 21]\n"
          ]
        }
      ]
    },
    {
      "cell_type": "code",
      "source": [
        "fact=lambda x:1 if x==0 else x*fact(x-1)\n",
        "print(fact(5))"
      ],
      "metadata": {
        "colab": {
          "base_uri": "https://localhost:8080/"
        },
        "id": "N3JVEkOEB6he",
        "outputId": "971bf01a-5d52-40b2-c19a-4cc8a9302945"
      },
      "execution_count": null,
      "outputs": [
        {
          "output_type": "stream",
          "name": "stdout",
          "text": [
            "120\n"
          ]
        }
      ]
    },
    {
      "cell_type": "code",
      "execution_count": null,
      "metadata": {
        "colab": {
          "base_uri": "https://localhost:8080/",
          "height": 106
        },
        "id": "ZNYCurp9xsmp",
        "outputId": "235d7af8-024d-4bf0-a86b-9aca56538a94"
      },
      "outputs": [
        {
          "ename": "SyntaxError",
          "evalue": "invalid syntax (ipython-input-20-546694746.py, line 1)",
          "output_type": "error",
          "traceback": [
            "\u001b[0;36m  File \u001b[0;32m\"/tmp/ipython-input-20-546694746.py\"\u001b[0;36m, line \u001b[0;32m1\u001b[0m\n\u001b[0;31m    sum=lambda num: (for i in range len(1,10)),num%2==1\u001b[0m\n\u001b[0m                     ^\u001b[0m\n\u001b[0;31mSyntaxError\u001b[0m\u001b[0;31m:\u001b[0m invalid syntax\n"
          ]
        }
      ],
      "source": [
        "sum=lambda num:num (for i in range len(1,11)),num%2==1\n",
        "print(sum)"
      ]
    },
    {
      "cell_type": "code",
      "execution_count": null,
      "metadata": {
        "colab": {
          "base_uri": "https://localhost:8080/"
        },
        "id": "noJTCC1YyxEE",
        "outputId": "286cfd30-4b28-4225-e820-30c5265d4645"
      },
      "outputs": [
        {
          "name": "stdout",
          "output_type": "stream",
          "text": [
            "5\n"
          ]
        }
      ],
      "source": [
        "add=lambda  x,y:x+y\n",
        "print(2+3)\n"
      ]
    },
    {
      "cell_type": "code",
      "execution_count": null,
      "metadata": {
        "colab": {
          "base_uri": "https://localhost:8080/"
        },
        "id": "4Esl1Ws-zlFF",
        "outputId": "e713f5f4-c513-473c-a7fb-c841ad46b633"
      },
      "outputs": [
        {
          "name": "stdout",
          "output_type": "stream",
          "text": [
            "1 2 3 4 5 6 7 8 9 "
          ]
        }
      ],
      "source": [
        "for i in range(0,10):\n",
        "  print(i,end=' ')"
      ]
    },
    {
      "cell_type": "code",
      "execution_count": null,
      "metadata": {
        "colab": {
          "base_uri": "https://localhost:8080/"
        },
        "id": "Ub857m7I6sXa",
        "outputId": "38fa4b91-f200-451f-9a25-811e27180445"
      },
      "outputs": [
        {
          "name": "stdout",
          "output_type": "stream",
          "text": [
            "1\n",
            "2\n",
            "3\n",
            "4\n",
            "5\n",
            "6\n",
            "7\n",
            "8\n",
            "9\n",
            "10\n",
            "11\n"
          ]
        }
      ],
      "source": [
        "i=0\n",
        "while i<=10:\n",
        "  i=i+1\n",
        "  print(i)"
      ]
    },
    {
      "cell_type": "code",
      "execution_count": null,
      "metadata": {
        "colab": {
          "base_uri": "https://localhost:8080/"
        },
        "id": "xdPnijF467FL",
        "outputId": "6b03a909-1d9d-4d6b-8df0-1ee5c6f4e66e"
      },
      "outputs": [
        {
          "name": "stdout",
          "output_type": "stream",
          "text": [
            "3 * 1 = 3\n",
            "3 * 2 = 6\n",
            "3 * 3 = 9\n",
            "3 * 4 = 12\n",
            "3 * 5 = 15\n",
            "3 * 6 = 18\n",
            "3 * 7 = 21\n",
            "3 * 8 = 24\n",
            "3 * 9 = 27\n",
            "3 * 10 = 30\n"
          ]
        }
      ],
      "source": [
        "i=0\n",
        "while i<30:\n",
        "  i=i+3\n",
        "  print(f'3 * {i//3} = {i}')"
      ]
    },
    {
      "cell_type": "code",
      "execution_count": null,
      "metadata": {
        "colab": {
          "base_uri": "https://localhost:8080/"
        },
        "id": "KG0a8oAHEYM-",
        "outputId": "e292ee08-50bc-431b-cd68-e8988bcd3982"
      },
      "outputs": [
        {
          "name": "stdout",
          "output_type": "stream",
          "text": [
            "enter number5\n",
            "5 * 1 = 5\n",
            "5 * 2 = 10\n",
            "5 * 3 = 15\n",
            "5 * 4 = 20\n",
            "5 * 5 = 25\n",
            "5 * 6 = 30\n",
            "5 * 7 = 35\n",
            "5 * 8 = 40\n",
            "5 * 9 = 45\n"
          ]
        }
      ],
      "source": [
        "num=int(input(\"enter number\"))\n",
        "for i in range(1,10):\n",
        "  print(num,'*',i,\"=\",num*i)"
      ]
    },
    {
      "cell_type": "markdown",
      "metadata": {
        "id": "woikTUw-of45"
      },
      "source": [
        "self- it is an instance of a class\n",
        "use in accessing variable'\n",
        "use in modify instance variable\n",
        "help in method calling of a class\n",
        "help in creating instance variable\n",
        "instance variable is a variable whose value change from object to object.\n",
        "#to declare instance variable we use self.variable_name\n",
        "#you can access your instance variable in any method of same class but method should execute first\n",
        "\n",
        "class c1:\n",
        "def m1(self,a,b):\n",
        "self.a=a\n",
        "self.b=b\n",
        "return self.a+self.b\n",
        "\n",
        "obj=c1()\n",
        "print(obj.m1(90,10))\n",
        "\n",
        "obj=c1()\n",
        "print(obj2.m1(1,2))\n"
      ]
    },
    {
      "cell_type": "code",
      "execution_count": null,
      "metadata": {
        "colab": {
          "base_uri": "https://localhost:8080/"
        },
        "id": "j-dWHpOGFJ77",
        "outputId": "0016f123-cfe6-44d3-b4dc-5f8e6a599850"
      },
      "outputs": [
        {
          "name": "stdout",
          "output_type": "stream",
          "text": [
            "bolero\n",
            "broommmmmm\n",
            "engage 1st gear\n",
            "lets go for a ride\n",
            "melody songs\n",
            "white\n",
            "2024\n",
            "disel\n",
            "yes\n",
            "manual\n",
            "at house\n",
            "silent\n",
            "xuv700\n",
            "broommmmmm\n",
            "engage 1st gear\n",
            "lets go for a ride\n",
            "melody songs\n",
            "black&white\n",
            "2024\n",
            "disel\n",
            "yes\n",
            "manual\n",
            "at house\n",
            "silent\n"
          ]
        }
      ],
      "source": [
        "class mahindra:\n",
        "  color='black&white'\n",
        "  model='2024'\n",
        "  fuel_type='disel'\n",
        "  alloyewheels='yes'\n",
        "  transmission='manual'\n",
        "  def car(self):\n",
        "    print(\"bolero\")\n",
        "  def car2(self):\n",
        "    print(\"xuv700\")\n",
        "  def start(self):\n",
        "    print(\"broommmmmm\")\n",
        "  def stop(self):\n",
        "    print(\"engine off\")\n",
        "  def gear(self):\n",
        "    print(\"engage 1st gear\")\n",
        "  def press_accelerator(self):\n",
        "    print(\"lets go for a ride\")\n",
        "  def play_music(self):\n",
        "    print(\"melody songs\")\n",
        "  def press_brake(self):\n",
        "    print(\"at house\")\n",
        "\n",
        "bolero=mahindra()\n",
        "bolero.car()\n",
        "bolero.start()\n",
        "bolero.gear()\n",
        "bolero.press_accelerator()\n",
        "bolero.play_music()\n",
        "bolero.color=\"white\"\n",
        "print(bolero.color)\n",
        "print(bolero.model)\n",
        "print(bolero.fuel_type)\n",
        "print(bolero.alloyewheels)\n",
        "print(bolero.transmission)\n",
        "bolero.press_brake()\n",
        "bolero.stop()\n",
        "\n",
        "xuv700=mahindra()\n",
        "xuv700.car2()\n",
        "xuv700.start()\n",
        "xuv700.gear()\n",
        "xuv700.press_accelerator()\n",
        "xuv700.play_music()\n",
        "print(xuv700.color)\n",
        "print(xuv700.model)\n",
        "print(xuv700.fuel_type)\n",
        "print(xuv700.alloyewheels)\n",
        "print(xuv700.transmission)\n",
        "xuv700.press_brake()\n",
        "xuv700.stop()\n",
        "\n"
      ]
    },
    {
      "cell_type": "code",
      "source": [
        "class mahindra:\n",
        "  model=2025\n",
        "  color=\"black\"\n",
        "  fuel_type=\"petrol\"\n",
        "  transmission=\"manuel\"\n",
        "  def start(self):\n",
        "    print(\"brrrroooommmmm\")\n",
        "  def gear(self):\n",
        "    print(\"tap 1st gear\")\n",
        "  def tap_accelator(self):\n",
        "    print(\"let's go for a ride\")\n",
        "  def play_music(self):\n",
        "    print(\"melody music\")\n",
        "  def press_break(self):\n",
        "    print(\"stop the car\")\n",
        "  def off(self):\n",
        "    print(\"engine off\")\n",
        "\n",
        "scorpio=mahindra()\n",
        "print(scorpio.model)\n",
        "print(scorpio.color)\n",
        "print(scorpio.fuel_type)\n",
        "print(scorpio.transmission)\n",
        "scorpio.start()\n",
        "scorpio.tap_accelator()\n",
        "scorpio.play_music()\n",
        "scorpio.press_break()\n",
        "scorpio.off()\n",
        "\n",
        "\n",
        "\n",
        "\n"
      ],
      "metadata": {
        "colab": {
          "base_uri": "https://localhost:8080/"
        },
        "id": "xH-epk8VOkei",
        "outputId": "90e6cade-a12b-4d23-d703-7cfd2f35f86b"
      },
      "execution_count": null,
      "outputs": [
        {
          "output_type": "stream",
          "name": "stdout",
          "text": [
            "2025\n",
            "black\n",
            "petrol\n",
            "manuel\n",
            "brrrroooommmmm\n",
            "let's go for a ride\n",
            "melody music\n",
            "stop the car\n",
            "engine off\n"
          ]
        }
      ]
    },
    {
      "cell_type": "code",
      "execution_count": null,
      "metadata": {
        "colab": {
          "base_uri": "https://localhost:8080/"
        },
        "id": "WBK7ula1d7vc",
        "outputId": "7ec4d807-97dd-4b8c-a6b4-41b4355b951c"
      },
      "outputs": [
        {
          "name": "stdout",
          "output_type": "stream",
          "text": [
            "[0, 1, 2, 3, 4, 5, 6, 7, 8, 9, 10]\n",
            "[0, 1, 2, 3, 90, 5, 6, 7, 8, 9, 10]\n",
            "[0, 1, 2, 3, 90, 5, 6, 7, 8, 9, 10]\n",
            "1\n",
            "0\n",
            "None\n",
            "[0, 1, 2, 3, 100, 90, 5, 6, 7, 8, 9, 10]\n",
            "None\n",
            "[0, 1, 2, 3, 90, 5, 6, 7, 8, 9, 10]\n",
            "None\n",
            "[0, 1, 2, 3, 5, 6, 7, 8, 9, 10]\n",
            "[0, 1, 95, 3, 5, 6, 7, 8, 9, 10]\n",
            "[0, 1, 95, 95, 5, 6, 7, 8, 9, 10]\n",
            "2\n",
            "2\n",
            "2\n",
            "[0, 1, 95, 95, 5, 6, 7, 8, 9, 10]\n",
            "[0, 1, 95, 95, 5, 6, 7, 8, 9, 10, 4]\n",
            "[0, 1, 4, 5, 6, 7, 8, 9, 10, 95, 95]\n",
            "[0, 1, 4, 5, 6, 7, 8, 9, 10, 95, 95, 2]\n",
            "[0, 1, 4, 5, 6, 7, 8, 9, 10, 95, 95, 2, 3]\n",
            "[0, 1, 2, 3, 4, 5, 6, 7, 8, 9, 10, 95, 95]\n",
            "[95, 95, 10, 9, 8, 7, 6, 5, 4, 3, 2, 1, 0]\n",
            "0\n",
            "10\n",
            "9\n",
            "8\n",
            "[95, 95, 10, 9, 8, 7, 6, 5, 4, 3, 2, 1]\n",
            "None\n",
            "[95, 10, 9, 8, 7, 6, 5, 4, 3, 2, 1]\n",
            "None\n",
            "[10, 9, 8, 7, 6, 5, 4, 3, 2, 1]\n",
            "[1, 2, 3, 4, 5, 6, 7, 8, 9, 10]\n"
          ]
        }
      ],
      "source": [
        "data=[0,1,2,3,4,5,6,7,8,9,10]\n",
        "print(data)\n",
        "data[4]=90\n",
        "print(data)\n",
        "x=data[0]\n",
        "print(data)\n",
        "print(data.count(1))\n",
        "print(data.count(4))\n",
        "print(data.insert(4,100))\n",
        "print(data)\n",
        "print(data.remove(100))\n",
        "print(data)\n",
        "print(data.remove(90))\n",
        "print(data)\n",
        "data[2]=95\n",
        "print(data)\n",
        "data[3]=95\n",
        "print(data)\n",
        "print(data.count(95))\n",
        "print(data.index(95))\n",
        "print(data.index(95))\n",
        "print(data)\n",
        "data.append(4)\n",
        "print(data)\n",
        "data.sort()\n",
        "print(data)\n",
        "data.append(2)\n",
        "print(data)\n",
        "data.append(3)\n",
        "print(data)\n",
        "data.sort()\n",
        "print(data)\n",
        "data.reverse()\n",
        "print(data)\n",
        "print(data.index(95))\n",
        "print(data.index(2))\n",
        "print(data.index(3))\n",
        "print(data.index(4))\n",
        "data.pop()\n",
        "print(data)\n",
        "print(data.remove(95))\n",
        "print(data)\n",
        "print(data.remove(95))\n",
        "print(data)\n",
        "data.sort()\n",
        "print(data)\n",
        "\n",
        "\n"
      ]
    },
    {
      "cell_type": "code",
      "execution_count": null,
      "metadata": {
        "colab": {
          "base_uri": "https://localhost:8080/"
        },
        "id": "CxQpej0bvH71",
        "outputId": "b7ec8380-7f29-4ab6-cfbe-8cca91bcd17f"
      },
      "outputs": [
        {
          "name": "stdout",
          "output_type": "stream",
          "text": [
            "100\n",
            "2\n"
          ]
        }
      ],
      "source": [
        "class c1:\n",
        "  def m1(self,a,b):\n",
        "    self.a=a\n",
        "    self.b=b\n",
        "    return self.a+self.b\n",
        "  def m2(self,a,b):\n",
        "    self.a=a\n",
        "    self.b=b\n",
        "    return self.a*self.b\n",
        "\n",
        "obj=c1()\n",
        "print(obj.m1(90,10))\n",
        "\n",
        "obj=c1()\n",
        "print(obj.m2(1,2))\n"
      ]
    },
    {
      "cell_type": "code",
      "execution_count": null,
      "metadata": {
        "colab": {
          "base_uri": "https://localhost:8080/"
        },
        "id": "0vk4xVEE8Qag",
        "outputId": "16fff0ee-20cd-40bf-80b9-2c98eacd3669"
      },
      "outputs": [
        {
          "name": "stdout",
          "output_type": "stream",
          "text": [
            "2036\n",
            "-2034\n",
            "30\n",
            "2000\n",
            "60000\n",
            "30\n",
            "2000\n"
          ]
        }
      ],
      "source": [
        "class s1:\n",
        "  data=30\n",
        "  def add(self,a,b,c):\n",
        "    self.a=a\n",
        "    self.b=b\n",
        "    self.c=c\n",
        "    s1.new=2000\n",
        "    return self.a+self.b+self.c+s1.data+s1.new\n",
        "  def sub(self,a,b,c):\n",
        "    print(self.a-self.b-self.c-s1.data-s1.new)\n",
        "  def mul(self,a,b,c):\n",
        "    print(s1.data*s1.new)\n",
        "obj=s1()\n",
        "print(obj.add(1,2,3))\n",
        "obj.sub(10,20,30)\n",
        "print(obj.data)\n",
        "print(obj.new)\n",
        "obj.mul(1,2,3)\n",
        "print(obj.data)\n",
        "print(obj.new)\n",
        "\n"
      ]
    },
    {
      "cell_type": "code",
      "execution_count": null,
      "metadata": {
        "colab": {
          "base_uri": "https://localhost:8080/"
        },
        "id": "FMFWwTRl48iS",
        "outputId": "ea8880fb-6db6-48c8-dd9a-676ed954f513"
      },
      "outputs": [
        {
          "name": "stdout",
          "output_type": "stream",
          "text": [
            "[1, 2, 3, 4, 5, 6, 7, 8, 9]\n",
            "None\n",
            "[1, 2, 3, 5, 6, 7, 8, 9]\n",
            "[1, 2, 3, 4, 5, 6, 7, 8, 9]\n",
            "[1, 2, 3, 5, 6, 7, 8, 9]\n",
            "[1, 2, 3, 4, 5, 6, 7, 8, 9]\n",
            "[60, 1, 2, 3, 4, 5, 6, 7, 8, 9]\n"
          ]
        }
      ],
      "source": [
        "data=[1,2,3,4,5,6,7,8,9,]\n",
        "print(data)\n",
        "print(data.remove(4))\n",
        "print(data)\n",
        "data.insert(3,4)\n",
        "print(data)\n",
        "data.remove(4)\n",
        "print(data)\n",
        "data.insert(3,4)\n",
        "print(data)\n",
        "data.insert(0,60)\n",
        "print(data)\n",
        "# print(data.count(1))\n",
        "\n"
      ]
    },
    {
      "cell_type": "code",
      "execution_count": null,
      "metadata": {
        "colab": {
          "base_uri": "https://localhost:8080/"
        },
        "id": "BCQu4AnT56Fk",
        "outputId": "9e84af02-7e04-4b4c-fe74-010d3cf25865"
      },
      "outputs": [
        {
          "name": "stdout",
          "output_type": "stream",
          "text": [
            "15\n",
            "40\n",
            "120\n",
            "36\n",
            "None\n"
          ]
        }
      ],
      "source": [
        "class tree:\n",
        "  data=40\n",
        "  def t1(self,a,b):\n",
        "    self.a=12\n",
        "    self.b=3\n",
        "    tree.new=120\n",
        "    return self.a+self.b\n",
        "  def t2(self,a,b):\n",
        "      print(self.a*self.b)\n",
        "x=tree()\n",
        "print(x.t1(12,3))\n",
        "print(x.data)\n",
        "print(x.new)\n",
        "print(x.t2(12,3))\n",
        "\n"
      ]
    },
    {
      "cell_type": "code",
      "execution_count": null,
      "metadata": {
        "colab": {
          "base_uri": "https://localhost:8080/"
        },
        "id": "3Lv-D1lbZGjZ",
        "outputId": "ff98539f-0c11-40c2-816a-e75a74bc17dc"
      },
      "outputs": [
        {
          "name": "stdout",
          "output_type": "stream",
          "text": [
            "123\n",
            "1468\n",
            "1345\n"
          ]
        }
      ],
      "source": [
        "class div:\n",
        "  data=123\n",
        "  def s1(self,a,b):\n",
        "      self.a=2\n",
        "      self.b=3\n",
        "      div.new=1345\n",
        "      return div.data+div.new\n",
        "s=div()\n",
        "print(s.data)\n",
        "print(s.s1(2,3))\n",
        "print(s.new)\n",
        "\n",
        "\n"
      ]
    },
    {
      "cell_type": "code",
      "execution_count": null,
      "metadata": {
        "colab": {
          "base_uri": "https://localhost:8080/"
        },
        "id": "nE5JUCXPcrQV",
        "outputId": "1071075a-a334-43e6-c143-bb160fe7c22f"
      },
      "outputs": [
        {
          "name": "stdout",
          "output_type": "stream",
          "text": [
            "['1', '2', '3', '0', '4', '5', '6']\n"
          ]
        }
      ],
      "source": [
        "data='123djfk0456jkdf'\n",
        "num=list(filter(lambda x:x.isdigit(),data))\n",
        "print(num)\n"
      ]
    },
    {
      "cell_type": "code",
      "execution_count": null,
      "metadata": {
        "colab": {
          "base_uri": "https://localhost:8080/"
        },
        "id": "cPAWq2tAzmPj",
        "outputId": "a714ddc5-5a09-403d-98b9-fe897be94c44"
      },
      "outputs": [
        {
          "name": "stdout",
          "output_type": "stream",
          "text": [
            "20\n",
            "-57\n",
            "3000\n",
            "-57\n",
            "None\n"
          ]
        }
      ],
      "source": [
        "class dhruvv:\n",
        "  data=20\n",
        "  def d1(self,a,b,c):\n",
        "    self.a=a\n",
        "    self.b=b\n",
        "    self.c=c\n",
        "    dhruvv.new=3000\n",
        "    return self.a+self.b-self.c*dhruvv.data%dhruvv.new\n",
        "  def d2(self,a,b,c):\n",
        "    print(self.a+self.b-self.c*dhruvv.data%dhruvv.new)\n",
        "\n",
        "x=dhruvv()\n",
        "print(x.data)\n",
        "print(x.d1(1,2,3))\n",
        "print(x.new)\n",
        "print(x.d2(1,2,3))\n",
        "\n",
        "\n"
      ]
    },
    {
      "cell_type": "code",
      "execution_count": null,
      "metadata": {
        "colab": {
          "base_uri": "https://localhost:8080/"
        },
        "id": "0rLRg5dU9JGT",
        "outputId": "824de992-4b8b-4960-85c0-1106ebf58117"
      },
      "outputs": [
        {
          "output_type": "stream",
          "name": "stdout",
          "text": [
            "0\n"
          ]
        }
      ],
      "source": [
        "class dare:\n",
        "  def __init__(self):\n",
        "    self.count = 0\n",
        "  def increse_count(self):\n",
        "    self.count += 1\n",
        "  def display(self):\n",
        "    print(self.count)\n",
        "obj = dare()\n",
        "obj.display()\n",
        "obj.increse_count()"
      ]
    },
    {
      "cell_type": "code",
      "source": [
        "class SBI:\n",
        "    def __init__(self,name,current_balance,branch,account_type,address,phone_no):\n",
        "      self.name=name\n",
        "      self.current_balance = current_balance\n",
        "      self.branch=branch\n",
        "      self.account_type=account_type\n",
        "      self.address=address\n",
        "      self.phone_no=phone_no\n",
        "    def display(self):\n",
        "      print(self.name)\n",
        "      print(self.branch)\n",
        "      print(self.account_type)\n",
        "      print(self.address)\n",
        "      print(self.phone_no)\n",
        "      print(f\"current_balance: {self.current_balance}\")\n",
        "    def deposite(self,amount):\n",
        "        if amount>0:\n",
        "          self.current_balance += amount\n",
        "          print(f\"amount deposite successfully{amount}\")\n",
        "        else:\n",
        "          print(\"enter valid amount for deposite\")\n",
        "        return self.current_balance\n",
        "    def withdraw(self,w_amount):\n",
        "      if w_amount>0 and self.current_balance>=w_amount:\n",
        "        self.current_balance -= w_amount\n",
        "        print(f\"successfully withdraw:{w_amount}\")\n",
        "      else:\n",
        "        print(\"enter valiid withdraw amount\")\n",
        "      return self.current_balance\n",
        "\n",
        "\n",
        "obj=SBI(\"mohit\",1234,\"sbi\",\"saving acccount\", \"dfkdh fjdhjfh\", 82787827)\n",
        "print(obj.display())\n",
        "print(obj.deposite(2000))\n",
        "print(obj.withdraw(500))\n"
      ],
      "metadata": {
        "colab": {
          "base_uri": "https://localhost:8080/"
        },
        "id": "Y2mn0d7oWQJQ",
        "outputId": "e58e8589-8221-4338-aac8-caa72ceca5bd"
      },
      "execution_count": null,
      "outputs": [
        {
          "output_type": "stream",
          "name": "stdout",
          "text": [
            "mohit\n",
            "sbi\n",
            "saving acccount\n",
            "dfkdh fjdhjfh\n",
            "82787827\n",
            "current_balance: 1234\n",
            "None\n",
            "amount deposite successfully2000\n",
            "3234\n",
            "successfully withdraw:500\n",
            "2734\n"
          ]
        }
      ]
    },
    {
      "cell_type": "code",
      "execution_count": null,
      "metadata": {
        "colab": {
          "base_uri": "https://localhost:8080/"
        },
        "id": "ZITRQukPA1Ls",
        "outputId": "745728e8-e99a-4b1b-9b50-a5cf61b6aacb"
      },
      "outputs": [
        {
          "name": "stdout",
          "output_type": "stream",
          "text": [
            "3\n"
          ]
        }
      ],
      "source": [
        "class c1:\n",
        "  def __init__(self, a, b):\n",
        "    self.a = a\n",
        "    self.b = b\n",
        "    print(self.a + self.b)\n",
        "    def distroy_data(self):\n",
        "      del c1.data\n",
        "obj = c1(1, 2)"
      ]
    },
    {
      "cell_type": "code",
      "execution_count": null,
      "metadata": {
        "colab": {
          "base_uri": "https://localhost:8080/"
        },
        "id": "Jtsl1ZOoC-qb",
        "outputId": "3aa7e944-ac6f-4501-9385-0ac4cfd06e7c"
      },
      "outputs": [
        {
          "name": "stdout",
          "output_type": "stream",
          "text": [
            "30\n"
          ]
        }
      ],
      "source": [
        "class m1:\n",
        "  data=\"new data\"\n",
        "  def __init__(self,a,b):\n",
        "    self.a=a\n",
        "    self.b=b\n",
        "    print(self.a+self.b)\n",
        "  def distroy_data(self):\n",
        "    del m1.data\n",
        "    del obj.self\n",
        "\n",
        "obj=m1(10, 20)\n",
        "# obj.distroy_data()"
      ]
    },
    {
      "cell_type": "code",
      "execution_count": null,
      "metadata": {
        "colab": {
          "base_uri": "https://localhost:8080/",
          "height": 332
        },
        "id": "9escXFsGF6K_",
        "outputId": "e7b04cdd-d812-4f2d-d7d8-677fe5872124"
      },
      "outputs": [
        {
          "output_type": "error",
          "ename": "UnboundLocalError",
          "evalue": "cannot access local variable 'm1' where it is not associated with a value",
          "traceback": [
            "\u001b[0;31m---------------------------------------------------------------------------\u001b[0m",
            "\u001b[0;31mUnboundLocalError\u001b[0m                         Traceback (most recent call last)",
            "\u001b[0;32m/tmp/ipython-input-3032358417.py\u001b[0m in \u001b[0;36m<cell line: 0>\u001b[0;34m()\u001b[0m\n\u001b[1;32m     10\u001b[0m \u001b[0;34m\u001b[0m\u001b[0m\n\u001b[1;32m     11\u001b[0m \u001b[0mobj\u001b[0m\u001b[0;34m=\u001b[0m\u001b[0mm1\u001b[0m\u001b[0;34m(\u001b[0m\u001b[0;34m)\u001b[0m\u001b[0;34m\u001b[0m\u001b[0;34m\u001b[0m\u001b[0m\n\u001b[0;32m---> 12\u001b[0;31m \u001b[0mobj\u001b[0m\u001b[0;34m.\u001b[0m\u001b[0mdistroy_data\u001b[0m\u001b[0;34m(\u001b[0m\u001b[0;34m)\u001b[0m\u001b[0;34m\u001b[0m\u001b[0;34m\u001b[0m\u001b[0m\n\u001b[0m\u001b[1;32m     13\u001b[0m \u001b[0mprint\u001b[0m\u001b[0;34m(\u001b[0m\u001b[0mobj\u001b[0m\u001b[0;34m.\u001b[0m\u001b[0mdata\u001b[0m\u001b[0;34m)\u001b[0m\u001b[0;34m\u001b[0m\u001b[0;34m\u001b[0m\u001b[0m\n",
            "\u001b[0;32m/tmp/ipython-input-3032358417.py\u001b[0m in \u001b[0;36mdistroy_data\u001b[0;34m(self)\u001b[0m\n\u001b[1;32m      6\u001b[0m     \u001b[0mprint\u001b[0m\u001b[0;34m(\u001b[0m\u001b[0mself\u001b[0m\u001b[0;34m.\u001b[0m\u001b[0ma\u001b[0m\u001b[0;34m+\u001b[0m\u001b[0mself\u001b[0m\u001b[0;34m.\u001b[0m\u001b[0mb\u001b[0m\u001b[0;34m)\u001b[0m\u001b[0;34m\u001b[0m\u001b[0;34m\u001b[0m\u001b[0m\n\u001b[1;32m      7\u001b[0m   \u001b[0;32mdef\u001b[0m \u001b[0mdistroy_data\u001b[0m\u001b[0;34m(\u001b[0m\u001b[0mself\u001b[0m\u001b[0;34m)\u001b[0m\u001b[0;34m:\u001b[0m\u001b[0;34m\u001b[0m\u001b[0;34m\u001b[0m\u001b[0m\n\u001b[0;32m----> 8\u001b[0;31m       \u001b[0;32mdel\u001b[0m \u001b[0mm1\u001b[0m\u001b[0;34m\u001b[0m\u001b[0;34m\u001b[0m\u001b[0m\n\u001b[0m\u001b[1;32m      9\u001b[0m \u001b[0;34m\u001b[0m\u001b[0m\n\u001b[1;32m     10\u001b[0m \u001b[0;34m\u001b[0m\u001b[0m\n",
            "\u001b[0;31mUnboundLocalError\u001b[0m: cannot access local variable 'm1' where it is not associated with a value"
          ]
        }
      ],
      "source": [
        "class m1:\n",
        "  data=\"new data\"\n",
        "  def _init_(self,a,b):\n",
        "    self.a=a\n",
        "    self.b=b\n",
        "    print(self.a+self.b)\n",
        "  def distroy_data(self):\n",
        "      del m1\n",
        "\n",
        "\n",
        "obj=m1()\n",
        "obj.distroy_data()\n",
        "print(obj.data)"
      ]
    },
    {
      "cell_type": "code",
      "source": [
        "from types import BuiltinFunctionType\n",
        "class mahindra:\n",
        "  def __init__(self,car,color):\n",
        "     self.car = car\n",
        "     self.color = color\n",
        "\n",
        "obj=mahindra(\"scorpio\", \"black\")\n",
        "print(obj.car)\n",
        "print(obj.color)\n",
        "obj.color=\"blue\"\n",
        "print(obj.color)"
      ],
      "metadata": {
        "colab": {
          "base_uri": "https://localhost:8080/"
        },
        "id": "24sNLEzrMaPy",
        "outputId": "c15427d9-90f5-41a5-b59f-f9a43cc4af2e"
      },
      "execution_count": null,
      "outputs": [
        {
          "output_type": "stream",
          "name": "stdout",
          "text": [
            "scorpio\n",
            "black\n",
            "blue\n"
          ]
        }
      ]
    },
    {
      "cell_type": "code",
      "source": [
        "#inheritance\n",
        "class parent:\n",
        "  vehical=\"BMW\"\n",
        "  #account_balance=5000000\n",
        "  def doing_job(self):\n",
        "    print(\"working in office\")\n",
        "class child(parent):\n",
        "  vehical=\"bycycle\"\n",
        "  account_balance=0\n",
        "  def palying(self):\n",
        "    print(\"playing cricket\")\n",
        "  def studying(self):\n",
        "    print(\"preparing for examination\")\n",
        "\n",
        "obj=parent()\n",
        "print(obj.vehical)\n",
        "obj=child()\n",
        "print(obj.account_balance)\n",
        "print(obj.vehical)\n",
        "\n"
      ],
      "metadata": {
        "colab": {
          "base_uri": "https://localhost:8080/"
        },
        "id": "H14I2lCnSyyL",
        "outputId": "5866fe0d-89f6-4657-ae3f-a9c6dc885c17"
      },
      "execution_count": null,
      "outputs": [
        {
          "output_type": "stream",
          "name": "stdout",
          "text": [
            "BMW\n",
            "0\n",
            "bycycle\n"
          ]
        }
      ]
    },
    {
      "cell_type": "code",
      "source": [
        "class parent:\n",
        "  vehical=\"BMW\"\n",
        "  account_balance=5000000000\n",
        "  property=\"highway_vali_jameen\"\n",
        "  def doing_business():\n",
        "    print(\"working at office\")\n",
        "class child(parent):\n",
        "  vehical=\"bycycle\"\n",
        "  #account_balance=10\n",
        "  def studying(self):\n",
        "    print(\"studying\")\n",
        "class child2(parent):\n",
        "  vehical=\"bycyle\"\n",
        "  #account_balance=20\n",
        "  print(\"studying\")\n",
        "\n",
        "obj=parent()\n",
        "print(obj.account_balance)\n",
        "obj=child()\n",
        "print(obj.account_balance)\n",
        "obj=child2()\n",
        "print(obj.account_balance)\n",
        "print(obj.property)\n",
        "\n",
        "\n",
        "\n",
        "\n"
      ],
      "metadata": {
        "colab": {
          "base_uri": "https://localhost:8080/"
        },
        "id": "niftxBMXSysP",
        "outputId": "08c7cd93-5175-4704-dca1-8052a3664e1c"
      },
      "execution_count": null,
      "outputs": [
        {
          "output_type": "stream",
          "name": "stdout",
          "text": [
            "studying\n",
            "5000000000\n",
            "5000000000\n",
            "5000000000\n",
            "highway_vali_jameen\n"
          ]
        }
      ]
    },
    {
      "cell_type": "code",
      "source": [
        "class parent:\n",
        "  vehical=\"BMW\"\n",
        "  account_balance=5000000000\n",
        "  property=\"highway_vali_jameen\"\n",
        "  def doing_business():\n",
        "    print(\"working at office\")\n",
        "class child(parent):\n",
        "  vehical=\"bycycle\"\n",
        "  #account_balance=10\n",
        "\n",
        "  def studying(self):\n",
        "    print(\"studying\")\n",
        "class child2(parent):\n",
        "  vehical=\"bycyle\"\n",
        "  #account_balance=20\n",
        "  print(\"studying1\")\n",
        "\n",
        "\n"
      ],
      "metadata": {
        "colab": {
          "base_uri": "https://localhost:8080/"
        },
        "id": "l2V-v-2nZy7e",
        "outputId": "ca719224-8d9a-4c28-cfdc-5bbbc7597220"
      },
      "execution_count": null,
      "outputs": [
        {
          "output_type": "stream",
          "name": "stdout",
          "text": [
            "studying1\n"
          ]
        }
      ]
    },
    {
      "cell_type": "code",
      "execution_count": null,
      "metadata": {
        "colab": {
          "base_uri": "https://localhost:8080/"
        },
        "id": "tk0KgrNiOmrR",
        "outputId": "aa2c7a21-8d0f-4a7b-d0c0-f8206c06edbf"
      },
      "outputs": [
        {
          "output_type": "stream",
          "name": "stdout",
          "text": [
            "False\n",
            "False\n",
            "True\n"
          ]
        }
      ],
      "source": [
        "def is_even(num):\n",
        "  if num%2==0:\n",
        "    return True\n",
        "  else:\n",
        "    return False\n",
        "print(is_even(3))\n",
        "print(is_even(5))\n",
        "print(is_even(2))"
      ]
    },
    {
      "cell_type": "code",
      "execution_count": null,
      "metadata": {
        "colab": {
          "base_uri": "https://localhost:8080/"
        },
        "id": "PIlLwc2VPlY8",
        "outputId": "a78d8888-6231-4f69-e4e8-3f2d12cb987f"
      },
      "outputs": [
        {
          "name": "stdout",
          "output_type": "stream",
          "text": [
            "hello,divyansh!welcome back!\n"
          ]
        }
      ],
      "source": [
        "def greet_user(name):\n",
        "  print(f\"hello,{name}!welcome back!\")\n",
        "greet_user(\"divyansh\")"
      ]
    },
    {
      "cell_type": "code",
      "execution_count": null,
      "metadata": {
        "colab": {
          "background_save": true,
          "base_uri": "https://localhost:8080/"
        },
        "id": "lR0FnyCrR4P_",
        "outputId": "2517d84a-8c86-49f9-f804-a32a0c4740cf"
      },
      "outputs": [
        {
          "name": "stdout",
          "output_type": "stream",
          "text": [
            "78.5\n"
          ]
        }
      ],
      "source": [
        "def calculate_area(radius):\n",
        "  return 3.14*radius*radius\n",
        "print(calculate_area(5))"
      ]
    },
    {
      "cell_type": "code",
      "source": [
        "data=\"fefhwicwuwifjmcaKLahdpowuqiyeperkdsjgfdfjmv\"\n",
        "s='a e i o u'\n",
        "vowel=[]\n",
        "def count_vowel():\n",
        "  for i in data:\n",
        "    for j in s:\n",
        "      if i==j:\n",
        "        vowel.append(i)\n",
        "  print(s)\n",
        "\n",
        "count_vowel()"
      ],
      "metadata": {
        "colab": {
          "base_uri": "https://localhost:8080/"
        },
        "id": "Ai_VA5NcX-Fv",
        "outputId": "42cb74b0-6bb0-41cc-a41b-c6894b3316cd"
      },
      "execution_count": null,
      "outputs": [
        {
          "output_type": "stream",
          "name": "stdout",
          "text": [
            "a e i o u\n"
          ]
        }
      ]
    },
    {
      "cell_type": "code",
      "source": [
        "def fibonacci(num):\n",
        "  a=0\n",
        "  b=1\n",
        "  c=0\n",
        "\n",
        "  while a <= num:\n",
        "    print(a,end=' ')\n",
        "    c = a + b\n",
        "    a = b\n",
        "    b = c\n",
        "\n",
        "fibonacci(10)"
      ],
      "metadata": {
        "colab": {
          "base_uri": "https://localhost:8080/"
        },
        "id": "rKUXVGjLbxY8",
        "outputId": "a2e183cd-0c72-4bc4-bdb7-4710927d30b6"
      },
      "execution_count": null,
      "outputs": [
        {
          "output_type": "stream",
          "name": "stdout",
          "text": [
            "0 1 1 2 3 5 8 "
          ]
        }
      ]
    },
    {
      "cell_type": "code",
      "source": [
        "a=0\n",
        "b=1\n",
        "def fibonacci(num):\n",
        "  global a,b\n",
        "  print(a,end=' ')\n",
        "  c=a+b\n",
        "  a=b\n",
        "  b=c\n",
        "  if num==0:\n",
        "      return\n",
        "  return fibonacci(num-1)\n",
        "print(fibonacci(10))\n"
      ],
      "metadata": {
        "colab": {
          "base_uri": "https://localhost:8080/"
        },
        "id": "Slf186NyeBGL",
        "outputId": "df7b1c37-16d3-4c3b-f6c6-62526db339ae"
      },
      "execution_count": null,
      "outputs": [
        {
          "output_type": "stream",
          "name": "stdout",
          "text": [
            "0 1 1 2 3 5 8 13 21 34 55 None\n"
          ]
        }
      ]
    },
    {
      "cell_type": "code",
      "source": [
        "def sum(num):\n",
        "  first_num=num%10\n",
        "  last_num=num\n",
        "  while last_num>10:\n",
        "    last_num//=10\n",
        "  sum=first_num+last_num\n",
        "  print(sum)\n",
        "\n",
        "sum(1234567)"
      ],
      "metadata": {
        "id": "bf1kPteOfNIa",
        "colab": {
          "base_uri": "https://localhost:8080/"
        },
        "outputId": "c0aaad8a-0691-4842-e6de-2e2ce4d4af18"
      },
      "execution_count": null,
      "outputs": [
        {
          "output_type": "stream",
          "name": "stdout",
          "text": [
            "8\n"
          ]
        }
      ]
    },
    {
      "cell_type": "code",
      "source": [
        "data=\"kdlskergrginfvfggrihii\"\n",
        "data2 = {}\n",
        "for i in data:\n",
        "  if i in data2:\n",
        "    data2[i] += 1\n",
        "  else:\n",
        "    data2[i] = 1\n",
        "print(data2)"
      ],
      "metadata": {
        "colab": {
          "base_uri": "https://localhost:8080/"
        },
        "id": "Nig5P8tfaNP6",
        "outputId": "0d4397b4-a79a-46e5-e40f-56337620a8ed"
      },
      "execution_count": null,
      "outputs": [
        {
          "output_type": "stream",
          "name": "stdout",
          "text": [
            "{'k': 2, 'd': 1, 'l': 1, 's': 1, 'e': 1, 'r': 3, 'g': 4, 'i': 4, 'n': 1, 'f': 2, 'v': 1, 'h': 1}\n"
          ]
        }
      ]
    },
    {
      "cell_type": "code",
      "source": [
        "data={1:'a',2:'b',3:'c',4:'d'}\n",
        "data2={}\n",
        "for k,v in data.items():\n",
        "  data2[k]=v\n",
        "print(data2)\n",
        "\n"
      ],
      "metadata": {
        "colab": {
          "base_uri": "https://localhost:8080/"
        },
        "id": "9aOxwd03dcxp",
        "outputId": "20203802-0a03-453e-acbf-9575396a4294"
      },
      "execution_count": null,
      "outputs": [
        {
          "output_type": "stream",
          "name": "stdout",
          "text": [
            "{1: 'a', 2: 'b', 3: 'c', 4: 'd'}\n"
          ]
        }
      ]
    },
    {
      "cell_type": "code",
      "source": [
        "data={1:'a',2:'b',3:'c',4:'d',5:'d',5:'s'}\n",
        "data2={}\n",
        "for k,v in data.items():\n",
        "  data2[k]=v\n",
        "print(data2)"
      ],
      "metadata": {
        "colab": {
          "base_uri": "https://localhost:8080/"
        },
        "id": "Fbjf93zBguKl",
        "outputId": "88b4c65f-3182-47e2-e72b-e27f8a001631"
      },
      "execution_count": null,
      "outputs": [
        {
          "output_type": "stream",
          "name": "stdout",
          "text": [
            "{1: 'a', 2: 'b', 3: 'c', 4: 'd', 5: 's'}\n"
          ]
        }
      ]
    },
    {
      "cell_type": "code",
      "source": [],
      "metadata": {
        "id": "znhkF1kThLj1"
      },
      "execution_count": null,
      "outputs": []
    },
    {
      "cell_type": "code",
      "source": [
        "data=[1,2,3,4,5,6,7,8,9]\n",
        "print(data[2])\n",
        "print(data.index(6))\n"
      ],
      "metadata": {
        "colab": {
          "base_uri": "https://localhost:8080/"
        },
        "id": "pTW9g7uKfNx1",
        "outputId": "6f2d21d3-2105-47bc-a02a-7dbc9bc6dd40"
      },
      "execution_count": null,
      "outputs": [
        {
          "output_type": "stream",
          "name": "stdout",
          "text": [
            "3\n",
            "5\n"
          ]
        }
      ]
    },
    {
      "cell_type": "code",
      "source": [
        "data1=([[1,2]],[[3,4]],[[5,6]])\n",
        "new=[j for n in data1 for i in n for j in i]\n",
        "print(new)"
      ],
      "metadata": {
        "colab": {
          "base_uri": "https://localhost:8080/"
        },
        "id": "0AwmEGlXxSSG",
        "outputId": "1bd12736-b2d3-4b5c-853f-f5bb8feb955d"
      },
      "execution_count": null,
      "outputs": [
        {
          "output_type": "stream",
          "name": "stdout",
          "text": [
            "[1, 2, 3, 4, 5, 6]\n"
          ]
        }
      ]
    },
    {
      "cell_type": "code",
      "source": [
        "class bank_account:\n"
      ],
      "metadata": {
        "id": "YzRo8b4HI3gQ"
      },
      "execution_count": null,
      "outputs": []
    }
  ],
  "metadata": {
    "colab": {
      "provenance": [],
      "authorship_tag": "ABX9TyO1Dfm5Wvupl0h1WZj+/V3I",
      "include_colab_link": true
    },
    "kernelspec": {
      "display_name": "Python 3",
      "name": "python3"
    },
    "language_info": {
      "name": "python"
    }
  },
  "nbformat": 4,
  "nbformat_minor": 0
}
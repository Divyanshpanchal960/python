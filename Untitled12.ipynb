{
  "nbformat": 4,
  "nbformat_minor": 0,
  "metadata": {
    "colab": {
      "provenance": [],
      "authorship_tag": "ABX9TyM4tdhUK/q3NVKYWFsY+pWY",
      "include_colab_link": true
    },
    "kernelspec": {
      "name": "python3",
      "display_name": "Python 3"
    },
    "language_info": {
      "name": "python"
    }
  },
  "cells": [
    {
      "cell_type": "markdown",
      "metadata": {
        "id": "view-in-github",
        "colab_type": "text"
      },
      "source": [
        "<a href=\"https://colab.research.google.com/github/Divyanshpanchal960/python/blob/main/Untitled12.ipynb\" target=\"_parent\"><img src=\"https://colab.research.google.com/assets/colab-badge.svg\" alt=\"Open In Colab\"/></a>"
      ]
    },
    {
      "cell_type": "code",
      "source": [
        "n=6\n",
        "for i in range (n+1):\n",
        "  for j in range(i):\n",
        "    print('*',end='')\n",
        "  #for k in range(i):\n",
        "      #print('*',end='')\n",
        "  print()"
      ],
      "metadata": {
        "colab": {
          "base_uri": "https://localhost:8080/"
        },
        "id": "2CwevsrUpd_e",
        "outputId": "0e70bc5c-2f06-4e94-8946-bd603daa0c5c"
      },
      "execution_count": null,
      "outputs": [
        {
          "output_type": "stream",
          "name": "stdout",
          "text": [
            "\n",
            "*\n",
            "**\n",
            "***\n",
            "****\n",
            "*****\n",
            "******\n"
          ]
        }
      ]
    },
    {
      "cell_type": "code",
      "source": [
        "for i in range (1,6):\n",
        "  if i==1 or i==n:\n",
        "    print(i*'*')\n",
        "  else:\n",
        "    print('*'+(i-2)*' '+'*')\n"
      ],
      "metadata": {
        "colab": {
          "base_uri": "https://localhost:8080/"
        },
        "id": "QBmHtq3tp749",
        "outputId": "9b443288-d1f6-425f-9aae-be939b85de07"
      },
      "execution_count": null,
      "outputs": [
        {
          "output_type": "stream",
          "name": "stdout",
          "text": [
            "*\n",
            "**\n",
            "* *\n",
            "*  *\n",
            "*****\n"
          ]
        }
      ]
    },
    {
      "cell_type": "code",
      "source": [
        "n=10\n",
        "for i in range(0, n-1):\n",
        " for j in range(i):\n",
        "    if j==0 or j==i-1 or i==1 or i==n:\n",
        "      print('*',end='')\n",
        "    else:\n",
        "      print(' ',end='')\n",
        " print()"
      ],
      "metadata": {
        "colab": {
          "base_uri": "https://localhost:8080/"
        },
        "id": "dLUZmZuXtUux",
        "outputId": "8b4e7a1c-9484-4c4c-ce8c-7a8bccd82506"
      },
      "execution_count": null,
      "outputs": [
        {
          "output_type": "stream",
          "name": "stdout",
          "text": [
            "\n",
            "*\n",
            "**\n",
            "* *\n",
            "*  *\n",
            "*   *\n",
            "*    *\n",
            "*     *\n",
            "*      *\n"
          ]
        }
      ]
    },
    {
      "cell_type": "code",
      "source": [
        "n=4\n",
        "for i in range(1,11):\n",
        "  print(f\"{n}*{i}={n*i}\")\n",
        "\n"
      ],
      "metadata": {
        "id": "4S-h3qtTuTus",
        "colab": {
          "base_uri": "https://localhost:8080/"
        },
        "outputId": "52f72f28-0555-4454-b550-15260a678649"
      },
      "execution_count": null,
      "outputs": [
        {
          "output_type": "stream",
          "name": "stdout",
          "text": [
            "4*1=4\n",
            "4*2=8\n",
            "4*3=12\n",
            "4*4=16\n",
            "4*5=20\n",
            "4*6=24\n",
            "4*7=28\n",
            "4*8=32\n",
            "4*9=36\n",
            "4*10=40\n"
          ]
        }
      ]
    },
    {
      "cell_type": "code",
      "source": [
        "n=int(input(\"enter the table\"))\n",
        "for i in range(1,11):\n",
        "  print(f'{n}*{i}={n*i}')"
      ],
      "metadata": {
        "id": "pEvTZc9wBnCN",
        "colab": {
          "base_uri": "https://localhost:8080/"
        },
        "outputId": "52c90645-5eb9-438e-c10a-1f0ee4395435"
      },
      "execution_count": null,
      "outputs": [
        {
          "output_type": "stream",
          "name": "stdout",
          "text": [
            "enter the table5\n",
            "5*1=5\n",
            "5*2=10\n",
            "5*3=15\n",
            "5*4=20\n",
            "5*5=25\n",
            "5*6=30\n",
            "5*7=35\n",
            "5*8=40\n",
            "5*9=45\n",
            "5*10=50\n"
          ]
        }
      ]
    },
    {
      "cell_type": "code",
      "source": [
        "n=40\n",
        "\n",
        "for i in range(1,11):\n",
        "  print(f'{n}*{i}={n*i}')\n"
      ],
      "metadata": {
        "colab": {
          "base_uri": "https://localhost:8080/"
        },
        "id": "SFHyX16XiP_Q",
        "outputId": "179d7ca0-1520-4f60-a553-cb7f523e87d6"
      },
      "execution_count": null,
      "outputs": [
        {
          "output_type": "stream",
          "name": "stdout",
          "text": [
            "40*1=40\n",
            "40*2=80\n",
            "40*3=120\n",
            "40*4=160\n",
            "40*5=200\n",
            "40*6=240\n",
            "40*7=280\n",
            "40*8=320\n",
            "40*9=360\n",
            "40*10=400\n"
          ]
        }
      ]
    },
    {
      "cell_type": "code",
      "source": [
        "#i=1\n",
        "#j=101\n",
        "student={\"name\":\"divyansh\",\"age\":20,\"role\":\"dataengineer\"}\n",
        "print(\"Name:\",student[\"name\"])\n",
        "print(\"Age:\",student[\"age\"])\n",
        "print(\"Role\",student[\"role\"])"
      ],
      "metadata": {
        "colab": {
          "base_uri": "https://localhost:8080/"
        },
        "id": "g5ogPKPckBmc",
        "outputId": "213f19f0-8dd0-4001-ed64-f5c8a956ec4a"
      },
      "execution_count": null,
      "outputs": [
        {
          "output_type": "stream",
          "name": "stdout",
          "text": [
            "Name: divyansh\n",
            "Age: 20\n",
            "Role dataengineer\n"
          ]
        }
      ]
    },
    {
      "cell_type": "code",
      "source": [
        "for n in range(int(input(\"enter range\"))):\n",
        "  i=int(input(\"enter number\"))\n",
        "  j=int(input(\"enter number\"))\n",
        "  print(i+j)"
      ],
      "metadata": {
        "colab": {
          "base_uri": "https://localhost:8080/"
        },
        "id": "SkharV9Erxmu",
        "outputId": "eacf4db0-0ab1-45ee-d7a2-e7b5b8fe48c3"
      },
      "execution_count": null,
      "outputs": [
        {
          "output_type": "stream",
          "name": "stdout",
          "text": [
            "enter range3\n",
            "enter number4\n",
            "enter number1\n",
            "5\n",
            "enter number3\n",
            "enter number4\n",
            "7\n",
            "enter number4\n",
            "enter number5\n",
            "9\n"
          ]
        }
      ]
    },
    {
      "cell_type": "code",
      "source": [
        "for n in range(3):\n",
        "  i=int(input(\"enter number\"))\n",
        "  j=int(input(\"enter number\"))\n",
        "  print(i+j)"
      ],
      "metadata": {
        "colab": {
          "base_uri": "https://localhost:8080/"
        },
        "id": "5gKun7VMwN3f",
        "outputId": "1a9e032c-abb1-4129-f69a-2e29a8a9c61f"
      },
      "execution_count": null,
      "outputs": [
        {
          "output_type": "stream",
          "name": "stdout",
          "text": [
            "enter number3\n",
            "enter number4\n",
            "7\n",
            "enter number4\n",
            "enter number5\n",
            "9\n",
            "enter number4\n",
            "enter number3\n",
            "7\n"
          ]
        }
      ]
    },
    {
      "cell_type": "code",
      "source": [
        "for n in range(3):\n",
        "  i=int(input(\"enter first number\"))\n",
        "  j=int(input(\"enter second number\"))\n",
        "  print(i+j)"
      ],
      "metadata": {
        "id": "aT6TCE4dwZ-j",
        "colab": {
          "base_uri": "https://localhost:8080/"
        },
        "outputId": "64521197-1a33-45a9-fac6-071dcf6d7bb7"
      },
      "execution_count": null,
      "outputs": [
        {
          "output_type": "stream",
          "name": "stdout",
          "text": [
            "enter first number12\n",
            "enter second number2\n",
            "14\n",
            "enter first number23\n",
            "enter second number23\n",
            "46\n",
            "enter first number22\n",
            "enter second number33\n",
            "55\n"
          ]
        }
      ]
    },
    {
      "cell_type": "code",
      "source": [
        "n=int(input(\"enter the table\"))\n",
        "for i in range(1,11):\n",
        "  print(f\"{n}*{i}={i*n}\")"
      ],
      "metadata": {
        "colab": {
          "base_uri": "https://localhost:8080/"
        },
        "id": "KCE_GRFcsHMI",
        "outputId": "5eed6e3c-8ede-418c-e38f-56c62472e6e6"
      },
      "execution_count": null,
      "outputs": [
        {
          "output_type": "stream",
          "name": "stdout",
          "text": [
            "enter the table5\n",
            "5*1=5\n",
            "5*2=10\n",
            "5*3=15\n",
            "5*4=20\n",
            "5*5=25\n",
            "5*6=30\n",
            "5*7=35\n",
            "5*8=40\n",
            "5*9=45\n",
            "5*10=50\n"
          ]
        }
      ]
    },
    {
      "cell_type": "code",
      "source": [
        "for n in range(5):\n",
        "  print(n)"
      ],
      "metadata": {
        "id": "Rb6hg_MTsv8n",
        "colab": {
          "base_uri": "https://localhost:8080/"
        },
        "outputId": "76cb42d5-44f0-4d34-92f3-296f7472e2cc"
      },
      "execution_count": null,
      "outputs": [
        {
          "output_type": "stream",
          "name": "stdout",
          "text": [
            "0\n",
            "1\n",
            "2\n",
            "3\n",
            "4\n"
          ]
        }
      ]
    },
    {
      "cell_type": "code",
      "source": [
        "n=\"divyansh\"\n",
        "n=len(n)\n",
        "print(n)"
      ],
      "metadata": {
        "colab": {
          "base_uri": "https://localhost:8080/"
        },
        "id": "H3PFphLE9m96",
        "outputId": "732835a1-e9ed-47e6-9caf-506b0d2adf06"
      },
      "execution_count": null,
      "outputs": [
        {
          "output_type": "stream",
          "name": "stdout",
          "text": [
            "8\n"
          ]
        }
      ]
    },
    {
      "cell_type": "code",
      "source": [
        "n=\"divyansh\"\n",
        "for i in range(len(n)):\n",
        "  print(n[i])"
      ],
      "metadata": {
        "colab": {
          "base_uri": "https://localhost:8080/"
        },
        "id": "vbcnFEDc_ICT",
        "outputId": "a64d3e37-80af-4ee0-a078-084c0f0e5c38"
      },
      "execution_count": null,
      "outputs": [
        {
          "output_type": "stream",
          "name": "stdout",
          "text": [
            "d\n",
            "i\n",
            "v\n",
            "y\n",
            "a\n",
            "n\n",
            "s\n",
            "h\n"
          ]
        }
      ]
    },
    {
      "cell_type": "code",
      "source": [
        "data =\"shekhar ranghav\"\n",
        "print(data[0:15])\n",
        "print(data[8:15])\n",
        "print(data[-15:-8])\n",
        "print(data[-15:-1])\n",
        "print(data[-15:0])"
      ],
      "metadata": {
        "id": "aGp4AIFD_M_S",
        "colab": {
          "base_uri": "https://localhost:8080/"
        },
        "outputId": "4c7353e1-5c6f-478c-e6fd-0b8af7356709"
      },
      "execution_count": null,
      "outputs": [
        {
          "output_type": "stream",
          "name": "stdout",
          "text": [
            "shekhar ranghav\n",
            "ranghav\n",
            "shekhar\n",
            "shekhar rangha\n",
            "\n"
          ]
        }
      ]
    }
  ]
}
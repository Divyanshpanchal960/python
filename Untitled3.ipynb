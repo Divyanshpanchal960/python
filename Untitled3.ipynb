{
  "nbformat": 4,
  "nbformat_minor": 0,
  "metadata": {
    "colab": {
      "provenance": [],
      "authorship_tag": "ABX9TyNDqL+PhnVQeQ+5pZpuj0A9",
      "include_colab_link": true
    },
    "kernelspec": {
      "name": "python3",
      "display_name": "Python 3"
    },
    "language_info": {
      "name": "python"
    }
  },
  "cells": [
    {
      "cell_type": "markdown",
      "metadata": {
        "id": "view-in-github",
        "colab_type": "text"
      },
      "source": [
        "<a href=\"https://colab.research.google.com/github/Divyanshpanchal960/python/blob/main/Untitled3.ipynb\" target=\"_parent\"><img src=\"https://colab.research.google.com/assets/colab-badge.svg\" alt=\"Open In Colab\"/></a>"
      ]
    },
    {
      "cell_type": "code",
      "execution_count": null,
      "metadata": {
        "colab": {
          "base_uri": "https://localhost:8080/"
        },
        "id": "H8rQP_0GLZUL",
        "outputId": "49f3d8c1-4863-4440-8f8f-f44eb3bcd4a2"
      },
      "outputs": [
        {
          "output_type": "stream",
          "name": "stdout",
          "text": [
            "enter a number2\n",
            "its even number\n"
          ]
        }
      ],
      "source": [
        "num=int(input(\"enter a number\"))\n",
        "if(num%2==0):\n",
        "    print(\"its even number\")\n",
        "elif(num%2==1):\n",
        "    print(\"its odd number\")\n",
        "\n"
      ]
    },
    {
      "cell_type": "code",
      "source": [
        "num=int(input(\"enter a number\"))\n",
        "if(num>0):\n",
        "    print(\"postive number\")\n",
        "elif(num<0):\n",
        "  print(\"negative number\")\n",
        "else:\n",
        "    print(\"zero number\")\n",
        "\n"
      ],
      "metadata": {
        "colab": {
          "base_uri": "https://localhost:8080/"
        },
        "id": "hmDYe-BqMIDS",
        "outputId": "b32ccafc-d9fb-4ac3-c7ae-f2b3388cadd0"
      },
      "execution_count": null,
      "outputs": [
        {
          "output_type": "stream",
          "name": "stdout",
          "text": [
            "enter a number0\n",
            "zero number\n"
          ]
        }
      ]
    },
    {
      "cell_type": "code",
      "source": [
        "num=int(input(\"enter a number\"))\n",
        "if(num%4==0):\n",
        "    print(\"its leap year\")\n",
        "elif(num%4!=0):\n",
        "    print(\"its not leap year\")\n"
      ],
      "metadata": {
        "colab": {
          "base_uri": "https://localhost:8080/"
        },
        "id": "mW9kE_S3NI3q",
        "outputId": "21248409-562d-4a3b-cef3-2f86b26ba199"
      },
      "execution_count": null,
      "outputs": [
        {
          "output_type": "stream",
          "name": "stdout",
          "text": [
            "enter a number2003\n",
            "its not leap year\n"
          ]
        }
      ]
    },
    {
      "cell_type": "code",
      "source": [
        "age=int(input(\"enter your age\"))\n",
        "if(age>=18):\n",
        "    print(\"you are eligible for vote\")\n",
        "elif(age<18):\n",
        "    print(\"you are not eligible for vote\")"
      ],
      "metadata": {
        "colab": {
          "base_uri": "https://localhost:8080/"
        },
        "id": "cF_xO0q2OipL",
        "outputId": "3fde8587-923d-4269-d0f3-7d81bb695d47"
      },
      "execution_count": null,
      "outputs": [
        {
          "output_type": "stream",
          "name": "stdout",
          "text": [
            "enter your age17\n",
            "you are not eligible for vote\n"
          ]
        }
      ]
    },
    {
      "cell_type": "code",
      "source": [
        "num=int(input(\"enter a number\"))\n",
        "if(num%5==0):\n",
        "    print(\"its divisible by 5\")\n",
        "elif(num%11==0):\n",
        "    print(\"its divisible by 11\")\n",
        "else:\n",
        "    print(\"its divisible by both 5 and 11\")"
      ],
      "metadata": {
        "colab": {
          "base_uri": "https://localhost:8080/"
        },
        "id": "WjJfeeIUOyZy",
        "outputId": "f34740ea-764f-45db-fc4b-3a6f9f9e5a67"
      },
      "execution_count": null,
      "outputs": [
        {
          "output_type": "stream",
          "name": "stdout",
          "text": [
            "enter a number144\n",
            "its divisible by both 5 and 11\n"
          ]
        }
      ]
    },
    {
      "cell_type": "code",
      "source": [
        "ch=input(\"enter a character\")\n",
        "if(ch=='a'or ch=='b' or ch=='c'or ch=='d'or ch=='e'):\n",
        "    print(\"its a alphabate\")\n",
        "elif(ch=='0'or ch=='1'or ch=='2'or ch=='3'or ch=='4'or ch=='5'or ch=='6'or ch=='7'or ch=='8'or ch=='9'):\n",
        "    print(\"its a number\")\n",
        "else:\n",
        "    print(\"its a special character\")"
      ],
      "metadata": {
        "colab": {
          "base_uri": "https://localhost:8080/"
        },
        "id": "uvk7VURmQVvY",
        "outputId": "29aca9ba-9a81-484c-9d05-eefd31e02850"
      },
      "execution_count": null,
      "outputs": [
        {
          "output_type": "stream",
          "name": "stdout",
          "text": [
            "enter a character#\n",
            "its a special character\n"
          ]
        }
      ]
    },
    {
      "cell_type": "code",
      "source": [
        "p=int(input(\"enter your percentage \"))\n",
        "if(p>=90):\n",
        "    print(\"GRADE 'A'\")\n",
        "elif(80<=p<=89):\n",
        "    print(\"GRADE 'B'\")\n",
        "elif(70<=p<=79):\n",
        "    print(\"GRADE 'C'\")\n",
        "elif(60<=p<=69):\n",
        "    print(\"GRADE 'D'\")\n",
        "elif(p<=60):\n",
        "    print(\"GRADE 'F'\")\n"
      ],
      "metadata": {
        "id": "yNarROX5UfXG",
        "colab": {
          "base_uri": "https://localhost:8080/"
        },
        "outputId": "5a344f68-1962-4169-a3bf-b5ebd9908fd5"
      },
      "execution_count": null,
      "outputs": [
        {
          "output_type": "stream",
          "name": "stdout",
          "text": [
            "enter your percentage 89\n",
            "GRADE 'B'\n"
          ]
        }
      ]
    },
    {
      "cell_type": "code",
      "source": [
        "num=int(input(\"enter a number\"))\n",
        "if(num%3==0 or num%7==0):\n",
        "    print(\"its divisible by 3 or 7\")\n",
        "else:\n",
        "    print(\"its not divisible by 3 or 7\")\n"
      ],
      "metadata": {
        "id": "Ddkb0p3MgEar"
      },
      "execution_count": null,
      "outputs": []
    }
  ]
}
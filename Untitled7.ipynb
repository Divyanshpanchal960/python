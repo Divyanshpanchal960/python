{
  "nbformat": 4,
  "nbformat_minor": 0,
  "metadata": {
    "colab": {
      "provenance": [],
      "authorship_tag": "ABX9TyMEY8p4rplt8E3aq2jZH8Hg",
      "include_colab_link": true
    },
    "kernelspec": {
      "name": "python3",
      "display_name": "Python 3"
    },
    "language_info": {
      "name": "python"
    }
  },
  "cells": [
    {
      "cell_type": "markdown",
      "metadata": {
        "id": "view-in-github",
        "colab_type": "text"
      },
      "source": [
        "<a href=\"https://colab.research.google.com/github/Divyanshpanchal960/python/blob/main/Untitled7.ipynb\" target=\"_parent\"><img src=\"https://colab.research.google.com/assets/colab-badge.svg\" alt=\"Open In Colab\"/></a>"
      ]
    },
    {
      "cell_type": "code",
      "execution_count": null,
      "metadata": {
        "colab": {
          "base_uri": "https://localhost:8080/"
        },
        "id": "xGubJvK6BJlO",
        "outputId": "459e3326-7e44-466a-e982-fe213b224606"
      },
      "outputs": [
        {
          "output_type": "stream",
          "name": "stdout",
          "text": [
            "1\n",
            "2\n",
            "3\n",
            "4\n"
          ]
        }
      ],
      "source": [
        "#program for print 1 to n number\n",
        "i=1\n",
        "n=4\n",
        "while(i<=n):\n",
        "  print(i)\n",
        "  i=i+1\n"
      ]
    },
    {
      "cell_type": "code",
      "source": [
        "#program for print sum of 1 to n number\n",
        "i=1\n",
        "n=4\n",
        "sum=0\n",
        "while(i<=n):\n",
        "  sum=sum+i\n",
        "  print(\"sum of= \",sum)\n",
        "  i=i+1\n"
      ],
      "metadata": {
        "colab": {
          "base_uri": "https://localhost:8080/"
        },
        "id": "eJzQ8V6FCWvG",
        "outputId": "fa105e68-28bf-468f-fed6-bceb37c4fab3"
      },
      "execution_count": null,
      "outputs": [
        {
          "output_type": "stream",
          "name": "stdout",
          "text": [
            "sum of=  1\n",
            "sum of=  3\n",
            "sum of=  6\n",
            "sum of=  10\n"
          ]
        }
      ]
    },
    {
      "cell_type": "code",
      "source": [
        "#program to print square of number 1 to n and sum of those numbers (user input)\n",
        "i=int(input(\"enter fisrt number\"))\n",
        "n=int(input(\"enter last number\"))\n",
        "sum=0\n",
        "while(i<=n):\n",
        "    sum=sum+(i**2)\n",
        "    i=i+1\n",
        "print(\"sum of square is \",sum)\n",
        ""
      ],
      "metadata": {
        "id": "mBiNfa1rDJMN",
        "colab": {
          "base_uri": "https://localhost:8080/"
        },
        "outputId": "02164b2d-4215-4a00-c550-85504a4517df"
      },
      "execution_count": 131,
      "outputs": [
        {
          "output_type": "stream",
          "name": "stdout",
          "text": [
            "enter fisrt number1\n",
            "enter last number4\n",
            "sum of square is  30\n"
          ]
        }
      ]
    },
    {
      "cell_type": "code",
      "source": [
        "#write a program to print sum of even numbers\n",
        "i=int(input(\"enter fisrt number\"))\n",
        "n=int(input(\"enter last number\"))\n",
        "sum=0\n",
        "while(i<=n):\n",
        "  if(i%2==0):\n",
        "   sum=sum+i\n",
        "  i=i+1\n",
        "\n",
        "print( sum )\n",
        "\n"
      ],
      "metadata": {
        "id": "8ZO7q3KPJTp_",
        "colab": {
          "base_uri": "https://localhost:8080/"
        },
        "outputId": "e828867c-54df-433e-bd83-f83d925f3564"
      },
      "execution_count": null,
      "outputs": [
        {
          "output_type": "stream",
          "name": "stdout",
          "text": [
            "enter fisrt number2\n",
            "enter last number10\n",
            "30\n"
          ]
        }
      ]
    },
    {
      "cell_type": "code",
      "source": [
        "#write a program to print odd numbers\n",
        "i=int(input(\"enter fisrt number\"))\n",
        "n=int(input(\"enter last number\"))\n",
        "while(i<=n):\n",
        "  if(i%2!=0):\n",
        "\n",
        "   print(i)\n",
        "  i=i+1"
      ],
      "metadata": {
        "colab": {
          "base_uri": "https://localhost:8080/"
        },
        "id": "_Afaj0h-r42k",
        "outputId": "8bb5ecad-fae5-4662-ae84-ab84adcd10fe"
      },
      "execution_count": null,
      "outputs": [
        {
          "output_type": "stream",
          "name": "stdout",
          "text": [
            "enter fisrt number1\n",
            "enter last number10\n",
            "1\n",
            "3\n",
            "5\n",
            "7\n",
            "9\n"
          ]
        }
      ]
    },
    {
      "cell_type": "code",
      "source": [
        "#write a program to print sum of odd numbers\n",
        "i=int(input(\"enter fisrt number\"))\n",
        "n=int(input(\"enter last number\"))\n",
        "sum=0\n",
        "while(i<=n):\n",
        "  if(i%2!=0):\n",
        "   sum=sum+i\n",
        "  i=i+1\n",
        "\n",
        "print( sum )\n"
      ],
      "metadata": {
        "colab": {
          "base_uri": "https://localhost:8080/"
        },
        "id": "wT4t54knwkNo",
        "outputId": "3ed08580-a8c3-442d-a134-b0ea21539382"
      },
      "execution_count": null,
      "outputs": [
        {
          "output_type": "stream",
          "name": "stdout",
          "text": [
            "enter fisrt number1\n",
            "enter last number10\n",
            "25\n"
          ]
        }
      ]
    },
    {
      "cell_type": "code",
      "source": [
        "#write a program to print sum of digits of given number\n",
        "i=int(input(\"enter the digit\"))\n",
        "sum=0\n",
        "while(i>0):\n",
        "  d=i%10\n",
        "  sum=sum+d\n",
        "  i=i//10\n",
        "print(sum)"
      ],
      "metadata": {
        "id": "G5eSWv5D13ac",
        "colab": {
          "base_uri": "https://localhost:8080/"
        },
        "outputId": "d03eecd2-d5a2-4562-d7e8-c1fe0565f702"
      },
      "execution_count": 68,
      "outputs": [
        {
          "output_type": "stream",
          "name": "stdout",
          "text": [
            "enter the digit123456\n",
            "21\n"
          ]
        }
      ]
    },
    {
      "cell_type": "code",
      "source": [
        "#write a program to find sum of square of given number\n",
        "i=int(input(\"enter first number\"))\n",
        "n=int(input(\"enter last number\"))\n",
        "sum=0\n",
        "while(i<=n):\n",
        "  sum=sum+(i**2)\n",
        "  i=i+1\n",
        "print(sum)"
      ],
      "metadata": {
        "id": "TO4fH-St2N8Z",
        "colab": {
          "base_uri": "https://localhost:8080/"
        },
        "outputId": "f9f74f98-8b07-4239-ec47-6f4fb15c9642"
      },
      "execution_count": 92,
      "outputs": [
        {
          "output_type": "stream",
          "name": "stdout",
          "text": [
            "enter first number1\n",
            "enter last number4\n",
            "30\n"
          ]
        }
      ]
    },
    {
      "cell_type": "code",
      "source": [
        "#write a program to find sum of cube of given number\n",
        "i=int(input(\"enter first number\"))\n",
        "n=int(input(\"enter last number\"))\n",
        "sum=0\n",
        "while(i<=n):\n",
        "  sum=sum+(i**3)\n",
        "  i=i+1\n",
        "print(sum)"
      ],
      "metadata": {
        "colab": {
          "base_uri": "https://localhost:8080/"
        },
        "id": "PxImcHV-_kSQ",
        "outputId": "85ddf1ae-9a6d-45a1-ba15-65bee3d9b33d"
      },
      "execution_count": 95,
      "outputs": [
        {
          "output_type": "stream",
          "name": "stdout",
          "text": [
            "enter first number1\n",
            "enter last number4\n",
            "100\n"
          ]
        }
      ]
    },
    {
      "cell_type": "code",
      "source": [
        "#write a program to find that given number is armstrong or not\n",
        "i=int(input(\"enter a number\"))\n",
        "sum=0\n",
        "temp=i\n",
        "while(i>0):\n",
        "  d=i%10\n",
        "  sum=sum+(d**3)\n",
        "  i=i//10\n",
        "if(sum==temp):\n",
        "  print(\"its armstrong number\")\n",
        "else:\n",
        "  print(\"its not armstrong number\")"
      ],
      "metadata": {
        "colab": {
          "base_uri": "https://localhost:8080/"
        },
        "id": "7jOzwCLFAUIm",
        "outputId": "6f6e1a29-644c-469f-dfb9-99265818112e"
      },
      "execution_count": 126,
      "outputs": [
        {
          "output_type": "stream",
          "name": "stdout",
          "text": [
            "enter a number153\n",
            "its armstrong number\n"
          ]
        }
      ]
    },
    {
      "cell_type": "code",
      "source": [
        "#write a program to find the product of given digits\n",
        "i=int(input(\"enter the digits\"))\n",
        "product=1\n",
        "while(i>0):\n",
        "  d=i%10\n",
        "  product=product*d\n",
        "  i=i//10\n",
        "print(product)\n"
      ],
      "metadata": {
        "colab": {
          "base_uri": "https://localhost:8080/"
        },
        "id": "8kAgSmkrHB2L",
        "outputId": "8e6a726e-8d96-47d3-e205-10f51809bcb4"
      },
      "execution_count": 127,
      "outputs": [
        {
          "output_type": "stream",
          "name": "stdout",
          "text": [
            "enter the digits1234\n",
            "24\n"
          ]
        }
      ]
    },
    {
      "cell_type": "code",
      "source": [
        "#write a program to reverse of the given numbers\n",
        "i=int(input(\"enter the number\"))\n",
        "rev=0\n",
        "while(i>0):\n",
        "  d=i%10\n",
        "  rev=rev*10+d\n",
        "  i=i//10\n",
        "print(rev)"
      ],
      "metadata": {
        "colab": {
          "base_uri": "https://localhost:8080/"
        },
        "id": "yn7pbBCqJR7P",
        "outputId": "8345b2e7-34c8-4b3b-e4cc-d9a9bfbb5fdd"
      },
      "execution_count": 129,
      "outputs": [
        {
          "output_type": "stream",
          "name": "stdout",
          "text": [
            "enter the number12345\n",
            "54321\n"
          ]
        }
      ]
    },
    {
      "cell_type": "code",
      "source": [
        "\n",
        "\n",
        "\n"
      ],
      "metadata": {
        "id": "fW0qFbHmJoO1"
      },
      "execution_count": null,
      "outputs": []
    }
  ]
}
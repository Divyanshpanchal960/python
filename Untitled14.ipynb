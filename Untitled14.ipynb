{
  "nbformat": 4,
  "nbformat_minor": 0,
  "metadata": {
    "colab": {
      "provenance": [],
      "authorship_tag": "ABX9TyOXMu/rjXwiVv8DgrPVBQMk",
      "include_colab_link": true
    },
    "kernelspec": {
      "name": "python3",
      "display_name": "Python 3"
    },
    "language_info": {
      "name": "python"
    }
  },
  "cells": [
    {
      "cell_type": "markdown",
      "metadata": {
        "id": "view-in-github",
        "colab_type": "text"
      },
      "source": [
        "<a href=\"https://colab.research.google.com/github/Divyanshpanchal960/python/blob/main/Untitled14.ipynb\" target=\"_parent\"><img src=\"https://colab.research.google.com/assets/colab-badge.svg\" alt=\"Open In Colab\"/></a>"
      ]
    },
    {
      "cell_type": "code",
      "execution_count": null,
      "metadata": {
        "colab": {
          "base_uri": "https://localhost:8080/"
        },
        "id": "HjHhYja87oc-",
        "outputId": "8689bca0-e5f8-4e11-e67e-3dacf17f75de"
      },
      "outputs": [
        {
          "output_type": "stream",
          "name": "stdout",
          "text": [
            "1 \n",
            "2 3 \n",
            "4 5 6 \n",
            "7 8 9 10 \n",
            "11 12 13 14 15 \n"
          ]
        }
      ],
      "source": [
        "temp=1\n",
        "for i in range(1,6):\n",
        "  for j in range(i):\n",
        "    print(temp,end=' ')\n",
        "    temp=temp+1\n",
        "  print()\n"
      ]
    },
    {
      "cell_type": "code",
      "source": [
        "temp=2\n",
        "for i in range(1,6):\n",
        "  for j in range(i):\n",
        "    print(temp,end=' ')\n",
        "    temp=temp+2\n",
        "  print()"
      ],
      "metadata": {
        "colab": {
          "base_uri": "https://localhost:8080/"
        },
        "id": "Sd5mHrYB8uon",
        "outputId": "1892c2d7-3199-4357-c769-ce2a6fd4664c"
      },
      "execution_count": null,
      "outputs": [
        {
          "output_type": "stream",
          "name": "stdout",
          "text": [
            "2 \n",
            "4 6 \n",
            "8 10 12 \n",
            "14 16 18 20 \n",
            "22 24 26 28 30 \n"
          ]
        }
      ]
    },
    {
      "cell_type": "code",
      "source": [
        "temp=1\n",
        "for i in range(1,6):\n",
        "  for j in range(i):\n",
        "    print(temp,end=' ')\n",
        "    temp=temp+2\n",
        "  print()\n"
      ],
      "metadata": {
        "colab": {
          "base_uri": "https://localhost:8080/"
        },
        "id": "4luCvwYB9OcJ",
        "outputId": "50d3e839-9d17-4ae9-b31f-00fce94a556c"
      },
      "execution_count": null,
      "outputs": [
        {
          "output_type": "stream",
          "name": "stdout",
          "text": [
            "1 \n",
            "3 5 \n",
            "7 9 11 \n",
            "13 15 17 19 \n",
            "21 23 25 27 29 \n"
          ]
        }
      ]
    },
    {
      "cell_type": "code",
      "source": [
        "a=0\n",
        "b=1\n",
        "c=0\n",
        "for i in range(0,6):\n",
        "  for j in range(i):\n",
        "    print(c,end=' ')\n",
        "    a=b\n",
        "    b=c\n",
        "    c=a+b\n",
        "  print()"
      ],
      "metadata": {
        "colab": {
          "base_uri": "https://localhost:8080/"
        },
        "id": "7ew8rGw29ekH",
        "outputId": "3bb2694a-5df2-49fe-d1f3-1b5e54726b7b"
      },
      "execution_count": null,
      "outputs": [
        {
          "output_type": "stream",
          "name": "stdout",
          "text": [
            "\n",
            "0 \n",
            "1 1 \n",
            "2 3 5 \n",
            "8 13 21 34 \n",
            "55 89 144 233 377 \n"
          ]
        }
      ]
    },
    {
      "cell_type": "code",
      "source": [
        "#n=6\n",
        "for i in range(1,10):\n",
        "  for j in range(i):\n",
        "    print('*',end=' ')\n",
        "    #n=n+1\n",
        "  print()"
      ],
      "metadata": {
        "id": "foxpTGSn_2yb",
        "colab": {
          "base_uri": "https://localhost:8080/"
        },
        "outputId": "9629d8ac-612c-4244-e2e0-d21cbed3a2df"
      },
      "execution_count": null,
      "outputs": [
        {
          "output_type": "stream",
          "name": "stdout",
          "text": [
            "* \n",
            "* * \n",
            "* * * \n",
            "* * * * \n",
            "* * * * * \n",
            "* * * * * * \n",
            "* * * * * * * \n",
            "* * * * * * * * \n",
            "* * * * * * * * * \n"
          ]
        }
      ]
    },
    {
      "cell_type": "code",
      "source": [
        "#n=6\n",
        "for i in range(1,10):\n",
        "  for j in range(10-i):\n",
        "    print('*',end=' ')\n",
        "    #i=i+1\n",
        "  print()"
      ],
      "metadata": {
        "colab": {
          "base_uri": "https://localhost:8080/"
        },
        "id": "jNZQW_69DZdc",
        "outputId": "f6a22cec-db73-449b-acfa-992ebf2c8026"
      },
      "execution_count": null,
      "outputs": [
        {
          "output_type": "stream",
          "name": "stdout",
          "text": [
            "* * * * * * * * * \n",
            "* * * * * * * * \n",
            "* * * * * * * \n",
            "* * * * * * \n",
            "* * * * * \n",
            "* * * * \n",
            "* * * \n",
            "* * \n",
            "* \n"
          ]
        }
      ]
    },
    {
      "cell_type": "code",
      "source": [
        "#n=6\n",
        "for i in range(1,10):\n",
        "  for j in range(i):\n",
        "    print(' ',end=' ')\n",
        "  for j in range(10-i):\n",
        "   print('*',end=' ')\n",
        "  #n=n+1 # This line was commented out as it doesn't seem to affect the output pattern\n",
        "  print()"
      ],
      "metadata": {
        "colab": {
          "base_uri": "https://localhost:8080/"
        },
        "id": "lEzU_NmDDtFu",
        "outputId": "424598d8-f9fb-4ddf-c970-ac826378df99"
      },
      "execution_count": null,
      "outputs": [
        {
          "output_type": "stream",
          "name": "stdout",
          "text": [
            "  * * * * * * * * * \n",
            "    * * * * * * * * \n",
            "      * * * * * * * \n",
            "        * * * * * * \n",
            "          * * * * * \n",
            "            * * * * \n",
            "              * * * \n",
            "                * * \n",
            "                  * \n"
          ]
        }
      ]
    },
    {
      "cell_type": "code",
      "source": [
        "for i in range(1,10):\n",
        "  for j in range(10-i):\n",
        "    print(' ',end=' ')\n",
        "  for j in range(i):\n",
        "     print('*',end=' ')\n",
        "  print()"
      ],
      "metadata": {
        "colab": {
          "base_uri": "https://localhost:8080/"
        },
        "id": "xHxOCieHEV29",
        "outputId": "7dfde97a-b7bb-4025-932d-8d5cd0eb6611"
      },
      "execution_count": null,
      "outputs": [
        {
          "output_type": "stream",
          "name": "stdout",
          "text": [
            "                  * \n",
            "                * * \n",
            "              * * * \n",
            "            * * * * \n",
            "          * * * * * \n",
            "        * * * * * * \n",
            "      * * * * * * * \n",
            "    * * * * * * * * \n",
            "  * * * * * * * * * \n"
          ]
        }
      ]
    },
    {
      "cell_type": "code",
      "source": [
        "#n=1\n",
        "for i in range(1,10):\n",
        "  for j in range(i):\n",
        "    print('', end='  ')\n",
        "  for j in range(10-i):\n",
        "    if j==0 or j==i:\n",
        "      print('*',end=' ')\n",
        "    #n=n+1\n",
        "  print()"
      ],
      "metadata": {
        "colab": {
          "base_uri": "https://localhost:8080/"
        },
        "id": "mTBYERx4rR7u",
        "outputId": "0db8cf17-2a7a-43e0-f530-cdc42579c3d2"
      },
      "execution_count": null,
      "outputs": [
        {
          "output_type": "stream",
          "name": "stdout",
          "text": [
            "  * * \n",
            "    * * \n",
            "      * * \n",
            "        * * \n",
            "          * \n",
            "            * \n",
            "              * \n",
            "                * \n",
            "                  * \n"
          ]
        }
      ]
    },
    {
      "cell_type": "code",
      "source": [
        "num=int(input('Enter a number: '))\n",
        "firstnum=num%10\n",
        "lastnum=num\n",
        "sum=0\n",
        "while lastnum>=10:\n",
        "  lastnum=lastnum//10\n",
        "\n",
        "print(\"last num is\",lastnum)\n",
        "print(\"first num is\",firstnum)\n",
        "sum=firstnum+lastnum\n",
        "print(\"sum is\",sum)\n"
      ],
      "metadata": {
        "id": "nO35eoLYtTwb",
        "colab": {
          "base_uri": "https://localhost:8080/"
        },
        "outputId": "167604ca-bf8b-48ec-af73-f480fe983aaa"
      },
      "execution_count": null,
      "outputs": [
        {
          "output_type": "stream",
          "name": "stdout",
          "text": [
            "Enter a number: 123456\n",
            "last num is 1\n",
            "first num is 6\n",
            "sum is 7\n"
          ]
        }
      ]
    },
    {
      "cell_type": "code",
      "source": [
        "n=int(input(\"enter the number\"))\n",
        "rev=0\n",
        "#j=n%10\n",
        "while n>0:\n",
        "  j=n%10\n",
        "  rev=rev*10+j\n",
        "  n=n//10\n",
        "print(rev)"
      ],
      "metadata": {
        "colab": {
          "base_uri": "https://localhost:8080/"
        },
        "id": "w07UpB5sEBSl",
        "outputId": "9e72a673-f8ba-4386-9dbe-ecfa8de64608"
      },
      "execution_count": null,
      "outputs": [
        {
          "output_type": "stream",
          "name": "stdout",
          "text": [
            "enter the number1234567\n",
            "7654321\n"
          ]
        }
      ]
    },
    {
      "cell_type": "code",
      "source": [
        "num=5\n",
        "fact=1\n",
        "for i in range(1,6):\n",
        "  fact=fact*i\n",
        "print(fact)"
      ],
      "metadata": {
        "colab": {
          "base_uri": "https://localhost:8080/"
        },
        "id": "wE2ZaJV5HTdy",
        "outputId": "a60e8f2d-f355-4f2f-e126-45bde01b7696"
      },
      "execution_count": null,
      "outputs": [
        {
          "output_type": "stream",
          "name": "stdout",
          "text": [
            "120\n"
          ]
        }
      ]
    },
    {
      "cell_type": "code",
      "source": [
        "count=0\n",
        "n=10\n",
        "for digit in range(1,n+1):\n",
        "  n//=10\n",
        "  count=count+1\n",
        "  if n<0:\n",
        "    break\n",
        "print(count)\n"
      ],
      "metadata": {
        "colab": {
          "base_uri": "https://localhost:8080/"
        },
        "id": "i2pwObXYICpd",
        "outputId": "40560bfc-b46d-4b0e-a87e-b68f83d6dc12"
      },
      "execution_count": null,
      "outputs": [
        {
          "output_type": "stream",
          "name": "stdout",
          "text": [
            "10\n"
          ]
        }
      ]
    },
    {
      "cell_type": "code",
      "source": [
        "n=int(input(\"enter the digit\"))\n",
        "count=0\n",
        "while (n>0):\n",
        "    n=n//10\n",
        "    count=count+1\n",
        "print(count)"
      ],
      "metadata": {
        "colab": {
          "base_uri": "https://localhost:8080/"
        },
        "id": "53zs0sdBJkHJ",
        "outputId": "3b98d919-6016-423a-fa67-822e2cbb5518"
      },
      "execution_count": null,
      "outputs": [
        {
          "output_type": "stream",
          "name": "stdout",
          "text": [
            "enter the digit12345\n",
            "5\n"
          ]
        }
      ]
    }
  ]
}